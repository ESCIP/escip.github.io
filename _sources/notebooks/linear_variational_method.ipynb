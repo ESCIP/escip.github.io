{
 "cells": [
  {
   "cell_type": "markdown",
   "metadata": {},
   "source": [
    "# Linear Variational Method\n",
    "\n",
    "#### Objectives\n",
    "- To demonstrate the use of the Linear Variational Method to the model system of the particle in a box with a delta potential\n",
    "- To illustrate the impact of basis set size on the variational energy\n",
    "\n",
    "#### Learning Outcomes\n",
    "By the end of this workbook, students should be able to\n",
    "- Implement expressions for Hamiltonian matrix elements of the particle in a box with a delta function potential into simple python code\n",
    "- Express a linear expansion of basis functions as a numpy array\n",
    "- Utilize numpy's matrix-vector operations to compute energy expectation values of different trial wavefunctions\n",
    "- Utilize numpy's `linalg.eigh` function to obtain eigenvalues and eigenvectors of a Hamiltonian matrix\n",
    "- Plot the variational ground-state wavefunction using `pyplot`\n",
    "\n",
    "\n",
    "#### Summary\n",
    "We will apply the Linear Variational Method to the particle in a box of length $10$ atomic units \n",
    "with a delta function potential centered at $x=5$ atomic units. We will plot the delta function potential \n",
    "in the next cell using the python library `matplotlib` and the special function from the `scipy` library called\n",
    "`signal.unit_impulse` that can create a delta function.\n",
    "\n",
    "\n"
   ]
  },
  {
   "cell_type": "code",
   "execution_count": 1,
   "metadata": {},
   "outputs": [
    {
     "data": {
      "image/png": "[encoded data removed]",
      "text/plain": [
       "<Figure size 640x480 with 1 Axes>"
      ]
     },
     "metadata": {},
     "output_type": "display_data"
    }
   ],
   "source": [
    "import numpy as np\n",
    "import scipy\n",
    "from matplotlib import pyplot as plt\n",
    "\n",
    "# create an array of x-values between 0 and 10\n",
    "x = np.linspace(0, 10, 500)\n",
    "\n",
    "# create the delta function potential.  Need to specify that it will be in the middle \n",
    "# of 500 samples along x.  We will scale this by the amplitude of the normalized energy \n",
    "# eigenstates so that this potential appears on the same scale as the eigenfunctions\n",
    "V_x = scipy.signal.unit_impulse(500, idx='mid') * np.sqrt(2/10)\n",
    "\n",
    "# now plot V_x against x\n",
    "plt.plot(x, V_x, color='red', label=\"Potential\")\n",
    "plt.xlabel(\"Position (atomic units)\")\n",
    "plt.ylabel(\"Potential (atomic units)\")\n",
    "plt.legend()\n",
    "plt.show()"
   ]
  },
  {
   "cell_type": "markdown",
   "metadata": {},
   "source": [
    "# Approach\n",
    "We can write the Hamiltonian for this system between $x=0$ and $x=10$ as follows:\n",
    "\n",
    "$$\\hat{H} = -\\frac{\\hbar^2}{2m} \\frac{d^2}{dx^2} + \\delta(x-5), $$\n",
    "and we notice that this looks very similar to the Hamiltonian we know from the ordinary particle in a box\n",
    "except for the presence of this peculiar spikey potential right in the middle of the box.  We could try to find [the exact eigenfunctions for this Hamiltonian](https://arxiv.org/pdf/1001.0311.pdf), but we can also obtain insights and reasonably good results utilizing approximate methods, such as the [Variational Method](https://chem.libretexts.org/Bookshelves/Physical_and_Theoretical_Chemistry_Textbook_Maps/Supplemental_Modules_(Physical_and_Theoretical_Chemistry)/Quantum_Mechanics/17%3A_Quantum_Calculations/Variational_Method#:~:text=The%20Variational%20Method%20is%20a,the%20known%20and%20approximated%20energies) or [Perturbation Theory](https://chem.libretexts.org/Bookshelves/Physical_and_Theoretical_Chemistry_Textbook_Maps/Book%3A_Quantum_States_of_Atoms_and_Molecules_(Zielinksi_et_al)/09%3A_The_Electronic_States_of_the_Multielectron_Atoms/9.03%3A_Perturbation_Theory).  Here we will use the Variational Method.\n",
    "\n",
    "#### Form of the trial wavefunction\n",
    "In particular, we will optimize the trial wavefunction given by \n",
    "\\begin{equation}\n",
    "\\Phi(x) = \\sum_{n=1}^N c_n \\psi_n(x)\n",
    "\\end{equation}\n",
    "where the expansion coefficients $c_n$ are real numbers\n",
    "and $\\psi_n(x)$ are the energy eigenfunctions of the ordinary particle in a box that has no potential\n",
    "between $x=0$ and $x=L$.  In particular, these eigenfunctions have the form\n",
    "\\begin{equation}\n",
    "\\psi_n(x) = \\sqrt{\\frac{2}{10} } {\\rm sin}\\left(\\frac{n \\pi x}{10} \\right).\n",
    "\\end{equation}\n",
    "\n",
    "#### Form of the energy functional\n",
    "We will seek to minimize the energy functional through the expansion coefficients, where the\n",
    "energy functional can be written as\n",
    "\\begin{equation}\n",
    "E[\\Phi(x)] = \\frac{\\int_0^{10} \\Phi^* (x) \\: \\hat{H} \\: \\Phi(x) dx }{\\int_0^{10} \\Phi^* (x) \\: \\Phi(x) dx },\n",
    "\\end{equation}\n",
    "where we have recognized that the boundaries of the box are at $x=0$ and $x=10$, so our range of integration\n",
    "goes between these boundaries.\n",
    "\n",
    "#### Atomic Units\n",
    "We will express our Hamiltonian in atomic units where $\\hbar = 1$ and $m = 1$, so we can write the Hamiltonian in \n",
    "this unit system as:\n",
    "\\begin{equation}\n",
    "\\hat{H} = -\\frac{1}{2} \\frac{d^2}{dx^2} + \\delta(x-5).\n",
    "\\end{equation}\n",
    "\n",
    "\n",
    "$E[\\Phi(x)]$ can be expanded as\n",
    "\\begin{equation}\n",
    "E[\\Phi(x)] \\sum_{n=1}^N \\sum_{m=1}^N c^*_n c_m S_{nm} = \\sum_{n=1}^N \\sum_{m=1}^N c^*_n c_m H_{nm}\n",
    "\\end{equation}\n",
    "where \n",
    "\\begin{equation}\n",
    "S_{nm} = \\int_0^L \\psi^*_n(x) \\psi_m(x) dx = \\delta_{nm}\n",
    "\\end{equation}\n",
    "and\n",
    "\\begin{equation}\n",
    "H_{nm} = \\int_0^L \\psi^*_n(x) \\hat{H} \\psi_m(x) dx. \n",
    "\\end{equation}\n",
    "In the equation for $S_{nm}$, $\\delta_{nm}$ is called the Kronecker delta function, and it is equal to 1 if $n = m$ and 0 if $n \\neq m$.\n",
    "Because the particle in a box energy eigenfunctions are real functions, and because we specified we would use\n",
    "real expansion coefficients, we can recognize that $c_n^* = c_n$ and $\\psi_n^*(x) = \\psi_n(x)$, so we \n",
    "will not use the complex conjugate notation going forward.\n",
    "\n",
    "### Questions Part 1:\n",
    "1. Work out a general expression for the integrals $H_{nm}$\n",
    "2. Write a python function `Hamiltonian_matrix_element(n,m)` that takes the indices $n$ and $m$ and returns\n",
    "the value of the integral $H_{nm}$.  Skeleton code for this function follows.  Two helper functions are provided: \n",
    "    - `def energy_eigenvalue(n, L, m)` that can provide the energy eigenvalues of the ordinary particle in a box for energy eigenstate $n$, length $L$, and mass $m$\n",
    "    - `def energy_eigenfunction(n, L, x)` that can provide the value(s) of the energy eigenfunction of the ordinary particle in a box for energy eigenstate $n$ with length $L$ evaluated at x-value(s) $x$.\n",
    "3. **(Bonus)** Show that differentiating the energy functional with respect to all coefficients and setting the derivative to zero results in the following set of equations:\n",
    "\\begin{equation}\n",
    "\\sum_n^N H_{nm} c_n = E[\\Phi(x)] c_m\n",
    "\\end{equation}\n",
    "This can be written as an eigenvalue equation\n",
    "\\begin{equation}\n",
    "{\\bf H} {\\bf c} = E {\\bf c},\n",
    "\\end{equation}\n",
    "where ${\\bf H}$ is the matrix whose elements are given by $H_{nm}$ and ${\\bf c}$ is the vector of coefficients."
   ]
  },
  {
   "cell_type": "code",
   "execution_count": 2,
   "metadata": {},
   "outputs": [],
   "source": [
    "def energy_eigenvalue(n, L, m):\n",
    "    \"\"\" Function to take the quantum number n of the particle in a box, the length \n",
    "        of the box L, and the mass of the particle m and return the energy eigenvalue in atomic units.\n",
    "        Both the length and mass should be in atomic units.\n",
    "        \n",
    "    Arguments\n",
    "    ---------\n",
    "    n : int\n",
    "        the quantum state of the particle in a box\n",
    "        \n",
    "    L : float\n",
    "        the length of the box in atomic units\n",
    "    m : float\n",
    "        the mass of the particle in atomic units\n",
    "    \"\"\"\n",
    "        \n",
    "    return n ** 2 * np.pi ** 2 / ( 2 * m * L ** 2)\n",
    "\n",
    "def energy_eigenfunction(n, L, x):\n",
    "    \"\"\" Function to take the quantum number n of the particle in a box, the length \n",
    "        of the box L, and x-coordinate value(s) (single value or list) and return the corresponding\n",
    "        energy eigenstate value(s) of the ordinary particle in a box\n",
    "        \n",
    "    Arguments\n",
    "    ---------\n",
    "    n : int\n",
    "        the quantum state of the particle in a box      \n",
    "    L : float\n",
    "        the length of the box in atomic units\n",
    "    x : float (or numpy array of floats)\n",
    "        the position variable for the energy eigenstate in atomic units\n",
    "    \"\"\"\n",
    "    return np.sqrt(2 / L) * np.sin(n * np.pi * x / L)\n",
    "\n",
    "def Hamiltonian_matrix_element(n, m):\n",
    "    \"\"\" Function to take two indices (n, m) and return the Hamiltonian matrix element H_{n,m}, \n",
    "        which is <n|H|m> in Dirac's Bra-Ket notation.\n",
    "    \n",
    "    Arguments\n",
    "    ---------\n",
    "    n : int\n",
    "        the index corresponding to the bra state\n",
    "    m : int\n",
    "        the index corresponding to the ket state \n",
    "        \n",
    "    Returns\n",
    "    -------\n",
    "    H_mn : float\n",
    "         the matrix element corresponding to <n|H|m>\n",
    "         \n",
    "    Example\n",
    "    -------\n",
    "    >>> H_12 = Hamiltonian_matrix_element(1,2)\n",
    "    >>> H_33 = Hamiltonian_matrix_element(3,3)\n",
    "    \n",
    "    Notes\n",
    "    -----\n",
    "    if n == m, you need to include kinetic and potential contributions of <n|H|n>.\n",
    "    e.g. <n|H|n> = <n|T|n> + <n|V|n> = <n|E_n|n> + <n|V|n> = E_n<n|n> + <n|V|n> = E_n + <n|V|n>\n",
    "    where E_n is the energy eigenvalue of the ordinary particle in a box state \\psi_n(x)\n",
    "    \n",
    "    if n != m, you need to include only the potential contribution <n|V|m>.\n",
    "    \n",
    "    \"\"\"\n",
    "    H_nm = 0\n",
    "    if n==m:\n",
    "        #<-  code to compute E_n + <n|V|n>\n",
    "        H_nm = energy_eigenvalue(n, 10, 1) + energy_eigenfunction(n, 10, 5) ** 2       \n",
    "    else:\n",
    "        #<- code to compute <n|V|m>\n",
    "        H_nm = energy_eigenfunction(n, 10, 5) * energy_eigenfunction(m, 10, 5)\n",
    "    return H_nm"
   ]
  },
  {
   "cell_type": "markdown",
   "metadata": {},
   "source": [
    "Create an array called `Hamiltonian_matrix` that can be used to store the Hamiltonian matrix elements.  We can start by considering a trial wavefunction that is an expansion of the first 3 PIB energy eigenfunctions, so our Hamiltonian in this case should be a 3x3 matrix."
   ]
  },
  {
   "cell_type": "markdown",
   "metadata": {},
   "source": [
    "You can use two nested `for` loops along with your `Hamiltonian_matrix_element(n,m)` function to fill out the values of this matrix."
   ]
  },
  {
   "cell_type": "code",
   "execution_count": 3,
   "metadata": {},
   "outputs": [],
   "source": [
    "# set the number of basis functions - start with 3, can add more later!\n",
    "n_basis = 3\n",
    "# initialize Hamiltonian_matrix as (n_basis x n_basis) array of zeros\n",
    "Hamiltonian_matrix = np.zeros((n_basis, n_basis))\n",
    "\n",
    "# loop over indices of the basis you are expanding in\n",
    "# and compute and store the corresponding Hamiltonian matrix elements\n",
    "for i in range(n_basis):\n",
    "    n = i + 1 # i starts from 0 but n should start at 1\n",
    "    for j in range(n_basis):\n",
    "        m = j + 1 # j starts at 0 but m should start at 1\n",
    "        Hamiltonian_matrix[i, j] = Hamiltonian_matrix_element(n, m)\n",
    "\n",
    "# Uncomment to print the resulting Hamiltonian matrix\n",
    "#print(Hamiltonian_matrix)"
   ]
  },
  {
   "cell_type": "markdown",
   "metadata": {},
   "source": [
    "Before systematically identifying the optimal coefficients, it is instructive to try a few \"trial\" wavefunctions \"by hand\".  A few suggestions include:\n",
    "\\begin{equation}\n",
    "{\\bf c} = \\left(1, 0, 0 \\right) \\;  {\\bf c} = \\left(0, 1, 0 \\right) \\: {\\bf c} = \\left(0, 0, 1 \\right)\n",
    "\\end{equation}\n",
    "\\begin{equation}\n",
    "{\\bf c} = \\left(\\sqrt{1/2}, \\sqrt{1/2}, 0 \\right) \\;  {\\bf c} = \\left(0, \\sqrt{1/2}, \\sqrt{1/2} \\right) \\: {\\bf c} = \\left(\\sqrt{1/2}, 0, \\sqrt{1/2} \\right)\n",
    "\\end{equation}\n",
    "\n",
    "In Matrix form, the energy functional can be computed as follows:\n",
    "\\begin{equation}\n",
    "E = {\\bf c}^t {\\bf H} {\\bf c}\n",
    "\\end{equation}\n",
    "where ${\\bf c}^t$ is just the transpose of ${\\bf c}$.  Using numpy, this can be done with the Hamiltonian matrix defined abouve and a vector ${\\bf c} = \\left(1, 0, 0 \\right)$ as follows: "
   ]
  },
  {
   "cell_type": "code",
   "execution_count": 4,
   "metadata": {},
   "outputs": [
    {
     "name": "stdout",
     "output_type": "stream",
     "text": [
      "The energy expectation value of the ground-state of the ordinary PIB wavefunction is 0.24934802200544676 atomic units.\n"
     ]
    }
   ],
   "source": [
    "# create an empty numpy array for the c vector\n",
    "c = np.zeros(n_basis)\n",
    "\n",
    "# assign c vector to be (1, 0, 0,...,0)\n",
    "c[0] = 1\n",
    "\n",
    "# compute Hamiltonian_matrix * c and store it to a new array called Hc\n",
    "Hc = np.dot(Hamiltonian_matrix, c)\n",
    "\n",
    "# compute c^t * Hc and store it to a variable E_psi_1\n",
    "E_psi_1 = np.dot(np.transpose(c),Hc)\n",
    "\n",
    "# print the result\n",
    "print(F'The energy expectation value of the ground-state of the ordinary PIB wavefunction is {E_psi_1} atomic units.')\n"
   ]
  },
  {
   "cell_type": "markdown",
   "metadata": {},
   "source": [
    "#### Experimenting with different trials wavefunctions\n",
    "Continue evaluating the energy of different trial wavefunctions by changing the values of the ${\\bf c}$ vector and repeating the calculation above.  Does increasing the contribution of excited states impact the energy as you expect?  Explain why you think this is the case.\n",
    "\n",
    "#### Variational optimization\n",
    "\n",
    "#### Practical implementation of the variational method\n",
    "Since we see that the linear Variational Method can be cast as an eigenvalue equation ${\\bf H} {\\bf c} = E {\\bf c}$, \n",
    "we can find the Variational ground-state energy and wavefunction through the following steps:\n",
    "- Build the matrix ${\\bf H}$; we will do this in the basis of energy eigenfunctions of the ordinary particle in a box\n",
    "- Diagonalize ${\\bf H}$; the lowest eigenvalue will be the variational approximation to the ground-state energy and the corresponding eigenvector will represent the expansion coeefficients for the variational ground-state wavefunction in terms of the basis functions.\n",
    "\n",
    "We can use `np.linalg.eigh()` to diagonalize the Hamiltonian matrix."
   ]
  },
  {
   "cell_type": "code",
   "execution_count": 5,
   "metadata": {},
   "outputs": [
    {
     "name": "stdout",
     "output_type": "stream",
     "text": [
      "The variational ground state energy with 3 basis functions is 0.165735 atomic units\n",
      "This result is 0.083613 atomic units lower than if we used \\psi_1 as a trial wavefunction.\n"
     ]
    }
   ],
   "source": [
    "# compute eigenvalues and eigenvectors of Hamiltonian_matrix\n",
    "# store eigenvalues to E_opt and eigenvectors to c_opt\n",
    "E_opt, c_opt = np.linalg.eigh(Hamiltonian_matrix)\n",
    "\n",
    "# print lowest eigenvalues corresponding to the \n",
    "# variational estimate of the ground state energy\n",
    "print(F'The variational ground state energy with {n_basis} basis functions is {E_opt[0]:.6f} atomic units')\n",
    "# see how this corresponds to the energy expectation value of the ground state of the ordinary particle in a box,\n",
    "# <1|H|1>\n",
    "print(F'This result is {E_psi_1-E_opt[0]:.6f} atomic units lower than if we used \\psi_1 as a trial wavefunction.')\n",
    "\n"
   ]
  },
  {
   "cell_type": "markdown",
   "metadata": {},
   "source": [
    "#### Visualizing the variational ground-state\n",
    "Now that we have the variational eigenvectors (along with the eigenvalues), we can visualize the \n",
    "variational ground-state wavefunction by expanding it in terms of the basis functions $\\psi_n(x)$ using\n",
    "the expansion coefficients from the ground-state eigenvector:\n",
    "$$ \\Phi(x) = \\sum_n c_n \\psi_n(x). $$\n",
    "The ground-state eigenvector can be accessed as a slice of `c_opt` as follows:\n",
    "`c_opt[:,0]`\n",
    "\n",
    "We will build a numpy array of values from this expansion and plot it using `pyplot`."
   ]
  },
  {
   "cell_type": "code",
   "execution_count": 6,
   "metadata": {},
   "outputs": [
    {
     "data": {
      "text/plain": [
       "<matplotlib.legend.Legend at 0x166613280>"
      ]
     },
     "execution_count": 6,
     "metadata": {},
     "output_type": "execute_result"
    },
    {
     "data": {
      "image/png": "[encoded data removed]",
      "text/plain": [
       "<Figure size 640x480 with 1 Axes>"
      ]
     },
     "metadata": {},
     "output_type": "display_data"
    }
   ],
   "source": [
    "# initialize a numpy array for Phi_gs as an array of zeros with the same length as the x-axis used in the first cell\n",
    "Phi_gs = np.zeros_like(x)\n",
    "\n",
    "# loop through the basis states and add c_n \\psi_n(x) to Phi_gs \n",
    "for i in range(n_basis):\n",
    "    n = i + 1\n",
    "    Phi_gs += c_opt[i,0] * energy_eigenfunction(n, 10, x)\n",
    "    \n",
    "# now plot the variational ground state along with the ground-state of the ordinary PIB\n",
    "plt.plot(x, Phi_gs ** 2, \"blue\", label=\"Variational ground-state\")\n",
    "plt.plot(x, energy_eigenfunction(1, 10, x) ** 2, \"red\", label=\"PIB ground state\")\n",
    "# optionally plot the delta potential\n",
    "#plt.plot(x, V_x, \"purple\", label=\"Potential\")\n",
    "plt.legend()"
   ]
  },
  {
   "cell_type": "markdown",
   "metadata": {},
   "source": [
    "### Questions Part 2:\n",
    "1.  Is the energy you calculated above higher or lower than the ground state energy of the ordinary particle in a box system (without the delta function potential)?\n",
    "2.  Why do you think mixing in functions that correspond to excited states in the ordinary particle in a box system actually helped to improve (i.e. lower) your energy in the system with the delta function potential?\n",
    "3.  Increase the number of basis functions to 50 (so that ${\\bf H}$ is a 50x50 matrix and ${\\bf c}$ is a vector with 50 entries) and repeat your calculation of the variational estimate of the ground state energy.  Does the energy improve (lower) compared to what it was when 3 basis functions were used?"
   ]
  }
 ],
 "metadata": {
  "kernelspec": {
   "display_name": "Python 3 (ipykernel)",
   "language": "python",
   "name": "python3"
  },
  "language_info": {
   "codemirror_mode": {
    "name": "ipython",
    "version": 3
   },
   "file_extension": ".py",
   "mimetype": "text/x-python",
   "name": "python",
   "nbconvert_exporter": "python",
   "pygments_lexer": "ipython3",
   "version": "3.9.13"
  },
  "vscode": {
   "interpreter": {
    "hash": "2463cbcb379b8a49ed799784d6e0033fd634b3823d327a76d1d60741708bab10"
   }
  }
 },
 "nbformat": 4,
 "nbformat_minor": 2
}
