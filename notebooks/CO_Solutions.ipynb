{
 "cells": [
  {
   "cell_type": "markdown",
   "metadata": {},
   "source": [
    "# Run this cell before beginning!"
   ]
  },
  {
   "cell_type": "code",
   "execution_count": 65,
   "metadata": {},
   "outputs": [],
   "source": [
    "import numpy as np\n",
    "from scipy import constants\n",
    "import matplotlib.pyplot as plt\n",
    "\n",
    "# prefix url for data files that students will upload\n",
    "_url_prefix = \"https://raw.githubusercontent.com/FoleyLab/data_repository/main/CO_Spectroscopic_data/\"\n",
    "fund_url = \"https://raw.githubusercontent.com/FoleyLab/data_repository/main/CO_Spectroscopic_data/CO_fundamental_reference_data.csv\"\n",
    "over_url = \"https://raw.githubusercontent.com/FoleyLab/data_repository/main/CO_Spectroscopic_data/CO_overtone_reference_data.csv\"\n",
    "\n",
    "reference_fundamental = np.loadtxt(fund_url,  delimiter=',')\n",
    "reference_overtone = np.loadtxt(over_url, delimiter=',')\n",
    "\n",
    "# fundamental\n",
    "x_f = reference_fundamental[:,1]\n",
    "y_f = reference_fundamental[:,0]\n",
    "\n",
    "# overtone\n",
    "x_o = reference_overtone[:,1]\n",
    "y_o = reference_overtone[:,0]\n",
    "\n",
    "def extract_fit(x, y):\n",
    "    \"\"\" \n",
    "    Fit a 3rd order polynomial to the data\n",
    "    and return a dictionary containing the\n",
    "    coefficients and the polynomial\n",
    "    evaluated along a grid of 100 points\n",
    "    \"\"\"\n",
    "    \n",
    "    # fit polynomial\n",
    "    coeffs = np.polyfit(x, y, 3)\n",
    "    \n",
    "    # Create a new x array for the fitted curve\n",
    "    x_fit = np.linspace(x[0], x[-1], 100)\n",
    "    \n",
    "    # Evaluate the fitted curve at the new x value\n",
    "    y_fit = np.polyval(coeffs, x_fit)\n",
    "    \n",
    "    # save data to a dictionary for returning\n",
    "    fit_dict = {\n",
    "      \"a0\" : coeffs[3],\n",
    "      \"a1\" : coeffs[2],\n",
    "      \"a2\" : coeffs[1],\n",
    "      \"a3\" : coeffs[0],\n",
    "      \"x-fit\" : x_fit,\n",
    "      \"y-fit\" : y_fit\n",
    "    }\n",
    "    return fit_dict\n",
    "\n",
    "# constants Need to make this into an equation\n",
    "_reference_mu_co = 1.1385e-26\n",
    "_reference_mass_C12 = 1.99e-26\n",
    "_reference_mass_O16 = 2.656e-26\n",
    "_reference_c_cms = constants.c * 100\n",
    "_reference_a0_f = 2143.171485982746\n",
    "_reference_a1_f = 3.827299147549099\n",
    "_reference_a2_f = -0.017506389984474735\n",
    "_reference_a3_f = -2.4242926671882393e-05\n",
    "_reference_a0_o = 4259.893036825371\n",
    "_reference_a1_o = 3.8102013196431637\n",
    "_reference_a2_o = -0.03501022213904199\n",
    "_reference_a3_o = -2.5410406073979986e-05\n",
    "_reference_alpha_f = 0.017506389984477955\n",
    "_reference_alpha_o = 0.035010222139057766\n",
    "_reference_Be_f = 1.9311559637590645\n",
    "_reference_Be_o = 1.940110881960663\n",
    "_reference_De_f = 6.060731667962634e-06\n",
    "_reference_De_o = 6.352601518484235e-06\n",
    "_reference_I_f = 1.4495334591456917e-46 \n",
    "_reference_I_o = 1.4428428861079222e-46\n",
    "_reference_req_f = 1.1283597989456911e-10 \n",
    "_reference_req_o = 1.1257527169485772e-10\n",
    "\n"
   ]
  },
  {
   "cell_type": "markdown",
   "metadata": {
    "id": "4M-Tpx0NZnqg"
   },
   "source": [
    "# Extracting the spectroscopic parameters from spectral data\n",
    "## The Rotation-Vibration Spectrum of a diatomic molecule\n",
    "1. Read experimental data from .txt file\n",
    "    * 3 files (fundamental C-12, Fund. C-13, overtone C-12)\n",
    "    * Students must set up a file in x,y format with headers m & Wavenumbers (cm^-1)\n",
    "2. Fit a cubic polynomial to the data\n",
    "3. Use fitting parameters to calculate stuff\n",
    "4. propagate error from fitting parameter uncertainties\n",
    "\n",
    "\n",
    "\n",
    "# Introduction\n",
    "\n",
    "By the end of the experiment, students will be able to:\n",
    "\n",
    "* Set up appropriate parameters for FITR using a gas manifold to fill gas cell.\n",
    "* Identify R and P branches in IR spectra\n",
    "* Identify and label m values for IR spectra\n",
    "* Use python coding to create equations to fit data and calculate results\n",
    "* Calculate bond length, α, $B_e$ , D for C-O for harmonic oscillator model, for C-12 & C-13 and for the first overtone\n",
    "* Calculate the anharmonicity and discuss the limitations of the harmonic oscillator model\n",
    "* Compare experimental values of bond length, $B_e$, and D to theoretical values found from fitting the Morse Pontential from computational data\n",
    "* Propagate error from fitting parameters to determine the uncertainty of computed values and determine the source of highest error.\n",
    "\n",
    "\n",
    "\n",
    "Even a system as simple as a diatomic molecule cannot be solved exactly using quantum mechanics. In general, there are two approaches to obtain theoretical descriptions that can relate the structure of a molecular system to experimentally observed properties. For one, computational methods can provide accurate predictions of molecular structure, but the complexity of these methods doesn’t give much insight into structure-property correlations. A second approach is the use of models – simple representations that approximate an actual molecular system and provide accurate descriptions of a broad range of similar systems. A good example is the description of conjugated dye molecules in Exp. 10 using the particle-in-a-box model. This model leads to a simple equation that qualitatively describes the energy levels of dye molecules and how they vary with the length of the conjugated system. But one must understand the approximations inherent in a given model and the resulting limitations in its application.\n",
    "\n",
    "Before choosing a model to represent a gas phase diatomic molecule we note that, as for the computational approach, the starting point is the Born-Oppenheimer approximation which considers the motions of the electrons and nuclei in the molecule separately. The electronic structure is determined first to establish a potential energy surface that determines the much slower motions of the nuclei. The molecule can then be rendered as shown in Fig. 1 as two masses separated by an average distance $r_e$. The molecule can undergo vibrational motion, small oscillations of the internuclear distance $r$ about $r_e$, and also free rotation described by angles $\\theta$ and $\\phi$.\n",
    "\n",
    "*Insert Figure 1 here.\n",
    "\n",
    "Each motion contributes to the total energy of the molecule, the changes in which can be observed through absorption of electromagnetic radiation in the infrared range. There is also an electronic contribution to the energy, but it does not change when the molecule is exposed to infrared radiation and so need not be considered explicitly. We initially assume that vibrational and rotational energies are independent:\n",
    "\n",
    "\\begin{equation}\n",
    "E = E_{vib} + E_{rot} \\tag{1}\n",
    "\\end{equation}\n",
    "\n",
    "This assumption allows us to separate vibrational and rotational variables and solve the Schrödinger equation independently for each type of motion.\n",
    "\n",
    "\n",
    "\n",
    "\n",
    "\n",
    "\n",
    "\n"
   ]
  },
  {
   "cell_type": "markdown",
   "metadata": {
    "id": "iNvFkGihPnLM"
   },
   "source": [
    "# Uploading your data\n",
    "Insert directions for mac and PC for uploading data from desktop\n",
    "* Must be .csv file with the format of wavenumber, m-value\n",
    "* File should not have a header, but should start with the first line of data\n",
    "* File should not have a new-line or carriage return after the final value of data"
   ]
  },
  {
   "cell_type": "markdown",
   "metadata": {
    "id": "8sCKZsCeavdx"
   },
   "source": [
    "After you have uploaded your data to [this folder], update the file name variables below."
   ]
  },
  {
   "cell_type": "code",
   "execution_count": 66,
   "metadata": {
    "id": "yjiInp5lbCIk"
   },
   "outputs": [],
   "source": [
    "\n",
    "fund_url = \"https://raw.githubusercontent.com/FoleyLab/data_repository/main/CO_Spectroscopic_data/CO_fundamental_reference_data.csv\"\n",
    "over_url = \"https://raw.githubusercontent.com/FoleyLab/data_repository/main/CO_Spectroscopic_data/CO_overtone_reference_data.csv\""
   ]
  },
  {
   "cell_type": "code",
   "execution_count": 68,
   "metadata": {
    "colab": {
     "base_uri": "https://localhost:8080/",
     "height": 506
    },
    "id": "i0nMXUmzcDMJ",
    "outputId": "70c3cb95-a56e-4ac3-a4c0-8872ae9d301d"
   },
   "outputs": [
    {
     "data": {
      "image/png": "[encoded data removed]",
      "text/plain": [
       "<Figure size 640x480 with 1 Axes>"
      ]
     },
     "metadata": {},
     "output_type": "display_data"
    },
    {
     "data": {
      "image/png": "[encoded data removed]",
      "text/plain": [
       "<Figure size 640x480 with 1 Axes>"
      ]
     },
     "metadata": {},
     "output_type": "display_data"
    }
   ],
   "source": [
    "data_f = np.loadtxt(fund_url,  delimiter=',')\n",
    "data_o = np.loadtxt(over_url, delimiter=',')\n",
    "\n",
    "# fundamental\n",
    "x_f = data_f[:,1]\n",
    "y_f = data_f[:,0]\n",
    "\n",
    "# overtone\n",
    "x_o = data_o[:,1]\n",
    "y_o = data_o[:,0]\n",
    "\n",
    "\n",
    "# extract parameters from data\n",
    "fund_dict = extract_fit(x_f, y_f)\n",
    "over_dict = extract_fit(x_o, y_o)\n",
    "\n",
    "\n",
    "# get lines of best fit from data\n",
    "x_f_fit = fund_dict[\"x-fit\"]\n",
    "y_f_fit = fund_dict[\"y-fit\"]\n",
    "\n",
    "x_o_fit = over_dict[\"x-fit\"]\n",
    "y_o_fit = over_dict[\"y-fit\"]\n",
    "\n",
    "\n",
    "\n",
    "# Plot the data and the fitted curve\n",
    "plt.plot(x_f, y_f, 'o', label='Fundamental Data')\n",
    "plt.plot(x_f_fit, y_f_fit, '--', label='Fundamental Fit')\n",
    "plt.legend()\n",
    "plt.show()\n",
    "\n",
    "# Plot the data and the fitted curve\n",
    "plt.plot(x_o, y_o, 'o', label='Overtone Data')\n",
    "plt.plot(x_o_fit, y_o_fit, '--', label='Overtone Fit')\n",
    "plt.legend()\n",
    "plt.show()\n"
   ]
  },
  {
   "cell_type": "markdown",
   "metadata": {
    "id": "t-D7SRLlz_UT"
   },
   "source": [
    "*Good place to make the students comment on the energy level difference, good visual*\n",
    "\n",
    "We will now compute rotational and vibrational parameters from this fit.\n",
    "The following block will store the polynomial coefficients from the fundamental, overtone, and isotope\n",
    "data.  We have a cubic polynomial fit to each data set as follows:\n",
    "\n",
    "$$ \\bar{\\nu} = a_0 + a_1 m + a_2 m^2 + a_3 m^3 $$ \n",
    "\n",
    "We will associate the coefficients from the fundamental data as follows:\n",
    "\n",
    "$a_n \\rightarrow $ `an_f`\n",
    "\n",
    "from the overtone data as\n",
    "\n",
    "$a_n \\rightarrow $ `an_o`\n",
    "\n",
    "and from the isotope data as\n",
    "\n",
    "$a_n \\rightarrow $ `an_i`\n"
   ]
  },
  {
   "cell_type": "code",
   "execution_count": 37,
   "metadata": {
    "id": "yZ4OHRMUaNoE"
   },
   "outputs": [
    {
     "name": "stdout",
     "output_type": "stream",
     "text": [
      "4259.893036825371\n",
      "3.8102013196431637\n",
      "-0.03501022213904199\n",
      "-2.5410406073979986e-05\n"
     ]
    }
   ],
   "source": [
    "a0_f = fund_dict[\"a0\"]\n",
    "a1_f = fund_dict[\"a1\"]\n",
    "a2_f = fund_dict[\"a2\"]\n",
    "a3_f = fund_dict[\"a3\"]\n",
    "\n",
    "a0_o = over_dict[\"a0\"]\n",
    "a1_o = over_dict[\"a1\"]\n",
    "a2_o = over_dict[\"a2\"]\n",
    "a3_o = over_dict[\"a3\"]\n",
    "\n",
    "# need isotope data\n",
    "print(a0_o)\n",
    "print(a1_o)\n",
    "print(a2_o)\n",
    "print(a3_o)"
   ]
  },
  {
   "cell_type": "markdown",
   "metadata": {},
   "source": [
    "Next we will complete some functions that will to enable us to compute various rotational and vibrational properties. The format for this section is as follows:\n",
    "\n",
    "1. We will provide the relevant equation\n",
    "2. We will provide a related function template with documentation that you must complete with python code that implements the relevant equation\n",
    "3. We will provide a block of code to be completed that calls the relevant function on your stored data to compute properties from your data."
   ]
  },
  {
   "cell_type": "markdown",
   "metadata": {
    "id": "lA0iGGzvkxCl"
   },
   "source": [
    "A.  Implement a function to compute reduced mass based on the equation\n",
    "\n",
    "$$ \\mu = \\frac{m_A m_B}{m_A + m_B} $$"
   ]
  },
  {
   "cell_type": "code",
   "execution_count": 27,
   "metadata": {
    "id": "rVi8fOpvp-JW"
   },
   "outputs": [],
   "source": [
    "def compute_reduced_mass(mass_a, mass_b):\n",
    "    \"\"\"\n",
    "    Compute reduced mass using this formula\n",
    "    \n",
    "    mu = mass_a * mass_b / (mass_a + mass_b)\n",
    "    \n",
    "    Arguments\n",
    "    ---------\n",
    "    mass_a : float\n",
    "        the mass of atom a in kg (e.g. mass of C) \n",
    "        \n",
    "    mass_b : float\n",
    "        the mass of atom b in kg (e.g. mass of O)\n",
    "    \n",
    "    Returns\n",
    "    -------\n",
    "    mu : float\n",
    "        the reduced mass of the diatomic (e.g. reduced mass of CO)\n",
    "    \"\"\"\n",
    "    \n",
    "    #<== insert code to compute mu here\n",
    "    mu = mass_a * mass_b / (mass_a + mass_b)\n",
    "    return mu\n",
    "\n",
    "\n",
    "assert np.isclose(compute_reduced_mass(_reference_mass_C12, _reference_mass_O16) * 1e20, _reference_mu_co * 1e20)"
   ]
  },
  {
   "cell_type": "markdown",
   "metadata": {},
   "source": [
    "Define the mass of $^{12}$C and $^{16}$O in kilograms and store to the variables `mass_C12` and `mass_O16`\n",
    "and then call the `compute_reduced_mass()` function on those two masses and store the output to \n",
    "`mu_CO`."
   ]
  },
  {
   "cell_type": "code",
   "execution_count": 38,
   "metadata": {},
   "outputs": [
    {
     "name": "stdout",
     "output_type": "stream",
     "text": [
      "1.1376323719328456e-26\n"
     ]
    }
   ],
   "source": [
    "#<== assign mass of carbon 12 here \n",
    "mass_C12 = _reference_mass_C12\n",
    "\n",
    "#<== assign mass of oxygen 16 here \n",
    "mass_O16 = _reference_mass_O16\n",
    "\n",
    "#<== compute reduced mass of CO here \n",
    "mu_CO = compute_reduced_mass(mass_C12, mass_O16)\n",
    "\n",
    "\n",
    "print(mu_CO)\n",
    "assert np.isclose(mu_CO * 1e20, _reference_mu_co * 1e20)"
   ]
  },
  {
   "cell_type": "markdown",
   "metadata": {
    "id": "tnZzNlp5gj1p"
   },
   "source": [
    "$$ \\alpha = -a_2 $$\n"
   ]
  },
  {
   "cell_type": "code",
   "execution_count": 39,
   "metadata": {},
   "outputs": [],
   "source": [
    "def compute_alpha(a_2):\n",
    "    \"\"\"\n",
    "    Compute the \\alpha value from a given a_2 value using the formula\n",
    "    alpha = - a_2\n",
    "    \n",
    "    Arguments\n",
    "    ---------\n",
    "    a_2 : float\n",
    "        the quadratic coefficient a_2 from your polynomial fit\n",
    "    \n",
    "    Returns\n",
    "    -------\n",
    "    alpha : float\n",
    "        The quadratic contribution to the rotational constant \n",
    "    \"\"\"\n",
    "    \n",
    "    #<== insert code to compute alpha here\n",
    "    alpha = - a_2\n",
    "    \n",
    "    return alpha"
   ]
  },
  {
   "cell_type": "markdown",
   "metadata": {},
   "source": [
    "Compute an $\\alpha$ value for your fundamental data using the variable `a2_f` as input and\n",
    "store it to a variable called `alpha_f`.  Then, compute an $\\alpha$ value for your overtone data \n",
    "using the variable `a2_o` as niput and store it to a variable called `alpha_o`."
   ]
  },
  {
   "cell_type": "code",
   "execution_count": 40,
   "metadata": {
    "colab": {
     "base_uri": "https://localhost:8080/"
    },
    "id": "2UFa7zM4hpDV",
    "outputId": "b2786acf-5733-4b9a-ae34-d2ebb38da48d"
   },
   "outputs": [
    {
     "name": "stdout",
     "output_type": "stream",
     "text": [
      "0.017506389984474735 0.03501022213904199\n"
     ]
    }
   ],
   "source": [
    "#<== insert code to compute alpha_f from a2_f using the compute_alpha() function\n",
    "alpha_f = compute_alpha(a2_f)\n",
    "\n",
    "alpha_o = compute_alpha(a2_o)\n",
    "\n",
    "print(alpha_f, alpha_o)"
   ]
  },
  {
   "cell_type": "markdown",
   "metadata": {
    "id": "4tfHKr0UhgYH"
   },
   "source": [
    "$$ B_e = \\frac{a_1}{2} + \\alpha $$"
   ]
  },
  {
   "cell_type": "code",
   "execution_count": 41,
   "metadata": {},
   "outputs": [],
   "source": [
    "def compute_Be(a_1, a_2):\n",
    "    \"\"\"\n",
    "    Compute the Be value from given a_1 and a_2 values, using the formula\n",
    "    Be = a_1 / 2 + alpha\n",
    "    \n",
    "    where you can use the compute_alpha() function to compute alpha from a_2\n",
    "    \n",
    "    Arguments\n",
    "    ---------\n",
    "    a_1 : float\n",
    "        the linear coefficient from your polynomial fit \n",
    "    \n",
    "    a_2 : float\n",
    "        the quadratic coefficient from your polynomial fit\n",
    "    \n",
    "    Returns\n",
    "    -------\n",
    "    Be : float\n",
    "        The rotational constant in wavenumbers\n",
    "    \n",
    "    \"\"\"\n",
    "    \n",
    "    #<== insert code to compute alpha here\n",
    "    alpha = compute_alpha(a_2)\n",
    "    \n",
    "    #<== insert code to compute Be here\n",
    "    Be = a_1 / 2 + alpha\n",
    "    \n",
    "    return Be\n",
    "    \n",
    "    "
   ]
  },
  {
   "cell_type": "code",
   "execution_count": 42,
   "metadata": {
    "colab": {
     "base_uri": "https://localhost:8080/"
    },
    "id": "lBJZZa6dfXbk",
    "outputId": "eef4fe0e-e86d-414d-834a-bfb3c9e39eef"
   },
   "outputs": [
    {
     "name": "stdout",
     "output_type": "stream",
     "text": [
      "1.9311559637590243 1.9401108819606239\n"
     ]
    }
   ],
   "source": [
    "# Be for fundamental\n",
    "Be_f = a1_f / 2 + alpha_f\n",
    "\n",
    "# Be for overtone\n",
    "Be_o = a1_o / 2 + alpha_o\n",
    "\n",
    "print(Be_f, Be_o)"
   ]
  },
  {
   "cell_type": "markdown",
   "metadata": {
    "id": "jDP_EDypirhI"
   },
   "source": [
    "$$ I = \\frac{h}{8 \\pi^2 c B_e} $$"
   ]
  },
  {
   "cell_type": "code",
   "execution_count": 43,
   "metadata": {},
   "outputs": [],
   "source": [
    "def compute_I(Be):\n",
    "    \"\"\"\n",
    "    Compute the moment of inertia I value from given Be value using the formula\n",
    "    I = h / (8 * pi^2 * c * Be)\n",
    "    \n",
    "    Arguments\n",
    "    ---------\n",
    "    Be : float\n",
    "        the rotational constant in wavenumbers\n",
    "    \n",
    "    Returns\n",
    "    -------\n",
    "    I : float\n",
    "        The moment of inertia in SI units (kg * m^2)\n",
    "    \n",
    "    \"\"\"\n",
    "    # speed of light in cm / s\n",
    "    c = constants.c * 100\n",
    "    \n",
    "    # Planck's constant in SI units\n",
    "    h = constants.h\n",
    "    \n",
    "    #<== insert code to compute I here\n",
    "    I = h / ( 8 * np.pi ** 2 * c * Be)\n",
    "    return I"
   ]
  },
  {
   "cell_type": "code",
   "execution_count": 44,
   "metadata": {
    "colab": {
     "base_uri": "https://localhost:8080/"
    },
    "id": "VXCT_pFpiqU1",
    "outputId": "8ce7ddf8-11ca-4c5d-bdc9-f6379f2fca6f"
   },
   "outputs": [
    {
     "name": "stdout",
     "output_type": "stream",
     "text": [
      "1.4495334591457219e-46 1.442842886107951e-46\n"
     ]
    }
   ],
   "source": [
    "# I for fundamental\n",
    "I_f = compute_I(Be_f) #constants.h / (8 * constants.pi ** 2 * c_cms * Be_f)\n",
    "\n",
    "# I for overtone\n",
    "I_o = compute_I(Be_o) #constants.h / (8 * constants.pi ** 2 * c_cms * Be_o)\n",
    "print(I_f, I_o)"
   ]
  },
  {
   "cell_type": "markdown",
   "metadata": {
    "id": "UpS9rXOGklN8"
   },
   "source": [
    "$$ r_e = \\sqrt{\\frac{I}{\\mu} } $$\n",
    "* Add a question about this! *  "
   ]
  },
  {
   "cell_type": "code",
   "execution_count": 45,
   "metadata": {},
   "outputs": [],
   "source": [
    "def compute_re(I, mu):\n",
    "    \"\"\"\n",
    "    Compute the equilibrium bondlength from the moment of inertia and reduced mass\n",
    "    re = sqrt{ I / mu }\n",
    "    \n",
    "    Arguments\n",
    "    ---------\n",
    "    I : float\n",
    "        the rotational constant in SI units \n",
    "        \n",
    "    mu : float\n",
    "        the reduced mass in SI units\n",
    "    \n",
    "    Returns\n",
    "    -------\n",
    "    re : float\n",
    "        The equilibrium bondlength in SI units\n",
    "    \n",
    "    \"\"\"\n",
    "    #<== insert code to compute re here!\n",
    "    re = np.sqrt( I / mu )\n",
    "    \n",
    "    return re"
   ]
  },
  {
   "cell_type": "code",
   "execution_count": 46,
   "metadata": {
    "colab": {
     "base_uri": "https://localhost:8080/"
    },
    "id": "AGkhochIiBRi",
    "outputId": "8f2f9e8d-a9f2-4945-d021-257be777a92d"
   },
   "outputs": [
    {
     "name": "stdout",
     "output_type": "stream",
     "text": [
      "1.1287899950556337e-10 1.1261819190878598e-10\n"
     ]
    }
   ],
   "source": [
    "# equilibrium bondlength from fundamental\n",
    "r_eq_f = compute_re( I_f, mu_CO) #np.sqrt(I_f / co_mu)\n",
    "\n",
    "# equibibrium bondlength from overtone\n",
    "r_eq_o = compute_re(I_o, mu_CO) #np.sqrt(I_o / co_mu)\n",
    "\n",
    "\n",
    "print(r_eq_f, r_eq_o)"
   ]
  },
  {
   "cell_type": "markdown",
   "metadata": {
    "id": "DzcXBpATh6-L"
   },
   "source": [
    "$$ D = -\\frac{a_3}{4} $$"
   ]
  },
  {
   "cell_type": "code",
   "execution_count": 48,
   "metadata": {},
   "outputs": [],
   "source": [
    "def compute_D(a_3):\n",
    "    \"\"\"\n",
    "    Compute the dissociation energy in wavenumbers\n",
    "    D = -a_3 / 4\n",
    "    \n",
    "    Arguments\n",
    "    ---------\n",
    "    a_3 : float\n",
    "        the cubic coefficient from your polynomial fit\n",
    "    \n",
    "    Returns\n",
    "    -------\n",
    "    D : float\n",
    "        The dissociation energy in wavenumbers\n",
    "    \n",
    "    \"\"\"\n",
    "    #<== insert code to compute D here!\n",
    "    D = -a_3 / 4\n",
    "    \n",
    "    return D"
   ]
  },
  {
   "cell_type": "code",
   "execution_count": 49,
   "metadata": {
    "colab": {
     "base_uri": "https://localhost:8080/"
    },
    "id": "MesqFf-dhXn1",
    "outputId": "ec178ce9-3d15-4f08-bcc4-19dcfd750a7f"
   },
   "outputs": [
    {
     "name": "stdout",
     "output_type": "stream",
     "text": [
      "6.060731667970598e-06 6.3526015184949965e-06\n"
     ]
    }
   ],
   "source": [
    "# D for fundamental\n",
    "D_f = compute_D(a3_f) # -a3_f / 4\n",
    "\n",
    "# D for overtone\n",
    "D_o = compute_D(a3_o) #-a3_o / 4\n",
    "\n",
    "print(D_f, D_o)"
   ]
  },
  {
   "cell_type": "markdown",
   "metadata": {
    "id": "GRjqnt8A1dQb"
   },
   "source": [
    "Ask students to comment on I comparison between fund and overtone"
   ]
  },
  {
   "cell_type": "markdown",
   "metadata": {
    "id": "DUL6L5I1lz-l"
   },
   "source": [
    "$$ v_e = 3 a_{0,f} - a_{0,o} $$"
   ]
  },
  {
   "cell_type": "code",
   "execution_count": 50,
   "metadata": {
    "id": "WYJIa5Xrjmpw"
   },
   "outputs": [],
   "source": [
    "def compute_nu_e(a0_f, a0_o):\n",
    "    \"\"\"\n",
    "    Compute the Harmonic frequency\n",
    "    nu_e = 3 a0_f - a0_o\n",
    "    \n",
    "    Arguments\n",
    "    ---------\n",
    "    a0_f : float\n",
    "        the constant coefficient from the polynomial fit to fundamental data\n",
    "        \n",
    "    a0_o : float\n",
    "        the constant coefficient from the polynomial fit to the overtone data \n",
    "    \n",
    "    Returns\n",
    "    -------\n",
    "    nu_e : float\n",
    "        The harmonic approximation to the vibrational frequency in wavenumbers\n",
    "    \n",
    "    \"\"\"\n",
    "    #<== insert code to compute nu_e here!\n",
    "    nu_e = 3 * a0_f - a0_o\n",
    "    \n",
    "    return nu_e"
   ]
  },
  {
   "cell_type": "code",
   "execution_count": 58,
   "metadata": {
    "colab": {
     "base_uri": "https://localhost:8080/"
    },
    "id": "f8pCYJL2lqhn",
    "outputId": "db1261ef-c229-4b6f-cb42-72c8467d20cd"
   },
   "outputs": [
    {
     "name": "stdout",
     "output_type": "stream",
     "text": [
      "2169.621421122867\n"
     ]
    }
   ],
   "source": [
    "\n",
    "ve = compute_nu_e(a0_f, a0_o) \n",
    "print(ve)"
   ]
  },
  {
   "cell_type": "markdown",
   "metadata": {
    "id": "5O6UkO6U9kRF"
   },
   "source": [
    "$$ v_{xe} = \\frac{v_e - a_{0,f}}{2} $$"
   ]
  },
  {
   "cell_type": "code",
   "execution_count": 59,
   "metadata": {},
   "outputs": [],
   "source": [
    "def compute_nu_xe(nu_e, a0_f):\n",
    "    \"\"\"\n",
    "    Compute the anharmonic correction\n",
    "    nu_xe = (nu_e - ao_f) / 2\n",
    "    \n",
    "    Arguments\n",
    "    ---------\n",
    "    nu_e : float\n",
    "        the harmonic vibrational contribution\n",
    "        \n",
    "    a0_f : float\n",
    "        the constant coefficient from the polynomial fit to the fundamental data \n",
    "    \n",
    "    Returns\n",
    "    -------\n",
    "    nu_xe : float\n",
    "        The anharmonic correction in wavenumbers\n",
    "    \n",
    "    \"\"\"\n",
    "    #<== insert code to compute nu_xe here!\n",
    "    nu_xe = (nu_e- a0_f) / 2\n",
    "    \n",
    "    return nu_xe"
   ]
  },
  {
   "cell_type": "code",
   "execution_count": 60,
   "metadata": {
    "colab": {
     "base_uri": "https://localhost:8080/"
    },
    "id": "OW5CkEDFlrf8",
    "outputId": "fdc4a3b3-9211-4c11-edd1-d2fa9f482867"
   },
   "outputs": [
    {
     "name": "stdout",
     "output_type": "stream",
     "text": [
      "13.224967570060471\n"
     ]
    }
   ],
   "source": [
    "vxe = compute_nu_xe(ve, a0_f) #(ve - a0_f) / 2\n",
    "print(vxe)"
   ]
  },
  {
   "cell_type": "markdown",
   "metadata": {
    "id": "Zz85hQo4-I2w"
   },
   "source": [
    "$$ k = (2 \\pi c v_e)^2 \\cdot \\mu $$"
   ]
  },
  {
   "cell_type": "code",
   "execution_count": 55,
   "metadata": {},
   "outputs": [],
   "source": [
    "def compute_k(nu_e, mu):\n",
    "    \"\"\"\n",
    "    Compute the Harmonic force constant k = (2 * pi * c * nu_e)^2  * mu\n",
    "    \n",
    "    Arguments\n",
    "    ---------\n",
    "    nu_e : float\n",
    "        the harmonic vibrational contribution\n",
    "        \n",
    "    mu : float\n",
    "        the reduced mass in SI units\n",
    "    \n",
    "    Returns\n",
    "    -------\n",
    "    k : float\n",
    "        The harmonic force constant in SI units (kg * m^2 / s^2)\n",
    "    \n",
    "    \"\"\"\n",
    "    # speed of light in cm / s\n",
    "    c = constants.c * 100\n",
    "    \n",
    "    #<== insert code to compute k here\n",
    "    k = (2 * np.pi * c * nu_e) ** 2 * mu\n",
    "    \n",
    "    return k"
   ]
  },
  {
   "cell_type": "code",
   "execution_count": 62,
   "metadata": {
    "colab": {
     "base_uri": "https://localhost:8080/"
    },
    "id": "8CjeiknB90T3",
    "outputId": "dbe77d33-0bde-4f47-c1a1-eee71f4f4652"
   },
   "outputs": [
    {
     "name": "stdout",
     "output_type": "stream",
     "text": [
      "1900.076140021917\n",
      "2169.621421122867\n"
     ]
    }
   ],
   "source": [
    "k = compute_k(ve, mu_CO) #(2 * constants.pi * constants.c * 100 * ve) ** 2 * co_mu\n",
    "print(k)\n",
    "\n",
    "nu_overbar = 1 / (np.pi * 2 * constants.c * 100) * np.sqrt(k / mu_CO)\n",
    "print(nu_overbar)"
   ]
  },
  {
   "cell_type": "markdown",
   "metadata": {
    "id": "KgvY7_P0-bc4"
   },
   "source": [
    "$$ \\beta = \\sqrt{\\frac{8 \\pi^2 \\cdot c \\cdot v_{xe} \\cdot \\mu}{h}} $$"
   ]
  },
  {
   "cell_type": "code",
   "execution_count": 63,
   "metadata": {},
   "outputs": [],
   "source": [
    "def compute_beta(nu_xe, mu):\n",
    "    \"\"\"\n",
    "    Compute the Harmonic force constant beta = sqrt( ( 8 pi^2 c nu_xe mu ) / h )\n",
    "    \n",
    "    Arguments\n",
    "    ---------\n",
    "    nu_se : float\n",
    "        the anharmonic vibrational contribution\n",
    "        \n",
    "    mu : float\n",
    "        the reduced mass in SI units\n",
    "    \n",
    "    Returns\n",
    "    -------\n",
    "    beta : float\n",
    "        The exponential factor for the Morse potential\n",
    "    \n",
    "    \"\"\"\n",
    "    # speed of light in cm / s\n",
    "    c = constants.c * 100\n",
    "    \n",
    "    # plancks constant in SI units\n",
    "    h = constants.h\n",
    "    \n",
    "    beta = np.sqrt((8 * np.pi ** 2 * c * nu_xe * mu) / h)\n",
    "    \n",
    "    return beta"
   ]
  },
  {
   "cell_type": "markdown",
   "metadata": {
    "id": "0NE0Q7h4_Zxa"
   },
   "source": [
    "$$ D_e = \\frac{k}{2\\beta^2} $$"
   ]
  },
  {
   "cell_type": "code",
   "execution_count": 64,
   "metadata": {},
   "outputs": [],
   "source": [
    "def compute_De(k, beta):\n",
    "    \"\"\"\n",
    "    Compute the dissociation energy\n",
    "    \n",
    "    Arguments\n",
    "    ---------\n",
    "    k : float\n",
    "        the harmonic force constant\n",
    "        \n",
    "    beta : float\n",
    "        the exponential term in the Morse potential\n",
    "    \n",
    "    Returns\n",
    "    -------\n",
    "    De : float\n",
    "        The dissociation energy in SI units\n",
    "    \n",
    "    \"\"\"\n",
    "    \n",
    "    #<== insert code to compute De here\n",
    "    De = k / ( 2 * beta **2 )\n",
    "    \n",
    "    return De"
   ]
  },
  {
   "cell_type": "markdown",
   "metadata": {
    "id": "tz41ca7nQQpr"
   },
   "source": [
    "# Vibrational Energy\n",
    "The Schrödinger equation for vibrational motion has the form:\n",
    "\n",
    "$-\\frac{\\hbar^2}{2\\mu} \\frac{d^2\\psi}{dr^2} + V(r)\\cdot\\psi = E_{vib}\\psi$   \n",
    "\n",
    "\n",
    "where the first term is the quantum mechanical operator for the kinetic energy of the oscillator and V(r) is the operator for potential energy. This equation typically yields a set of allowed states represented by the wavefunctions $\\{\\psi_v(r)\\}$ with corresponding energies $\\{E_{vib,v}\\}$. The solutions depend on the detailed form of the potential energy which is determined by the electronic structure of the diatomic molecule and is in general quite complicated.\n",
    "\n",
    "## Harmonic Oscillator Model\n",
    "\n",
    "Harmonic oscillator model: We first consider the simplest model for vibration, the harmonic oscillator. The potential energy for this model is parabolic:\n",
    "\n",
    "Eq. 3:\n",
    "\n",
    "$V(r) = \\frac{1}{2}k(r - r_e)^2$\n",
    "\n",
    "and is plotted to the left in Fig. 2. The parameter k is called the force constant and represents the stiffness of the bond.\n",
    "##Insert question about what force constant is and maybe make them compare single vs double bond?\n",
    "\n",
    "For this potential energy function, the Schrödinger equation can be solved exactly to give a simple expression for the vibrational energy levels. The energy in wavenumber units (cm<sup>-1</sup>) is\n",
    "\n",
    "Eq. 4\t$\\frac{E_{vib}}{hc}=ν ̃_e (v+1/2) $\t   \tv = 0,1,2,3,…\n",
    "\n",
    "where v is the vibrational quantum number and ν is the vibrational frequency (divided by c) with:\n",
    "\n",
    "Eq. 5:\n",
    "$ν ̃_e = \\frac{1}{2 \\pi c} \\sqrt{\\frac{k}{\\mu}}  $\n",
    "\n",
    "# Need to make v and nu look different!\n",
    "Note: the notation here is the same as used by NGSK, but one must be careful to distinguish the symbols v (vibrational quantum number) and $ν ̃ $ (vibrational frequency in wavenumbers). The energy levels are plotted in blue in Fig. 2 and are seen to be equally spaced with separation $hcν ̃_e$.\n",
    "\n",
    "## add section about allowed transitions and assumptions"
   ]
  },
  {
   "cell_type": "code",
   "execution_count": null,
   "metadata": {
    "colab": {
     "base_uri": "https://localhost:8080/"
    },
    "id": "xCB27e0b-Alm",
    "outputId": "f18ad945-a60a-4a7c-c802-12ddda717635"
   },
   "outputs": [
    {
     "name": "stdout",
     "output_type": "stream",
     "text": [
      "2.3192151e+10\n"
     ]
    }
   ],
   "source": [
    "beta = np.sqrt((8 * np.pi ** 2 * constants.c * 100 * vxe * co_mu)/constants.h)\n",
    "print(F'{beta:12.7e}')"
   ]
  },
  {
   "cell_type": "code",
   "execution_count": null,
   "metadata": {
    "colab": {
     "base_uri": "https://localhost:8080/"
    },
    "id": "Bw8eWTBE-4__",
    "outputId": "b2e70090-0c7b-49d4-befc-e04a57dec787"
   },
   "outputs": [
    {
     "name": "stdout",
     "output_type": "stream",
     "text": [
      "1.767624634453031e-18\n"
     ]
    }
   ],
   "source": [
    "De = k / (2 * beta ** 2)\n",
    "print(De)"
   ]
  },
  {
   "cell_type": "markdown",
   "metadata": {
    "id": "l6gsi9eh6gMt"
   },
   "source": [
    "Now we have extracted both Harmonic and Morse parameters from our data!  We can proceed to use these parameters to encode interatomic potentials in the Harmonic and Morse approximations and use this to predict the positions of the ro-vibrational peaks.\n",
    "\n",
    "We will first approach this using Perturbation theory.\n",
    "\n",
    "### Perturbation Theory\n",
    " We will illustrate the use of Perturbation Theory approximate these transition energies.  \n",
    "\n",
    "Here we will consider the Hamiltonian\n",
    "\\begin{equation}\n",
    "\\hat{H}_{vib} = -\\frac{\\hbar^2}{2\\mu} \\frac{d^2}{dr^2} + V_{H}(r) + V'(r) = \\hat{H}_0 + V'(r) \\tag{12},\n",
    "\\end{equation}\n",
    "where $\\hat{H}_0$ is exactly solved by the Harmonic oscillator energy eigenfunctions and eigenvalues ($\\psi^{(0)}_n(r)$, $E^{(0)}_n$), and $V'(r)$ is the perturbation which will take the form of\n",
    "$V'(r) = V_{Morse} - V_{H}.$\n",
    "\n",
    "We can calculate the energy of state $n$ at 2nd order of perturbation theory as follows:\n",
    "\\begin{equation}\n",
    "E_n = E_n^{(0)} +  \\langle \\psi_n^{(0)} | V'(r) | \\psi_n^{(0)} \\rangle + \\sum_{k \\neq n} \\frac{|\\langle \\psi_k^{(0)} | V'(r) | \\psi_n^{(0)}|^2}{E_n^{(0)}-E_k^{(0)}}. \\tag{13}\n",
    "\\end{equation}\n",
    "\n",
    "Recall that for the zeroth-order functions have the form\n",
    "\\begin{align}\n",
    "\\psi_n^{(0)}(r) &= \\sqrt{\\frac{1}{2^n n!}} \\cdot \\left(\\frac{\\alpha}{\\pi} \\right)^{1/4} \\cdot H_n \\left(\\sqrt{\\alpha} r \\right) \\cdot {\\rm exp}\\left(\\frac{-\\alpha }{2} r^2 \\right) \\\\\n",
    "\\alpha &= \\frac{\\mu \\omega}{\\hbar} \\\\\n",
    "\\omega &= \\sqrt{\\frac{k}{\\mu}}\n",
    "\\end{align}\n",
    "\n",
    "### Approach\n",
    "We will compute the fundamental transition ($E_1 - E_0$) using the following approaches:\n",
    "1. Harmonic approximation: $E_1 - E_0 = \\hbar \\omega$\n",
    "2. Evaluation of Eq. (13) for $n=0$ and $n=1$ to second order using $V'(r)$\n",
    "\n"
   ]
  },
  {
   "cell_type": "code",
   "execution_count": null,
   "metadata": {
    "id": "4X9-Dv3a3W-2"
   },
   "outputs": [],
   "source": [
    "import numpy as np\n",
    "from matplotlib import pyplot as plt\n",
    "from scipy.special import hermite\n",
    "from math import factorial\n",
    "# import pyscf libraries\n",
    "from scipy import interpolate\n",
    "\n",
    "def compute_alpha(k, mu, hbar):\n",
    "    \"\"\" Helper function to compute \\alpha = \\sqrt{k * \\omega / \\hbar}\n",
    "\n",
    "    Arguments\n",
    "    ---------\n",
    "    k : float\n",
    "        the Harmonic force constant\n",
    "\n",
    "    mu : float\n",
    "        the reduced mass\n",
    "\n",
    "    hbar : float\n",
    "        reduced planck's constant\n",
    "\n",
    "    Returns\n",
    "    -------\n",
    "    alpha : float\n",
    "        \\alpha = \\sqrt{k * \\omega / \\hbar}\n",
    "\n",
    "    \"\"\"\n",
    "    # compute omega\n",
    "    omega = np.sqrt( k / mu )\n",
    "\n",
    "    # compute alpha\n",
    "    alpha =  mu * omega / hbar\n",
    "\n",
    "    # return alpha\n",
    "    return alpha\n",
    "\n",
    "def N(n, alpha):\n",
    "    \"\"\" Helper function to take the quantum number n of the Harmonic Oscillator and return the normalization constant\n",
    "\n",
    "    Arguments\n",
    "    ---------\n",
    "    n : int\n",
    "        the quantum state of the harmonic oscillator\n",
    "\n",
    "    Returns\n",
    "    -------\n",
    "    N_n : float\n",
    "        the normalization constant\n",
    "    \"\"\"\n",
    "\n",
    "    return  np.sqrt( 1 / (2 ** n * factorial(n)) ) * ( alpha / np.pi ) ** (1/4)\n",
    "\n",
    "def psi(n, alpha, r, r_eq):\n",
    "    \"\"\" Helper function to evaluate the Harmonic Oscillator energy eigenfunction for state n\n",
    "\n",
    "    Arguments\n",
    "    ---------\n",
    "    n : int\n",
    "        the quantum state of the harmonic oscillator\n",
    "\n",
    "    alpha : float\n",
    "        alpha value\n",
    "\n",
    "\n",
    "    r : float\n",
    "        position at which psi_n will be evaluated\n",
    "\n",
    "    r_eq : float\n",
    "        equilibrium bondlength\n",
    "\n",
    "    Returns\n",
    "    -------\n",
    "    psi_n : float\n",
    "        value of the harmonic oscillator energy eigenfunction\n",
    "\n",
    "    \"\"\"\n",
    "\n",
    "    Hr = hermite(n)\n",
    "\n",
    "    psi_n = N(n, alpha) * Hr( np.sqrt(alpha) * ( r - r_eq )) * np.exp( -0.5 * alpha  * (r - r_eq)**2)\n",
    "\n",
    "    return psi_n\n",
    "\n",
    "def harmonic_eigenvalue(n, k, mu, hbar):\n",
    "    \"\"\" Helper function to evaluate the energy eigenvalue of the harmonic oscillator for state n\"\"\"\n",
    "\n",
    "    return hbar * np.sqrt(k/mu) * (n + 1/2)\n",
    "\n",
    "def morse_eigenvalue(n, k, mu, De, hbar):\n",
    "    \"\"\" Helper function to evaluate the energy eigenvalue of the Morse oscillator for state n\"\"\"\n",
    "\n",
    "    omega = np.sqrt( k / mu )\n",
    "    xi = hbar * omega / (4 * De)\n",
    "\n",
    "    return hbar * omega * ( (n + 1/2) - xi * (n + 1/2) ** 2)\n",
    "\n",
    "def potential_matrix_element(n, m, alpha, r, r_eq, V_p):\n",
    "    \"\"\" Helper function to compute <n|V_p|m> where V_p is the perturbing potential\n",
    "\n",
    "    Arguments\n",
    "    ---------\n",
    "    n : int\n",
    "        quantum number of the bra state\n",
    "\n",
    "    m : int\n",
    "        quantum number of the ket state\n",
    "\n",
    "    alpha : float\n",
    "        alpha constant for bra/ket states\n",
    "\n",
    "    r : float\n",
    "        position grid for bra/ket states\n",
    "\n",
    "    r_eq : float\n",
    "        equilibrium bondlength for bra/ket states\n",
    "\n",
    "    V_p : float\n",
    "        potential array\n",
    "\n",
    "    Returns\n",
    "    -------\n",
    "    V_nm : float\n",
    "        <n | V_p | m >\n",
    "\n",
    "    \"\"\"\n",
    "    # bra\n",
    "    psi_n = psi(n, alpha, r, r_eq)\n",
    "\n",
    "    # ket\n",
    "    psi_m = psi(m, alpha, r, r_eq)\n",
    "\n",
    "    # integrand\n",
    "    integrand = np.conj(psi_n) * V_p * psi_m\n",
    "\n",
    "    # integrate\n",
    "    V_nm = np.trapz(integrand, r)\n",
    "\n",
    "    return V_nm"
   ]
  },
  {
   "cell_type": "code",
   "execution_count": null,
   "metadata": {
    "id": "-8A8aAy33efm"
   },
   "outputs": [],
   "source": [
    "# conversion factors from SI to au\n",
    "Joule_to_au = 2.2937125689e+17\n",
    "meter_to_au = 1.89e+10\n",
    "\n",
    "# use the extracted values in SI units and convert them to atomic units\n",
    "De_au = De * Joule_to_au\n",
    "r_eq_au = r_eq_f * meter_to_au\n",
    "beta_au = beta / meter_to_au\n",
    "\n",
    "# Harmonic force constant can be determined exactly as k = 2 * De * beta ** 2\n",
    "k_au = 2 * De_au * beta_au ** 2\n",
    "\n",
    "\n",
    "# array of bondlength values\n",
    "r_array = np.linspace(0.25, 3 * r_eq_au, 1000)\n",
    "\n",
    "# array of Morse potential values\n",
    "V_Morse = De_au * (1 - np.exp(-beta_au * (r_array - r_eq_au))) ** 2\n",
    "V_H = 0.5 * k_au * (r_array - r_eq_au) ** 2\n",
    "\n",
    "# get reduced mass of CO\n",
    "m_O = 1822.89 * 16.\n",
    "m_C = 1822.89 * 12.01\n",
    "\n",
    "mu_au = (m_O * m_C)/(m_O + m_C)\n",
    "\n",
    "\n",
    "# compute the rotational constant at n=0 (equilibrium geometry)\n",
    "B_au = 1 / (2 * mu_au * r_eq_au ** 2)"
   ]
  },
  {
   "cell_type": "code",
   "execution_count": null,
   "metadata": {
    "colab": {
     "base_uri": "https://localhost:8080/"
    },
    "id": "v-7nN-1M3jQj",
    "outputId": "99697d2a-466c-41c0-a6c7-b0cd77643f7e"
   },
   "outputs": [
    {
     "name": "stdout",
     "output_type": "stream",
     "text": [
      "2168.642161895434\n",
      "5.806778183746978\n",
      "-17.231512708718878\n",
      "2157.2174273704622\n",
      "2142.2161010027276\n",
      "[-10  -9  -8  -7  -6  -5  -4  -3  -2  -1   1   2   3   4   5   6   7   8\n",
      "   9  10]\n"
     ]
    }
   ],
   "source": [
    "# compute alpha values in atomic units\n",
    "alpha_au = compute_alpha(k_au, mu_au, 1)\n",
    "\n",
    "# fundamental transition energy at HO level\n",
    "fundamental_hf = harmonic_eigenvalue(1, k_au, mu_au, 1) - harmonic_eigenvalue(0, k_au, mu_au, 1)\n",
    "\n",
    "## fundamental transition energy at Morse level\n",
    "fundamental_Morse = morse_eigenvalue(1, k_au, mu_au, De_au, 1) - morse_eigenvalue(0, k_au, mu_au, De_au, 1)\n",
    "\n",
    "# 1st order correction\n",
    "pt1 = potential_matrix_element(0, 0, alpha_au, r_array, r_eq_au, (V_Morse - V_H))\n",
    "\n",
    "\n",
    "# 2nd order correction\n",
    "pt2 = 0\n",
    "\n",
    "# sum over |<j|V'|n>|^2/(Ej-En)\n",
    "for j in range(1, 50):\n",
    "    E_j = harmonic_eigenvalue(j, k_au, mu_au, 1)\n",
    "    Vc_j0 = potential_matrix_element(j, 0, alpha_au, r_array, r_eq_au, (V_Morse - V_H))\n",
    "    pt2 += Vc_j0 ** 2 / (fundamental_hf - E_j)\n",
    "\n",
    "\n",
    "\n",
    "au_to_wn = 219474.63068\n",
    "print(fundamental_hf * au_to_wn)\n",
    "print(pt1 * au_to_wn)\n",
    "print(pt2 * au_to_wn)\n",
    "\n",
    "print((fundamental_hf + pt1 + pt2) * au_to_wn)\n",
    "print(fundamental_Morse * au_to_wn)\n",
    "\n",
    "m = np.linspace(-10, 10, 21, dtype=int)\n",
    "m = np.delete(m, 10)\n",
    "print(m)\n",
    "\n",
    "nu_vs_m = (fundamental_Morse + B_au * m) * au_to_wn"
   ]
  },
  {
   "cell_type": "code",
   "execution_count": null,
   "metadata": {
    "colab": {
     "base_uri": "https://localhost:8080/",
     "height": 430
    },
    "id": "BnnQ4Srd6THd",
    "outputId": "1e3af12d-42a5-4a06-c54a-102e847d1245"
   },
   "outputs": [
    {
     "data": {
      "image/png": "[encoded data removed]",
      "text/plain": [
       "<Figure size 640x480 with 1 Axes>"
      ]
     },
     "metadata": {},
     "output_type": "display_data"
    }
   ],
   "source": [
    "\n",
    "plt.plot(x_f, y_f, 'bo', label=\"Data\")\n",
    "plt.plot(m, nu_vs_m, 'ro', label=\"Predicted from PT2\")\n",
    "plt.xlim(-10, 10)\n",
    "#plt.ylim(2115, 2155)\n",
    "#plt.plot(x_o, y_o, 'ro', label=\"CO overtone\")\n",
    "plt.legend()\n",
    "plt.show()"
   ]
  },
  {
   "cell_type": "code",
   "execution_count": null,
   "metadata": {
    "id": "9_Bs6rlZ-ovA"
   },
   "outputs": [],
   "source": []
  }
 ],
 "metadata": {
  "colab": {
   "provenance": []
  },
  "kernelspec": {
   "display_name": "Python 3 (ipykernel)",
   "language": "python",
   "name": "python3"
  },
  "language_info": {
   "codemirror_mode": {
    "name": "ipython",
    "version": 3
   },
   "file_extension": ".py",
   "mimetype": "text/x-python",
   "name": "python",
   "nbconvert_exporter": "python",
   "pygments_lexer": "ipython3",
   "version": "3.8.13"
  }
 },
 "nbformat": 4,
 "nbformat_minor": 1
}
