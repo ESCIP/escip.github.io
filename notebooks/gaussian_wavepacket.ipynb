{
 "cells": [
  {
   "cell_type": "markdown",
   "metadata": {
    "colab_type": "text",
    "id": "view-in-github"
   },
   "source": [
    "<a href=\"https://colab.research.google.com/github/FoleyLab/FoleyLab.github.io/blob/master/notebooks/Wavepacket_animations.ipynb\" target=\"_parent\"><img src=\"https://colab.research.google.com/assets/colab-badge.svg\" alt=\"Open In Colab\"/></a>"
   ]
  },
  {
   "cell_type": "markdown",
   "metadata": {},
   "source": [
    "# Time evolution of a Gaussian wavepacket\n",
    "[Prof. Jay Foley, University of North Carolina Charlotte](https://foleylab.github.io/)\n",
    "\n",
    "#### Objectives\n",
    "- To demonstrate the expansion of a Gaussian wavepacket as a superposition of particle-in-a-box energy eigenstates\n",
    "- To demonstrate the time-dependence of a Gaussian wavepacket traveling between two infinitely tall potential walls\n",
    "- To calculate the momentum uncertainty of the Gaussian wavepacket as a function of time\n",
    "\n",
    "#### Learning Outcomes\n",
    "By the end of this workbook, students should be able to\n",
    "- Expand an arbitrary wavefunction in the energy eigenstate basis, and specifically apply this to the expansion of a Gaussian wavepacket in the basis of the particle-in-a-box energy eigenstates\n",
    "- Utilize the `trapz` function of `numpy` to perform numeric integration\n",
    "- Use the known time dependence of energy eigenstates of the particle-in-a-box to simulate the time evolution of the Gaussian wavepacket travelling between two infinitely tall ptential walls\n",
    "- Use the capabilities of `matplotlib` to animate the motion of the Gaussian wavepacket\n",
    "- Compute time-dependent expectation values of the Gaussian wavepacket, and specifically track the momentum uncertainty of this state as a function of time."
   ]
  },
  {
   "cell_type": "markdown",
   "metadata": {
    "colab_type": "text",
    "id": "DqCDR6mqeCqx"
   },
   "source": [
    "#### Summary\n",
    "We will demonstrate the time-dependence of an electron initially described by a Gaussian wavepacket that is travelling between two infinitely tall potential walls located at $x=0$ and $x = L$.  The initial state of this wavepacket will be given by\n",
    "\\begin{equation}\n",
    "\\Psi(x,t_0) = \\frac{1}{\\sigma \\sqrt(2\\pi)} {\\rm exp}\\left(\\frac{-1}{2}\\left(\\frac{x-x_0}{\\sigma}\\right)^2\\right) {\\rm exp}(i k_0 x). \\tag{1}\n",
    "\\end{equation}\n",
    "Such a wavefunction describes a particle initially with a mean momentum and position of $\\hbar k_0$ and $x_0$, respectively, and $\\sigma$ relates to the spread (or position uncertainty)\n",
    "of the particle.  In the code that follows, we will have $x_0 = 200$, $k_0 = 0.4$, and $\\sigma = 15$ atomic units.  We will specify that the location of the left-most infinite potential is at $L = 500$ atomic units.  We will use the fact that we can we can expand this wavefunction in any complete basis, and we will use the basis of the energy eigenfunctions of the particle in a box with $L = 500$ atomic units.  \n",
    "\n",
    "Hence, we will expand the wavefunction as follows:\n",
    "\\begin{equation}\n",
    "\\Psi(x,t) = \\sum_{n=1}^N c_n \\sqrt{\\frac{2}{L}} {\\rm sin}\\left( \\frac{n \\pi x}{L} \\right)\n",
    "{\\rm exp}\\left(-\\frac{i E_n t}{\\hbar}\\right), \\tag{2}\n",
    "\\end{equation}\n",
    "where we have used the known time-dependence of each energy eigenstate.  The energy eigenvalues have the form\n",
    "\\begin{equation}\n",
    "E_n = \\frac{n^2 \\pi^2 \\hbar^2}{2 m L^2}. \\tag{3}\n",
    "\\end{equation}\n",
    "Since we are working in atomic units, $\\hbar$ and $m$ will have the value of 1.\n",
    "\n",
    "The coefficients for the above expansion can be determined simply by\n",
    "\\begin{equation}\n",
    "c_n = \\sqrt{\\frac{2}{500}} \\int_0^{500} {\\rm sin}\\left(\\frac{n \\pi x}{500}\\right) \\cdot \\Psi(x,t_0) \\: dx \\tag{4}\n",
    "\\end{equation}\n",
    "where we have set $L = 500$.  We will use the `numpy` function `trapz(fx, x)` to perform a trapezoid rule approximation to \n",
    "this integral."
   ]
  },
  {
   "cell_type": "markdown",
   "metadata": {},
   "source": [
    "### Step 0:  Import libraries and initialize a plot object for the animation"
   ]
  },
  {
   "cell_type": "code",
   "execution_count": null,
   "metadata": {},
   "outputs": [],
   "source": [
    "import numpy as np\n",
    "import matplotlib.pyplot as plt\n",
    "\n",
    "from matplotlib import animation, rc\n",
    "from IPython.display import HTML\n",
    "\n",
    "\n",
    "# First set up the figure, the axis, and the plot element we want to animate\n",
    "fig, ax = plt.subplots()\n",
    "plt.close()\n",
    "\n",
    "### parameters for the gaussian wavepacket and the PIB functions\n",
    "x0 = 200\n",
    "sig = 15\n",
    "k0 = 0.4\n",
    "L = 500\n",
    "\n",
    "### grid of x values for the functions\n",
    "x = np.linspace(0,500,500)\n",
    "\n",
    "### parameters for plot\n",
    "ax.set_xlim((0, L))\n",
    "ax.set_ylim((-0.03, 0.03))\n",
    "\n",
    "line, = ax.plot([], [], lw=2)\n",
    "\n",
    "# initialization function: plot the background of each frame\n",
    "def init():\n",
    "    line.set_data([], [])\n",
    "    return (line,)"
   ]
  },
  {
   "cell_type": "markdown",
   "metadata": {
    "colab_type": "text",
    "id": "xW874_pZD6eg"
   },
   "source": [
    "#### Step 1: Define helper functions that will compute the PIB basis functions and energy eigenvalues\n",
    "It will be helpful to have helper functions that will evaluate the energy eigenfunctions and eigenvalues of the \n",
    "particle in a box given the quantum number $n$, the length of the box $L$, and the grid of $x$ values for the eigenfunction."
   ]
  },
  {
   "cell_type": "code",
   "execution_count": null,
   "metadata": {},
   "outputs": [],
   "source": [
    "def energy_eigenvalue(n, L):\n",
    "    \"\"\" Helper function to take the quantum number n of the particle in a box and the length \n",
    "        of the box L and return the energy eigenvalue in atomic units.  This assumes the mass of the particle\n",
    "        is 1 in atomic units (i.e. it assumes the particle is an electron).\n",
    "        The length should be in atomic units.\n",
    "        \n",
    "    Arguments\n",
    "    ---------\n",
    "    n : int\n",
    "        the quantum state of the particle in a box\n",
    "        \n",
    "    L : float\n",
    "        the length of the box in atomic units\n",
    "    \"\"\"\n",
    "        \n",
    "    return n ** 2 * np.pi ** 2 / ( 2 * m * L ** 2)\n",
    "\n",
    "def energy_eigenfunction(n, L, x):\n",
    "    \"\"\" Helper function to take the quantum number n of the particle in a box, the length \n",
    "        of the box L, and x-coordinate value(s) (single value or list) and return the corresponding\n",
    "        energy eigenstate value(s) of the ordinary particle in a box.  L and x should be in atomic units,\n",
    "        and the maximum value of x should be L.\n",
    "        \n",
    "    Arguments\n",
    "    ---------\n",
    "    n : int\n",
    "        the quantum state of the particle in a box      \n",
    "    L : float\n",
    "        the length of the box in atomic units\n",
    "    x : float (or numpy array of floats)\n",
    "        the position variable for the energy eigenstate in atomic units\n",
    "    \"\"\"\n",
    "    return np.sqrt(2 / L) * np.sin(n * np.pi * x / L)"
   ]
  },
  {
   "cell_type": "markdown",
   "metadata": {},
   "source": [
    "#### Step 2: Define a helper function that will compute values of the Gaussian wavepacket \n",
    "We will define a function to take the $\\sigma$, $x_0$, and $k_0$ parameters and $x$ value(s) that define Eq. (1) and return $\\Psi(x,t_0)$."
   ]
  },
  {
   "cell_type": "code",
   "execution_count": null,
   "metadata": {},
   "outputs": [],
   "source": [
    "def gaussian_wavepacket(x0, sig, k0, x):\n",
    "    \"\"\" Helper function to take the the spread (sig), mean wavenumber (k0), mean position value (x0) \n",
    "        and grid of x-values (x) and return the corresponding Gaussian wavepacket values evaluated on that grid\n",
    "        \n",
    "    Arguments\n",
    "    ---------\n",
    "    x0 : float\n",
    "        mean position of the wavepacket in atomic units    \n",
    "    sig : float\n",
    "        spread of the wavepacket in atomic units\n",
    "    k0  : float\n",
    "        the mean wavenumber in atomic units of the wavepacket, related to\n",
    "        mean momentum by \\hbar k0\n",
    "    x : float (or numpy array of floats)\n",
    "        the position variable for the energy eigenstate in atomic units\n",
    "    \"\"\"\n",
    "    ci = 0+1j # <== the imaginary unit\n",
    "    pre = 1 / (sig * np.sqrt(2 * np.pi)) # <== prefactor\n",
    "    gauss = np.exp(-0.5 * ((x - x0) / sig) ** 2) # <== gaussian envelope\n",
    "    plane = np.exp(ci * k0 * x) # <== plane-wave component\n",
    "    return pre * gauss * plane\n",
    "    "
   ]
  },
  {
   "cell_type": "markdown",
   "metadata": {},
   "source": [
    "#### Step 3: Set up plot and function parameters and form the Gaussian Wavepacket at time t=t0"
   ]
  },
  {
   "cell_type": "code",
   "execution_count": null,
   "metadata": {
    "colab": {},
    "colab_type": "code",
    "id": "QLRBwgFqdr83"
   },
   "outputs": [],
   "source": [
    "### Compute the Gaussian wavepacket\n",
    "psi_gp = gaussian_wavepacket(x, x0, sig, k0)"
   ]
  },
  {
   "cell_type": "markdown",
   "metadata": {
    "colab_type": "text",
    "id": "btKZuaYmD6em"
   },
   "source": [
    "#### Step 2: Write helper functions so that the wavepacket can be expanded in the PIB basis"
   ]
  },
  {
   "cell_type": "code",
   "execution_count": null,
   "metadata": {
    "colab": {},
    "colab_type": "code",
    "id": "hh45xWGGD6en"
   },
   "outputs": [],
   "source": [
    "# function PIB that takes the length-of-box L, the quantum number n, and array of x values x\n",
    "# and returns the corresponding PIB energy eigenfunction\n",
    "def PIB(L, n, x):\n",
    "    return np.sqrt(2/L) * np.sin(n * np.pi * x/L)\n",
    "\n",
    "### return energy in atomic units\n",
    "def PIB_En(L, n):\n",
    "    return n**2 * np.pi**2 /(2 * L**2)\n",
    "\n",
    "### return time-dependent part of energy eigenfunction in atomic units\n",
    "def PIB_Time(L, n, t):\n",
    "    ci = 0+1j\n",
    "    En = PIB_En(L, n)\n",
    "    return np.exp(-ci*En*t) \n",
    "\n",
    "def dfdx(fx, x):\n",
    "    dx = x[1]-x[0]\n",
    "    fxp = np.zeros_like(fx)\n",
    "    for i in range(0,len(fx)-1):\n",
    "        fxp[i] = (fx[i+1]-fx[i])/dx\n",
    "    return fxp\n",
    "\n",
    "\n",
    "### use rectangle rule to integrate a function!\n",
    "def integrate(x, f_of_x):\n",
    "    ### get the width of each rectangle!\n",
    "    w = x[1]-x[0]\n",
    "    integral = 0\n",
    "    for i in range(1,len(x)):\n",
    "        h = f_of_x[i]\n",
    "        A = w * h\n",
    "        integral = integral + A\n",
    "        \n",
    "    return integral\n",
    "\n"
   ]
  },
  {
   "cell_type": "markdown",
   "metadata": {
    "colab_type": "text",
    "id": "Moske6KID6eq"
   },
   "source": [
    "##### Step 3:  Determine the expansion coefficients for the Gaussian Wavepacket in the PIB basis"
   ]
  },
  {
   "cell_type": "code",
   "execution_count": null,
   "metadata": {
    "colab": {},
    "colab_type": "code",
    "id": "8-mSLc-eD6er"
   },
   "outputs": [],
   "source": [
    "### Create an array of quantum numbers for the PIB states... 1 to 100 should be adequate\n",
    "n_array = np.linspace(1,100,100)\n",
    "### Each quantum number n has a corresponding (complex) coefficient c_n \n",
    "cn_array = np.zeros(len(n_array),dtype=complex)\n",
    "\n",
    "for i in range(0,100):\n",
    "    ### get energy eigenstate n\n",
    "    psi = PIB(L,n_array[i],x)\n",
    "    ### multiply psi_n by gaussian wavepacket\n",
    "    integrand = np.conj(psi)*Psi_gp\n",
    "    ### get coefficient c_n from the integral of psi_n * Psi_gp\n",
    "    cn_array[i] = integrate(x, integrand)\n",
    "\n",
    "\n"
   ]
  },
  {
   "cell_type": "markdown",
   "metadata": {
    "colab_type": "text",
    "id": "Z3SGC3GYD6ev"
   },
   "source": [
    "#### Step 4: Put it all together and animate!"
   ]
  },
  {
   "cell_type": "code",
   "execution_count": null,
   "metadata": {
    "colab": {
     "base_uri": "https://localhost:8080/",
     "height": 391
    },
    "colab_type": "code",
    "id": "mXYEgVEOD6ew",
    "outputId": "7e54712c-8450-4be9-b158-82e2d31bf939"
   },
   "outputs": [],
   "source": [
    "N_time = 300\n",
    "p_of_t = np.zeros(N_time,dtype=complex)\n",
    "p2_of_t = np.zeros(N_time, dtype=complex)\n",
    "p_sig_of_t = np.zeros(N_time,dtype=complex)\n",
    "y = np.zeros(len(x),dtype=complex)\n",
    "t = np.zeros(N_time)\n",
    "for j in range(0,100):\n",
    "    ft = PIB_Time(L, n_array[j], i*10.)\n",
    "    fx = PIB(L, n_array[j], x)\n",
    "    y = y + cn_array[j] * fx * ft\n",
    "\n",
    "p, p2, sig_p = Momentum_Uncertainty(y, x)\n",
    "p_of_t[0] = p\n",
    "p2_of_t[0] = p2 \n",
    "p_sig_of_t[0] = sig_p \n",
    "\n",
    "# animation function. This is called sequentially  \n",
    "def animate(i):\n",
    "    y = np.zeros(len(x),dtype=complex)\n",
    "    for j in range(0,100):\n",
    "        ft = PIB_Time(L, n_array[j], i*10.)\n",
    "        fx = PIB(L, n_array[j], x)\n",
    "        y = y + cn_array[j] * fx * ft\n",
    "    t[i] = i*10\n",
    "    p, p2, sig_p = Momentum_Uncertainty(y, x)\n",
    "    p_of_t[i] = p \n",
    "    p2_of_t[i] = p2  \n",
    "    p_sig_of_t[i] = sig_p \n",
    "    line.set_data(x, np.real(y))\n",
    "    return (line,)\n",
    "  \n",
    "\n",
    "anim = animation.FuncAnimation(fig, animate, init_func=init,\n",
    "                             frames=N_time, interval=100, blit=True)\n",
    "\n",
    "# Note: below is the part which makes it work on Colab\n",
    "rc('animation', html='jshtml')\n",
    "anim"
   ]
  },
  {
   "cell_type": "code",
   "execution_count": null,
   "metadata": {
    "colab": {
     "base_uri": "https://localhost:8080/",
     "height": 265
    },
    "colab_type": "code",
    "id": "9INSAJskAoAh",
    "outputId": "ebc15632-5079-4067-b97e-3ae2c5849cc6"
   },
   "outputs": [],
   "source": [
    "plt.plot(t, np.real(p2_of_t)/max(p2_of_t), 'red', label='<p^2>')\n",
    "plt.plot(t, np.real(p_of_t)/max(np.real(p_of_t)), 'blue', label='<p>')\n",
    "#plt.plot(t, np.real(p_sig_of_t), 'green', label='sigma_p')\n",
    "plt.legend()\n",
    "plt.show()"
   ]
  },
  {
   "cell_type": "code",
   "execution_count": null,
   "metadata": {},
   "outputs": [],
   "source": [
    "def Momentum_Expectation(Psi, x):\n",
    "    ci=0+1j\n",
    "    Psi_star = np.conj(Psi)\n",
    "    Psi_p = dfdx(Psi, x)\n",
    "    num_integrand = -ci*Psi_star * Psi_p\n",
    "    den_integrand = Psi_star * Psi\n",
    "    num = integrate(x, num_integrand)\n",
    "    den = integrate(x, den_integrand)\n",
    "    return num/den\n",
    "\n",
    "def Momentum_Squared_Expectation(Psi, x):\n",
    "    ci=0+1j\n",
    "    Psi_star = np.conj(Psi)\n",
    "    Psi_p = dfdx(Psi, x)\n",
    "    Psi_pp = dfdx(Psi_p,x)\n",
    "    num_integrand = -1*Psi_star * Psi_pp\n",
    "    den_integrand = Psi_star * Psi\n",
    "    num = integrate(x, num_integrand)\n",
    "    den = integrate(x, den_integrand)\n",
    "    return num/den\n",
    "\n",
    "def Momentum_Uncertainty(Psi, x):\n",
    "    p = Momentum_Expectation(Psi, x)\n",
    "    p2 = Momentum_Squared_Expectation(Psi,x)\n",
    "    return p, p2, np.sqrt(p2 - p**2)\n",
    "\n",
    "\n",
    "\n",
    "\n"
   ]
  },
  {
   "cell_type": "markdown",
   "metadata": {
    "colab_type": "text",
    "id": "7MX6yS3rezZH"
   },
   "source": [
    "# Reference Link\n",
    "http://tiao.io/posts/notebooks/embedding-matplotlib-animations-in-jupyter-as-interactive-javascript-widgets/"
   ]
  }
 ],
 "metadata": {
  "colab": {
   "collapsed_sections": [],
   "include_colab_link": true,
   "name": "Colab animations.ipynb",
   "provenance": []
  },
  "kernelspec": {
   "display_name": "Python 3 (ipykernel)",
   "language": "python",
   "name": "python3"
  },
  "language_info": {
   "codemirror_mode": {
    "name": "ipython",
    "version": 3
   },
   "file_extension": ".py",
   "mimetype": "text/x-python",
   "name": "python",
   "nbconvert_exporter": "python",
   "pygments_lexer": "ipython3",
   "version": "3.9.13"
  }
 },
 "nbformat": 4,
 "nbformat_minor": 1
}
