{
 "cells": [
  {
   "cell_type": "markdown",
   "metadata": {
    "id": "ye3et8bDteeK"
   },
   "source": [
    "Version Date: April 30, 2023"
   ]
  },
  {
   "cell_type": "markdown",
   "metadata": {
    "id": "9lMoSTdLrxFb"
   },
   "source": [
    "# Molecular Dynamics (MD) Simulation of Gases\n",
    "\n",
    "This notebook uses molecular dynamics (MD) to simulate the behavior of real noble gases."
   ]
  },
  {
   "cell_type": "markdown",
   "metadata": {
    "id": "1vRIcmDjST4h"
   },
   "source": [
    "#Objectives\n",
    "\n",
    "- Gain proficiency in reading and modifying Python code in the Google Colab/Jupyter notebook environment\n",
    "- Use molecular dynamics (MD) to simulate real noble gases with a Lennard-Jones potential\n",
    "- Observe how gas identity, temperature, and number density affect deviations from ideality as measured by the compressibility factor (Z)\n",
    "- Visualize MD trajectories using the NGLView widget"
   ]
  },
  {
   "cell_type": "markdown",
   "metadata": {
    "id": "Q9p_klHfnsBa"
   },
   "source": [
    "#Getting Started\n",
    "\n",
    "First we need to install the necessary Python libraries. Run the code block below to load the libraries that we'll need for this simulation. (**Note:** this step may take a few minutes.)\n"
   ]
  },
  {
   "cell_type": "code",
   "execution_count": 1,
   "metadata": {
    "colab": {
     "base_uri": "https://localhost:8080/",
     "height": 1000,
     "referenced_widgets": [
      "4f514a8bef3f41fa93a656bb23961b06",
      "161d8e37842d4561beba19fc5e4650cc"
     ]
    },
    "id": "P4rzlZDod_xL",
    "outputId": "cdb8747d-94d6-4621-d04c-26b0ca22b777"
   },
   "outputs": [
    {
     "data": {
      "application/vnd.jupyter.widget-view+json": {
       "model_id": "475dd76e410c4f7faed4730798d424ae",
       "version_major": 2,
       "version_minor": 0
      },
      "text/plain": []
     },
     "metadata": {},
     "output_type": "display_data"
    }
   ],
   "source": [
    "#!/usr/bin/env python3\n",
    "# -*- coding: utf-8 -*-\n",
    "\"\"\"\n",
    "Created on Wed Aug 19 13:56:08 2020\n",
    "Last modified 20220706 by EST\n",
    "\n",
    "@author: foleyj10\n",
    "\"\"\"\n",
    "\n",
    "import numpy as np\n",
    "import pandas as pd\n",
    "from matplotlib import pyplot as plt\n",
    "import scipy.spatial.distance as dist\n",
    "\n",
    "### install and import MDAnalysis\n",
    "#!pip install --upgrade MDAnalysis\n",
    "\n",
    "#import MDAnalysis as MD\n",
    "\n",
    "### install and import nglview\n",
    "#!pip install nglview\n",
    "\n",
    "#from google.colab import output\n",
    "#output.enable_custom_widget_manager()\n",
    "\n",
    "import nglview as ngl"
   ]
  },
  {
   "cell_type": "markdown",
   "metadata": {
    "id": "Lk8Pb-d1XCZn"
   },
   "source": [
    "Now we will execute the code that defines the MD simulation functions. Only run this code block once at the start of each session.\n",
    "\n",
    "(**Note:** the default number of atoms in the simulation is 216, but this value can be changed if desired by editing the `num_atoms` variable in the first line of code.)"
   ]
  },
  {
   "cell_type": "code",
   "execution_count": 2,
   "metadata": {
    "id": "GnLWTyawCLxT"
   },
   "outputs": [],
   "source": [
    "### simulation code\n",
    "\n",
    "### define number of atoms (default N is 216)\n",
    "num_atoms = 216\n",
    "\n",
    "class noble_gas:\n",
    "  def __init__(self, atom_name, initial_temp, density):\n",
    "    ''' set some default values for the number\n",
    "    of particles, the temperature, the volume, and the gas \n",
    "    identity, which will then determine the L-J parameters and\n",
    "    conversion factors from natural to SI units! '''\n",
    "    ### Avagadros number\n",
    "    self.NA = 6.022140857e23\n",
    "    ### Boltzman's constant in SI units\n",
    "    self.kb_SI = 1.38064852e-23\n",
    "    ### default N is 216\n",
    "    self.N = num_atoms\n",
    "    ### default atom is Ar\n",
    "    self.atom = atom_name\n",
    "    ### default length of container is 6.1822e+01 natural units... this\n",
    "    ### gives about 40 moles / m^3 for Argon\n",
    "    self.L_nu = 6.1822e1\n",
    "    ### default temperature in Kelvin\n",
    "    self.T_SI = initial_temp\n",
    "    ### conversion factors depending on atom type (need to complete for all nobel gas atom types)\n",
    "    if self.atom=='Ar':\n",
    "      self.vol_fac = 3.7949992920124995e-29\n",
    "      self.press_fac = 51695201.06691862\n",
    "      self.temp_fac = 142.0950000000000\n",
    "      self.time_fac = 2.09618e-12\n",
    "    elif self.atom=='He':\n",
    "      self.vol_fac = 1.8399744000000005e-29\n",
    "      self.press_fac = 8152287.336171632\n",
    "      self.temp_fac = 10.864459551225972\n",
    "      self.time_fac = 1.7572698825166272e-12\n",
    "    elif self.atom=='Ne':\n",
    "      self.vol_fac = 2.0570823999999997e-29\n",
    "      self.press_fac = 27223022.27659913\n",
    "      self.temp_fac = 40.560648991243625\n",
    "      self.time_fac = 2.1192341945685407e-12\n",
    "    elif self.atom=='Kr':\n",
    "      self.vol_fac = 4.5882712000000004e-29\n",
    "      self.press_fac = 59935428.40275003\n",
    "      self.temp_fac = 199.1817584391428\n",
    "      self.time_fac = 8.051563913585078e-13\n",
    "    elif self.atom=='Xe':\n",
    "      self.vol_fac =  5.4872e-29\n",
    "      self.press_fac = 70527773.72794868\n",
    "      self.temp_fac = 280.30305642163006\n",
    "      self.time_fac =  9.018957925790732e-13\n",
    "    else:\n",
    "      self.vol_fac = 3.7949992920124995e-29\n",
    "      self.press_fac = 51695201.06691862\n",
    "      self.temp_fac = 142.0950000000000\n",
    "      self.time_fac = 2.09618e-12\n",
    "\n",
    "\n",
    "    ### get important attributes in natural units for the simulation\n",
    "\n",
    "    ### default time-step  s.t. in SI it is 10 f.s.\n",
    "    self.dt = 1e-14 / self.time_fac\n",
    "\n",
    "    ### temperature in natural units\n",
    "    self.T = self.T_SI / self.temp_fac \n",
    "\n",
    "    ### volume in SI units\n",
    "    self.vol_si = self.N/(density * self.NA)\n",
    "    ### volume in natural units\n",
    "    self.vol = self.vol_si / self.vol_fac\n",
    "    ### length in natural units\n",
    "    self.L_nu = self.vol ** (1./3)\n",
    "\n",
    "    ### mass in natural units\n",
    "    self.mass = 1.\n",
    "\n",
    "    ### L-J sigma in natural units\n",
    "    self.sigma = 1.\n",
    "    ### L-J epsilon in natural units\n",
    "    self.epsilon = 1. \n",
    "\n",
    "    ### quantities that need to be computed after initialization\n",
    "    ### kinetic energy\n",
    "    self.kinetic_energy = 0.\n",
    "    ### potential energy\n",
    "    self.potential_energy = 0\n",
    "    ### mean squared velocity\n",
    "    self.msv = 0.\n",
    "    ### compressibility\n",
    "    self.Z = 0.\n",
    "    ### instantaneous temperature\n",
    "    self.T_instant = 0.\n",
    "    ### pressure\n",
    "    self.pressure = 0. \n",
    "    ### pressure temporary quantity\n",
    "    self.psum = 0.\n",
    "\n",
    "\n",
    "    ### create arrays for position, force, velocity\n",
    "    self.position_array = np.zeros((self.N,3))\n",
    "    self.velocity_array = np.zeros((self.N,3))\n",
    "    self.force_array = np.zeros((self.N,3))\n",
    "    self.acceleration_array = np.zeros((self.N,3))\n",
    "\n",
    "    self.initialize()\n",
    "\n",
    "                          \n",
    "  def initialize_velocities(self):\n",
    "    ''' Initialize velocities of the particles\n",
    "    based on the temperature! '''\n",
    "    ### COM velocity\n",
    "    v_cm = [0,0,0]\n",
    "    ### initialize velocities and compute COM velocity\n",
    "    for i in range(0,self.N):\n",
    "      for j in range(0,3):\n",
    "        self.velocity_array[i,j] = np.random.normal(0,1)\n",
    "        v_cm[j] = v_cm[j] + self.velocity_array[i,j] / self.N\n",
    "        \n",
    "    ### now correct velocities for COM and compute squared sum of corrected velocitie\n",
    "    v_sqd_sum = 0.0\n",
    "    for i in range(0,self.N):\n",
    "      for j in range(0,3):\n",
    "        self.velocity_array[i,j] -= v_cm[j]\n",
    "        v_sqd_sum = v_sqd_sum + self.velocity_array[i,j]**2\n",
    "    ### scaling factor for velocities based on initial temperature\n",
    "    ### and squared sum of random velocities  \n",
    "    lam = np.sqrt( 3 * (self.N - 1) * self.T / v_sqd_sum)\n",
    "    \n",
    "    ### finally scale velocities according to initial temperature!\n",
    "    for i in range(0,self.N):\n",
    "      for j in range(0,3):\n",
    "        self.velocity_array[i,j] *= lam\n",
    "    return 1\n",
    "\n",
    "  def initialize(self):\n",
    "    ''' Initialize positions and velocities '''\n",
    "    ### number of atoms in each direction\n",
    "    n = int(np.ceil(self.N**(1/3.)))\n",
    "    #print(\"n is \",n)\n",
    "    ### spacing between atoms\n",
    "    pos = self.L_nu / n\n",
    "    #print(\"pos is \",pos)\n",
    "    ### go through all particles and assign position\n",
    "      \n",
    "    p = 0\n",
    "    for i in range(0,n):\n",
    "      for j in range(0,n):\n",
    "        for k in range(0,n):\n",
    "          if p<self.N:\n",
    "            self.position_array[p,0] = (i + 0.5) * pos\n",
    "            self.position_array[p,1] = (j + 0.5) * pos\n",
    "            self.position_array[p,2] = (k + 0.5) * pos\n",
    "          p += 1\n",
    "    self.initialize_velocities()\n",
    "    return 1\n",
    "\n",
    "  def compute_accelerations(self):\n",
    "    ''' compute accelerations using Lennard-Jones force '''\n",
    "    ### separation vector\n",
    "    #r_ij = np.array([0.,0.,0.])\n",
    "    ### initialize accelerations to zeros\n",
    "    self.acceleration_array[:,:] = 0.0\n",
    "    ''' Get list of scalar distances between particles, which will\n",
    "        be used in the Force calculations, and also in total potential energy '''\n",
    "    r = dist.pdist(self.position_array, 'Euclidean')\n",
    "    r_a = dist.cdist(self.position_array,self.position_array,\"Euclidean\")\n",
    "    r_a = r_a + np.identity(len(r_a))*1e12\n",
    "    ''' Go ahead and compute the potential! '''\n",
    "    quotient = self.sigma / r\n",
    "    term1 = quotient ** 12\n",
    "    term2 = quotient ** 6\n",
    "    U = 4 * self.epsilon * (term1 - term2)\n",
    "    self.potential_energy = np.sum(U) \n",
    "    #print(\"U\",self.potential_energy)\n",
    "\n",
    "    \n",
    "    for i in range(0,self.N):\n",
    "        c_o_i = self.position_array[i]\n",
    "        r_vec = c_o_i - self.position_array\n",
    "        f = 24 * (2 * r_a[i] ** (-14) - r_a[i] ** (-8))\n",
    "        a_vec = np.transpose( np.multiply(f,np.transpose(r_vec)) )\n",
    "\n",
    "        self.acceleration_array[i] = np.sum(a_vec,axis=0)\n",
    "\n",
    "    return 1\n",
    "\n",
    "  def velocity_verlet(self):\n",
    "    ''' update velocities and positions of particles according \n",
    "    to Lennard-Jones forces '''\n",
    "    ### compute accelerations from forces at current position\n",
    "    self.psum = 0.\n",
    "    self.compute_accelerations()\n",
    "\n",
    "    ### update positions and do partial velocity update\n",
    "    for i in range(0,self.N):\n",
    "      for j in range(0,3):\n",
    "        ### update positions\n",
    "        self.position_array[i,j] += self.velocity_array[i,j] * self.dt \n",
    "        + 0.5 * self.acceleration_array[i,j] * self.dt ** 2\n",
    "        ### update velocities\n",
    "        self.velocity_array[i,j] += 0.5 * self.acceleration_array[i,j] * self.dt \n",
    "\n",
    "    ### now that position has been updated, update the acceleration\n",
    "    self.compute_accelerations()\n",
    "\n",
    "    ### now update the velocity with the new velocity\n",
    "    for i in range(0,self.N):\n",
    "      for j in range(0,3):\n",
    "        self.velocity_array[i,j] += 0.5 * self.acceleration_array[i,j] * self.dt\n",
    "\n",
    "    ### elastic walls!\n",
    "    for i in range(0,self.N):\n",
    "      for j in range(0,3):\n",
    "        if self.position_array[i,j] < 0.:\n",
    "          self.velocity_array[i,j] *= -1\n",
    "          self.psum += 2 * np.abs(self.velocity_array[i,j]) / self.dt \n",
    "          \n",
    "        if self.position_array[i,j] >= self.L_nu:\n",
    "          self.velocity_array[i,j] *= -1\n",
    "          self.psum += 2 * np.abs(self.velocity_array[i,j]) / self.dt\n",
    "\n",
    "    ### write positions to file!\n",
    "    self.pressure = self.psum / (6 * self.L_nu ** 2)\n",
    "\n",
    "    return 1\n",
    "\n",
    "  def mean_squared_velocity(self):\n",
    "    ''' function to compute the mean squared velocity '''\n",
    "    ### make sure msv is initialized to zero\n",
    "    self.msv = 0.\n",
    "    for i in range(0,self.N):\n",
    "      for j in range(0,3):\n",
    "        self.msv = self.msv + self.velocity_array[i,j] ** 2\n",
    "\n",
    "    self.msv = self.msv / self.N\n",
    "    return 1\n",
    "\n",
    "  def kinetic(self):\n",
    "    ''' function to compute the total kinetic energy '''\n",
    "    self.mean_squared_velocity()\n",
    "    self.kinetic_energy = self.msv * self.mass / 2\n",
    "    return 1\n",
    "\n",
    "  def potential(self):\n",
    "    ''' function to compute the total potential energy '''\n",
    "    ### set potential to zero\n",
    "    self.potential_energy = 0.\n",
    "    for i in range(0,self.N):\n",
    "      for j in range(0,self.N):\n",
    "        if i!=j:\n",
    "          r2 = 0\n",
    "          for k in range(0,3):\n",
    "            r2 = r2 + (self.position_array[i,k]-self.position_array[j,k]) ** 2\n",
    "          r_norm = np.sqrt(r2)\n",
    "          #print(\"rnorm\",r_norm)\n",
    "          quotient = self.sigma / r_norm\n",
    "          term1 = quotient ** 12.\n",
    "          term2 = quotient ** 6\n",
    "\n",
    "          self.potential_energy = self.potential_energy + 4 * self.epsilon * (term1 - term2)\n",
    "    return 1\n",
    "\n",
    "\n",
    "#initialize variables to store all the simulation results\n",
    "atom_type_all = []\n",
    "sim_temp_all = []\n",
    "sim_density_all = []\n",
    "Pavg_all = []\n",
    "Tavg_all = []\n",
    "Z_all = []"
   ]
  },
  {
   "cell_type": "markdown",
   "metadata": {
    "id": "I-_Fh4BtoYoQ"
   },
   "source": [
    "# Run MD Simulations\n",
    "\n",
    "Now we're ready to run the MD simulations!\n",
    "\n",
    "First select the type of gas (`atom_type`), temperature in K (`sim_temp`), and density in mol/m^3 (`sim_density`) for the simulation. Then execute the code block below to run the simulation.\n",
    "\n",
    "(**Note:** if desired, you can also change the number of time steps in the simulation (`num_time`).)"
   ]
  },
  {
   "cell_type": "code",
   "execution_count": 3,
   "metadata": {
    "colab": {
     "base_uri": "https://localhost:8080/"
    },
    "id": "xGc51QfpjHCD",
    "outputId": "a68e40b9-2f47-4c15-a871-c604d19deb3c"
   },
   "outputs": [
    {
     "name": "stdout",
     "output_type": "stream",
     "text": [
      "Simulation Results\n",
      "\n",
      "   Avg. Pressure (kPa)  Avg. Temp. (K):      Z\n",
      "0               89.773          299.669  0.901\n"
     ]
    }
   ],
   "source": [
    "### set parameters and run simulation\n",
    "\n",
    "### set atom type (default is \"Ar\"; other options are \"He\", \"Ne\", \"Kr\", \"Xe\")\n",
    "atom_type = \"Ar\"\n",
    "### set simulation temperature in K (default is 300 K)\n",
    "sim_temp = 300\n",
    "### set density in mol/m^3 (default is 40 mol/m^3)\n",
    "sim_density = 40\n",
    "### set number of time steps (default is 2000)\n",
    "num_time = 2000\n",
    "\n",
    "### create noble gas instance and save output xyz file\n",
    "t_gas = noble_gas(atom_type, sim_temp, sim_density)\n",
    "\n",
    "t_gas.compute_accelerations()\n",
    "\n",
    "Pavg = 0.\n",
    "Tavg = 0.\n",
    "\n",
    "file_name = \"output_\" + atom_type + \"_\" + str(sim_temp) + \"_\" + str(sim_density) +\".xyz\"\n",
    "myfile = open(file_name,\"w\")\n",
    "myfile.write(str(num_atoms))\n",
    "\n",
    "for i in range(0,num_time):\n",
    "  t_gas.velocity_verlet()\n",
    "  ### accrue average pressure in SI\n",
    "  Pavg = Pavg + t_gas.pressure * t_gas.press_fac\n",
    "  t_gas.mean_squared_velocity()\n",
    "  ### instantaneous temperature in natural units\n",
    "  t_gas.T_instant = t_gas.msv * t_gas.mass / 3.\n",
    "  ### accrue average temperature in SI\n",
    "  Tavg = Tavg + t_gas.T_instant * t_gas.temp_fac\n",
    "  ### np.append(all_positions,t_gas.position_array)\n",
    "  for j in range(0,num_atoms):\n",
    "    string=\"\\n\" + atom_type + \" \" + str(t_gas.position_array[j][0]) + \" \" + str(t_gas.position_array[j][1]) + \" \" + str(t_gas.position_array[j][2])\n",
    "    myfile.write(string)\n",
    "\n",
    "myfile.close()\n",
    "\n",
    "Pavg /= num_time\n",
    "Tavg /= num_time\n",
    "\n",
    "Z = Pavg * t_gas.vol_si / (t_gas.N * t_gas.kb_SI * Tavg)\n",
    "\n",
    "# make and display a DataFrame with the simulation results\n",
    "print('Simulation Results\\n')\n",
    "sim_data = {'Avg. Pressure (kPa)':[Pavg/1000.],'Avg. Temp. (K):':[Tavg],'Z':[Z]}\n",
    "sim_results = pd.DataFrame(data=sim_data)\n",
    "sim_results = sim_results.round(decimals=3)\n",
    "print(sim_results)\n"
   ]
  },
  {
   "cell_type": "markdown",
   "metadata": {
    "id": "gSyT9d1JYfYp"
   },
   "source": [
    "Now let's save the simulation input parameters (atom type, initial temperature, and number density) and the output results (average pressure, average temperature, and compressibility factor).\n",
    "\n",
    "The code block below will append the values for the latest simulation to the variables that we created previously to store the data. (**Hint:** only run this section once for each simulation or else you'll save the data twice!)"
   ]
  },
  {
   "cell_type": "code",
   "execution_count": 4,
   "metadata": {
    "id": "OLu_bdHEVLZM"
   },
   "outputs": [],
   "source": [
    "# add results from this simulation to the variables\n",
    "atom_type_all.append(atom_type)\n",
    "sim_temp_all.append(sim_temp)\n",
    "sim_density_all.append(sim_density)\n",
    "Pavg_all.append(Pavg/1000.)\n",
    "Tavg_all.append(Tavg)\n",
    "Z_all.append(Z)"
   ]
  },
  {
   "cell_type": "markdown",
   "metadata": {
    "id": "R5DrylgIrW7p"
   },
   "source": [
    "#Visualize MD Simulations\n",
    "\n",
    "Run the SECOND code block below to play a visualization of the most recent MD simulation.\n",
    "\n",
    "If you want to visualize a different simulation result, not the most recent one, uncomment the line of code in the FIRST code block by removing the pound sign (#) and change the filename. (Hint: remember to add back the pound sign when you're done or else this code will only visualize the selected simulation.)"
   ]
  },
  {
   "cell_type": "code",
   "execution_count": null,
   "metadata": {
    "id": "NKpRPo2YmAeH"
   },
   "outputs": [],
   "source": [
    "### choose a different simulation result to visualize\n",
    "### remove the leading \"#\" and change the simulation filename to the one you want\n",
    "# file_name = 'output_Ar_300_40.xyz'"
   ]
  },
  {
   "cell_type": "code",
   "execution_count": null,
   "metadata": {
    "colab": {
     "base_uri": "https://localhost:8080/",
     "height": 335,
     "referenced_widgets": [
      "5057ec9be56c4421b79bc09f402b0ba5",
      "e2d85f8570d347889817e0e6258c3db9",
      "ba036a644164481d873c755cb44f6890",
      "5c5e4948b0a2437786f318f50bcc2c7a",
      "0d5d284d00bd4b54bd801147cd0b84f0",
      "b450361332a04216ac83217e6d610fe4",
      "5280e538c91f4eb984c43cf3f28c3396",
      "9d70b8ea843f488ea4acc02849321259",
      "70541b7de4524956bfcf9372cfb69cda",
      "da31ec2eb7e84b52ae77debf316a5f3d",
      "dc79d754730141d6a09f79bf8eaff32a",
      "7fc1e41ef61847cf9c058938779e9325",
      "66efba03d10f4bbdaeacb280948fa53c"
     ]
    },
    "id": "LfLWMimlaKkw",
    "outputId": "06645e92-3afe-476a-b2d9-20878423c1dc"
   },
   "outputs": [],
   "source": [
    "### enable custom widgets (again)\n",
    "from google.colab import output\n",
    "output.enable_custom_widget_manager()\n",
    "\n",
    "### create Universe object\n",
    "u = MD.Universe(file_name)\n",
    "\n",
    "print(\"Simulation: \" + file_name)\n",
    "\n",
    "### play MD movie\n",
    "ngl.show_mdanalysis(u)"
   ]
  },
  {
   "cell_type": "code",
   "execution_count": null,
   "metadata": {
    "id": "3cvLkeqgAD6M"
   },
   "outputs": [],
   "source": [
    "### this isn't working because all_positions only has one timestep of data (maybe data type issues with all_positions)\n",
    "\n",
    "### myfile = open(\"output.xyz\",\"w\")\n",
    "### myfile.write(str(num_atoms))\n",
    "### for i in range(0,num_time):\n",
    "###   for j in range(0,num_atoms):\n",
    "###     string=\"\\n\" + atom_type + str(all_positions[i][j][0]) + \" \" + str(all_positions[i][j][1]) + \" \" + str(all_positions[i][j][2])\n",
    "###     myfile.write(string)\n",
    "### myfile.close()\n",
    "\n",
    "\n",
    "### read in XYZ coordinates -- doesn't seem necessary\n",
    "\n",
    "### MD.coordinates.XYZ.XYZReader(file_name)"
   ]
  },
  {
   "cell_type": "markdown",
   "metadata": {
    "id": "u43SljcOlzmT"
   },
   "source": [
    "# Display Summary of Simulation Results\n",
    "\n",
    "Now let's display a DataFrame with the results for all the simulations saved into the summary variables."
   ]
  },
  {
   "cell_type": "code",
   "execution_count": null,
   "metadata": {
    "colab": {
     "base_uri": "https://localhost:8080/"
    },
    "id": "dfBNXi-Ll6lR",
    "outputId": "0bd39586-3306-40f1-89ea-edbcf3f7ca1d"
   },
   "outputs": [],
   "source": [
    "### make and display a DataFrame\n",
    "data_all = {'Gas':atom_type_all,'Initial Temp. (K)':sim_temp_all,'Number Density (mol/m^3)':sim_density_all,'Avg. Pressure (kPa)':Pavg_all,'Avg. Temp. (K):':Tavg_all,'Z':Z_all}\n",
    "sim_results_all = pd.DataFrame(data=data_all)\n",
    "sim_results_all = sim_results_all.round(decimals=3)\n",
    "print(sim_results_all)"
   ]
  },
  {
   "cell_type": "code",
   "execution_count": null,
   "metadata": {
    "id": "YJCNzBfTaqfF"
   },
   "outputs": [],
   "source": [
    "### not sure what this code is doing\n",
    "\n",
    "# from google.colab import output\n",
    "# output.disable_custom_widget_manager()"
   ]
  },
  {
   "cell_type": "markdown",
   "metadata": {
    "id": "6EfB07WUr4rY"
   },
   "source": [
    "#Plot the Data\n",
    "\n",
    "Now we can analyze our simulation results further by generating different types of plots.\n",
    "- A quasi-isotherm of P vs. number density\n",
    "- A plot of Z vs. number density\n",
    "- A plot of Z vs. T\n",
    "\n",
    "To do this, we'll need to manually select which rows of the summary table contain the relevant data for each plot."
   ]
  },
  {
   "cell_type": "markdown",
   "metadata": {
    "id": "ZwCyersGul1E"
   },
   "source": [
    "##Quasi-isotherms of P vs. number density"
   ]
  },
  {
   "cell_type": "code",
   "execution_count": null,
   "metadata": {
    "colab": {
     "base_uri": "https://localhost:8080/",
     "height": 449
    },
    "id": "YKEl4Nngr4Eq",
    "outputId": "5723d29c-dae0-4299-8a7f-0b1da626325f"
   },
   "outputs": [],
   "source": [
    "# change the line below to select the rows that contain simulations done for the same gas at the same temperature\n",
    "idx = [0,2]\n",
    "\n",
    "# get x-y data and generate plot\n",
    "x=sim_results_all.iloc[idx,2]\n",
    "y=sim_results_all.iloc[idx,3]\n",
    "plt.scatter(x, y)\n",
    "plt.xlabel('Number Density (mol/m^3)')\n",
    "plt.ylabel('Pressure (kPa)')\n",
    "plt.show()"
   ]
  },
  {
   "cell_type": "markdown",
   "metadata": {
    "id": "uWK58z2izm0G"
   },
   "source": [
    "##Z vs. number density"
   ]
  },
  {
   "cell_type": "code",
   "execution_count": null,
   "metadata": {
    "colab": {
     "base_uri": "https://localhost:8080/",
     "height": 449
    },
    "id": "YzZbGkT1zIoZ",
    "outputId": "958a2b2c-159a-4739-f098-e9e7b98985ed"
   },
   "outputs": [],
   "source": [
    "# change the line below to select the rows that contain simulations done for the same gas at the same temperature\n",
    "idx = [0,2]\n",
    "\n",
    "# get x-y data and generate plot\n",
    "x=sim_results_all.iloc[idx,2]\n",
    "y=sim_results_all.iloc[idx,5]\n",
    "plt.scatter(x, y)\n",
    "plt.xlabel('Number Density (mol/m^3)')\n",
    "plt.ylabel('Z')\n",
    "plt.show()"
   ]
  },
  {
   "cell_type": "markdown",
   "metadata": {
    "id": "9lBEJ_F102iW"
   },
   "source": [
    "#Z vs. temperature"
   ]
  },
  {
   "cell_type": "code",
   "execution_count": null,
   "metadata": {
    "colab": {
     "base_uri": "https://localhost:8080/",
     "height": 449
    },
    "id": "zjL9w73N06D4",
    "outputId": "941e54c5-c0fc-49e9-f1d3-6735dcf8f8d0"
   },
   "outputs": [],
   "source": [
    "# change the line below to select the rows that contain simulations done for the same gas at the same number density\n",
    "idx = [0,1]\n",
    "\n",
    "# get x-y data and generate plot\n",
    "x=sim_results_all.iloc[idx,1]\n",
    "y=sim_results_all.iloc[idx,5]\n",
    "plt.scatter(x, y)\n",
    "plt.xlabel('Temperature')\n",
    "plt.ylabel('Z')\n",
    "plt.show()"
   ]
  },
  {
   "cell_type": "markdown",
   "metadata": {
    "id": "q00VfAOpnwNp"
   },
   "source": [
    "# Export the Data"
   ]
  },
  {
   "cell_type": "markdown",
   "metadata": {
    "id": "2bUdfMzMaqH0"
   },
   "source": [
    "## Summary Results\n",
    "\n",
    "Now let's export the simulation results. We can save the summary table above as a comma separated variable (CSV) file that can be saved on your computer and opened in many different programs.\n",
    "\n",
    "After running the code below, click on the folder icon in the left toolbar. You should see a a file called \"MDsimresults.csv\" in the directory. Click on the three dots to the right of the file name to download it to your computer."
   ]
  },
  {
   "cell_type": "code",
   "execution_count": null,
   "metadata": {
    "id": "43xRfWVrcAs-"
   },
   "outputs": [],
   "source": [
    "### save the simulation results to a CSV file called \"MDsimresults.csv\"\n",
    "sim_results_all.to_csv('MDsimresults.csv')"
   ]
  },
  {
   "cell_type": "markdown",
   "metadata": {
    "id": "Sf9bN3jpnROW"
   },
   "source": [
    "## Trajectory Files\n",
    "\n",
    "In the same directory as the summary CSV file, you should see trajectory (.xyz) files for each simulation that you ran in this session. Save those files to your computer following the same procedure for the summary CSV file. These files can be opened in another MD visualization software, such as [VMD](https://www.ks.uiuc.edu/Research/vmd/)."
   ]
  },
  {
   "cell_type": "markdown",
   "metadata": {
    "id": "YyhD49KIs_E0"
   },
   "source": [
    "# Messing Around"
   ]
  },
  {
   "cell_type": "code",
   "execution_count": null,
   "metadata": {
    "id": "Y3ceb3Yns6jR"
   },
   "outputs": [],
   "source": [
    "pip install mdtraj"
   ]
  },
  {
   "cell_type": "code",
   "execution_count": null,
   "metadata": {
    "colab": {
     "base_uri": "https://localhost:8080/",
     "height": 168
    },
    "id": "h2zMJSadxseA",
    "outputId": "afcf9bb0-1ad0-4fb7-b6fe-72ea9a8c8f6e"
   },
   "outputs": [],
   "source": [
    "traj = mdt.load_xyz('output_Ar_300_40.xyz',top=None)"
   ]
  },
  {
   "cell_type": "code",
   "execution_count": null,
   "metadata": {
    "id": "mTMukLHH6pWQ"
   },
   "outputs": [],
   "source": [
    "import mdtraj as mdt"
   ]
  },
  {
   "cell_type": "code",
   "execution_count": null,
   "metadata": {
    "id": "CRrY4Rcpup43"
   },
   "outputs": [],
   "source": [
    "# Read the .xyz file\n",
    "with open('output_Ar_300_40.xyz') as f:\n",
    "    # Skip the first line (number of atoms)\n",
    "    next(f)\n",
    "    # Read the rest of the lines (atom positions)\n",
    "    frames = []\n",
    "    for line in f:\n",
    "        coords = [[float(d) for d in line.split()[1:]][i:i+3] for i in range(0, len(line.split()[1:]), 3)]\n",
    "        frames.append(ngl.MDTrajTrajectory(coords))\n",
    "\n",
    "# Create an NGLView widget\n",
    "print(frames)  # Debugging print statement\n",
    "\n",
    "view = ngl.NGLWidget(frames)\n",
    "\n",
    "# Save each frame as a PDB file\n",
    "for i, frame in enumerate(frames):\n",
    "    frame.save_pdb(f'frame_{i}.pdb')\n"
   ]
  }
 ],
 "metadata": {
  "colab": {
   "provenance": [],
   "toc_visible": true
  },
  "kernelspec": {
   "display_name": "Python 3 (ipykernel)",
   "language": "python",
   "name": "python3"
  },
  "language_info": {
   "codemirror_mode": {
    "name": "ipython",
    "version": 3
   },
   "file_extension": ".py",
   "mimetype": "text/x-python",
   "name": "python",
   "nbconvert_exporter": "python",
   "pygments_lexer": "ipython3",
   "version": "3.8.13"
  },
  "widgets": {
   "application/vnd.jupyter.widget-state+json": {
    "0d5d284d00bd4b54bd801147cd0b84f0": {
     "model_module": "@jupyter-widgets/base",
     "model_module_version": "1.2.0",
     "model_name": "LayoutModel",
     "state": {
      "_model_module": "@jupyter-widgets/base",
      "_model_module_version": "1.2.0",
      "_model_name": "LayoutModel",
      "_view_count": null,
      "_view_module": "@jupyter-widgets/base",
      "_view_module_version": "1.2.0",
      "_view_name": "LayoutView",
      "align_content": null,
      "align_items": null,
      "align_self": null,
      "border": null,
      "bottom": null,
      "display": null,
      "flex": null,
      "flex_flow": null,
      "grid_area": null,
      "grid_auto_columns": null,
      "grid_auto_flow": null,
      "grid_auto_rows": null,
      "grid_column": null,
      "grid_gap": null,
      "grid_row": null,
      "grid_template_areas": null,
      "grid_template_columns": null,
      "grid_template_rows": null,
      "height": null,
      "justify_content": null,
      "justify_items": null,
      "left": null,
      "margin": null,
      "max_height": null,
      "max_width": null,
      "min_height": null,
      "min_width": null,
      "object_fit": null,
      "object_position": null,
      "order": null,
      "overflow": null,
      "overflow_x": null,
      "overflow_y": null,
      "padding": null,
      "right": null,
      "top": null,
      "visibility": null,
      "width": null
     }
    },
    "161d8e37842d4561beba19fc5e4650cc": {
     "model_module": "@jupyter-widgets/base",
     "model_module_version": "1.2.0",
     "model_name": "LayoutModel",
     "state": {
      "_model_module": "@jupyter-widgets/base",
      "_model_module_version": "1.2.0",
      "_model_name": "LayoutModel",
      "_view_count": null,
      "_view_module": "@jupyter-widgets/base",
      "_view_module_version": "1.2.0",
      "_view_name": "LayoutView",
      "align_content": null,
      "align_items": null,
      "align_self": null,
      "border": null,
      "bottom": null,
      "display": null,
      "flex": null,
      "flex_flow": null,
      "grid_area": null,
      "grid_auto_columns": null,
      "grid_auto_flow": null,
      "grid_auto_rows": null,
      "grid_column": null,
      "grid_gap": null,
      "grid_row": null,
      "grid_template_areas": null,
      "grid_template_columns": null,
      "grid_template_rows": null,
      "height": null,
      "justify_content": null,
      "justify_items": null,
      "left": null,
      "margin": null,
      "max_height": null,
      "max_width": null,
      "min_height": null,
      "min_width": null,
      "object_fit": null,
      "object_position": null,
      "order": null,
      "overflow": null,
      "overflow_x": null,
      "overflow_y": null,
      "padding": null,
      "right": null,
      "top": null,
      "visibility": null,
      "width": null
     }
    },
    "4f514a8bef3f41fa93a656bb23961b06": {
     "model_module": "nglview-js-widgets",
     "model_module_version": "3.0.1",
     "model_name": "ColormakerRegistryModel",
     "state": {
      "_dom_classes": [],
      "_model_module": "nglview-js-widgets",
      "_model_module_version": "3.0.1",
      "_model_name": "ColormakerRegistryModel",
      "_msg_ar": [],
      "_msg_q": [],
      "_ready": true,
      "_view_count": null,
      "_view_module": "nglview-js-widgets",
      "_view_module_version": "3.0.1",
      "_view_name": "ColormakerRegistryView",
      "layout": "IPY_MODEL_161d8e37842d4561beba19fc5e4650cc"
     }
    },
    "5057ec9be56c4421b79bc09f402b0ba5": {
     "model_module": "nglview-js-widgets",
     "model_module_version": "3.0.1",
     "model_name": "NGLModel",
     "state": {
      "_camera_orientation": [
       95.87199397039842,
       0,
       0,
       0,
       0,
       95.87199397039842,
       0,
       0,
       0,
       0,
       95.87199397039842,
       0,
       -30.910999536514282,
       -30.919000148773193,
       -30.907999277114868,
       1
      ],
      "_camera_str": "orthographic",
      "_dom_classes": [],
      "_gui_theme": null,
      "_ibtn_fullscreen": "IPY_MODEL_ba036a644164481d873c755cb44f6890",
      "_igui": null,
      "_iplayer": "IPY_MODEL_5c5e4948b0a2437786f318f50bcc2c7a",
      "_model_module": "nglview-js-widgets",
      "_model_module_version": "3.0.1",
      "_model_name": "NGLModel",
      "_ngl_color_dict": {},
      "_ngl_coordinate_resource": {},
      "_ngl_full_stage_parameters": {
       "ambientColor": 14540253,
       "ambientIntensity": 0.2,
       "backgroundColor": "white",
       "cameraEyeSep": 0.3,
       "cameraFov": 40,
       "cameraType": "perspective",
       "clipDist": 10,
       "clipFar": 100,
       "clipNear": 0,
       "fogFar": 100,
       "fogNear": 50,
       "hoverTimeout": 0,
       "impostor": true,
       "lightColor": 14540253,
       "lightIntensity": 1,
       "mousePreset": "default",
       "panSpeed": 1,
       "quality": "medium",
       "rotateSpeed": 2,
       "sampleLevel": 0,
       "tooltip": true,
       "workerDefault": true,
       "zoomSpeed": 1.2
      },
      "_ngl_msg_archive": [
       {
        "args": [
         {
          "binary": false,
          "data": "TITLE     MDANALYSIS FRAME 0: Created by PDBWriter\nCRYST1    1.000    1.000    1.000  90.00  90.00  90.00 P 1           1\nREMARK     285 UNITARY VALUES FOR THE UNIT CELL AUTOMATICALLY SET\nREMARK     285 BY MDANALYSIS PDBWRITER BECAUSE UNIT CELL INFORMATION\nREMARK     285 WAS MISSING.\nREMARK     285 PROTEIN DATA BANK CONVENTIONS REQUIRE THAT\nREMARK     285 CRYST1 RECORD IS INCLUDED, BUT THE VALUES ON\nREMARK     285 THIS RECORD ARE MEANINGLESS.\nATOM      1  Ar  UNK X   1       5.159   5.161  15.451  1.00  0.00      SYSTAR  \nATOM      2  Ar  UNK X   1       5.153   5.154  25.758  1.00  0.00      SYSTAR  \nATOM      3  Ar  UNK X   1       5.140   5.155  36.064  1.00  0.00      SYSTAR  \nATOM      4  Ar  UNK X   1       5.149   5.147  46.361  1.00  0.00      SYSTAR  \nATOM      5  Ar  UNK X   1       5.156   5.147  56.673  1.00  0.00      SYSTAR  \nATOM      6  Ar  UNK X   1       5.152  15.447   5.166  1.00  0.00      SYSTAR  \nATOM      7  Ar  UNK X   1       5.153  15.447  15.462  1.00  0.00      SYSTAR  \nATOM      8  Ar  UNK X   1       5.163  15.443  25.767  1.00  0.00      SYSTAR  \nATOM      9  Ar  UNK X   1       5.155  15.457  36.060  1.00  0.00      SYSTAR  \nATOM     10  Ar  UNK X   1       5.159  15.446  46.370  1.00  0.00      SYSTAR  \nATOM     11  Ar  UNK X   1       5.158  15.453  56.662  1.00  0.00      SYSTAR  \nATOM     12  Ar  UNK X   1       5.146  25.750   5.158  1.00  0.00      SYSTAR  \nATOM     13  Ar  UNK X   1       5.161  25.754  15.460  1.00  0.00      SYSTAR  \nATOM     14  Ar  UNK X   1       5.148  25.759  25.766  1.00  0.00      SYSTAR  \nATOM     15  Ar  UNK X   1       5.158  25.760  36.061  1.00  0.00      SYSTAR  \nATOM     16  Ar  UNK X   1       5.150  25.764  46.364  1.00  0.00      SYSTAR  \nATOM     17  Ar  UNK X   1       5.154  25.746  56.670  1.00  0.00      SYSTAR  \nATOM     18  Ar  UNK X   1       5.151  36.067   5.147  1.00  0.00      SYSTAR  \nATOM     19  Ar  UNK X   1       5.165  36.057  15.455  1.00  0.00      SYSTAR  \nATOM     20  Ar  UNK X   1       5.146  36.071  25.752  1.00  0.00      SYSTAR  \nATOM     21  Ar  UNK X   1       5.153  36.057  36.055  1.00  0.00      SYSTAR  \nATOM     22  Ar  UNK X   1       5.151  36.056  46.358  1.00  0.00      SYSTAR  \nATOM     23  Ar  UNK X   1       5.143  36.063  56.680  1.00  0.00      SYSTAR  \nATOM     24  Ar  UNK X   1       5.152  46.367   5.156  1.00  0.00      SYSTAR  \nATOM     25  Ar  UNK X   1       5.154  46.360  15.447  1.00  0.00      SYSTAR  \nATOM     26  Ar  UNK X   1       5.147  46.362  25.753  1.00  0.00      SYSTAR  \nATOM     27  Ar  UNK X   1       5.155  46.378  36.066  1.00  0.00      SYSTAR  \nATOM     28  Ar  UNK X   1       5.141  46.372  46.360  1.00  0.00      SYSTAR  \nATOM     29  Ar  UNK X   1       5.151  46.371  56.661  1.00  0.00      SYSTAR  \nATOM     30  Ar  UNK X   1       5.156  56.675   5.139  1.00  0.00      SYSTAR  \nATOM     31  Ar  UNK X   1       5.155  56.662  15.461  1.00  0.00      SYSTAR  \nATOM     32  Ar  UNK X   1       5.153  56.655  25.757  1.00  0.00      SYSTAR  \nATOM     33  Ar  UNK X   1       5.158  56.653  36.053  1.00  0.00      SYSTAR  \nATOM     34  Ar  UNK X   1       5.161  56.672  46.358  1.00  0.00      SYSTAR  \nATOM     35  Ar  UNK X   1       5.158  56.675  56.663  1.00  0.00      SYSTAR  \nATOM     36  Ar  UNK X   1      15.451   5.146   5.159  1.00  0.00      SYSTAR  \nATOM     37  Ar  UNK X   1      15.471   5.156  15.452  1.00  0.00      SYSTAR  \nATOM     38  Ar  UNK X   1      15.467   5.155  25.766  1.00  0.00      SYSTAR  \nATOM     39  Ar  UNK X   1      15.457   5.153  36.070  1.00  0.00      SYSTAR  \nATOM     40  Ar  UNK X   1      15.453   5.156  46.385  1.00  0.00      SYSTAR  \nATOM     41  Ar  UNK X   1      15.455   5.157  56.666  1.00  0.00      SYSTAR  \nATOM     42  Ar  UNK X   1      15.456  15.459   5.157  1.00  0.00      SYSTAR  \nATOM     43  Ar  UNK X   1      15.453  15.455  15.459  1.00  0.00      SYSTAR  \nATOM     44  Ar  UNK X   1      15.465  15.456  25.777  1.00  0.00      SYSTAR  \nATOM     45  Ar  UNK X   1      15.447  15.448  36.064  1.00  0.00      SYSTAR  \nATOM     46  Ar  UNK X   1      15.457  15.460  46.366  1.00  0.00      SYSTAR  \nATOM     47  Ar  UNK X   1      15.452  15.457  56.671  1.00  0.00      SYSTAR  \nATOM     48  Ar  UNK X   1      15.455  25.769   5.151  1.00  0.00      SYSTAR  \nATOM     49  Ar  UNK X   1      15.468  25.760  15.444  1.00  0.00      SYSTAR  \nATOM     50  Ar  UNK X   1      15.460  25.762  25.763  1.00  0.00      SYSTAR  \nATOM     51  Ar  UNK X   1      15.454  25.767  36.062  1.00  0.00      SYSTAR  \nATOM     52  Ar  UNK X   1      15.453  25.757  46.355  1.00  0.00      SYSTAR  \nATOM     53  Ar  UNK X   1      15.464  25.759  56.677  1.00  0.00      SYSTAR  \nATOM     54  Ar  UNK X   1      15.460  36.068   5.158  1.00  0.00      SYSTAR  \nATOM     55  Ar  UNK X   1      15.440  36.058  15.464  1.00  0.00      SYSTAR  \nATOM     56  Ar  UNK X   1      15.461  36.060  25.758  1.00  0.00      SYSTAR  \nATOM     57  Ar  UNK X   1      15.457  36.063  36.071  1.00  0.00      SYSTAR  \nATOM     58  Ar  UNK X   1      15.454  36.047  46.369  1.00  0.00      SYSTAR  \nATOM     59  Ar  UNK X   1      15.449  36.068  56.662  1.00  0.00      SYSTAR  \nATOM     60  Ar  UNK X   1      15.454  46.371   5.136  1.00  0.00      SYSTAR  \nATOM     61  Ar  UNK X   1      15.452  46.369  15.453  1.00  0.00      SYSTAR  \nATOM     62  Ar  UNK X   1      15.456  46.360  25.754  1.00  0.00      SYSTAR  \nATOM     63  Ar  UNK X   1      15.449  46.359  36.052  1.00  0.00      SYSTAR  \nATOM     64  Ar  UNK X   1      15.453  46.371  46.370  1.00  0.00      SYSTAR  \nATOM     65  Ar  UNK X   1      15.458  46.368  56.677  1.00  0.00      SYSTAR  \nATOM     66  Ar  UNK X   1      15.468  56.670   5.149  1.00  0.00      SYSTAR  \nATOM     67  Ar  UNK X   1      15.452  56.679  15.454  1.00  0.00      SYSTAR  \nATOM     68  Ar  UNK X   1      15.463  56.674  25.752  1.00  0.00      SYSTAR  \nATOM     69  Ar  UNK X   1      15.456  56.677  36.061  1.00  0.00      SYSTAR  \nATOM     70  Ar  UNK X   1      15.453  56.681  46.368  1.00  0.00      SYSTAR  \nATOM     71  Ar  UNK X   1      15.461  56.667  56.677  1.00  0.00      SYSTAR  \nATOM     72  Ar  UNK X   1      25.760   5.159   5.161  1.00  0.00      SYSTAR  \nATOM     73  Ar  UNK X   1      25.759   5.147  15.468  1.00  0.00      SYSTAR  \nATOM     74  Ar  UNK X   1      25.744   5.155  25.747  1.00  0.00      SYSTAR  \nATOM     75  Ar  UNK X   1      25.761   5.148  36.062  1.00  0.00      SYSTAR  \nATOM     76  Ar  UNK X   1      25.755   5.162  46.374  1.00  0.00      SYSTAR  \nATOM     77  Ar  UNK X   1      25.753   5.169  56.669  1.00  0.00      SYSTAR  \nATOM     78  Ar  UNK X   1      25.766  15.442   5.154  1.00  0.00      SYSTAR  \nATOM     79  Ar  UNK X   1      25.759  15.451  15.448  1.00  0.00      SYSTAR  \nATOM     80  Ar  UNK X   1      25.766  15.456  25.758  1.00  0.00      SYSTAR  \nATOM     81  Ar  UNK X   1      25.753  15.457  36.054  1.00  0.00      SYSTAR  \nATOM     82  Ar  UNK X   1      25.757  15.447  46.366  1.00  0.00      SYSTAR  \nATOM     83  Ar  UNK X   1      25.754  15.458  56.674  1.00  0.00      SYSTAR  \nATOM     84  Ar  UNK X   1      25.766  25.753   5.154  1.00  0.00      SYSTAR  \nATOM     85  Ar  UNK X   1      25.761  25.762  15.463  1.00  0.00      SYSTAR  \nATOM     86  Ar  UNK X   1      25.758  25.764  25.756  1.00  0.00      SYSTAR  \nATOM     87  Ar  UNK X   1      25.764  25.765  36.066  1.00  0.00      SYSTAR  \nATOM     88  Ar  UNK X   1      25.766  25.762  46.362  1.00  0.00      SYSTAR  \nATOM     89  Ar  UNK X   1      25.758  25.762  56.666  1.00  0.00      SYSTAR  \nATOM     90  Ar  UNK X   1      25.765  36.067   5.149  1.00  0.00      SYSTAR  \nATOM     91  Ar  UNK X   1      25.774  36.051  15.446  1.00  0.00      SYSTAR  \nATOM     92  Ar  UNK X   1      25.758  36.069  25.756  1.00  0.00      SYSTAR  \nATOM     93  Ar  UNK X   1      25.768  36.066  36.071  1.00  0.00      SYSTAR  \nATOM     94  Ar  UNK X   1      25.776  36.065  46.369  1.00  0.00      SYSTAR  \nATOM     95  Ar  UNK X   1      25.768  36.054  56.677  1.00  0.00      SYSTAR  \nATOM     96  Ar  UNK X   1      25.754  46.352   5.152  1.00  0.00      SYSTAR  \nATOM     97  Ar  UNK X   1      25.748  46.362  15.447  1.00  0.00      SYSTAR  \nATOM     98  Ar  UNK X   1      25.765  46.363  25.767  1.00  0.00      SYSTAR  \nATOM     99  Ar  UNK X   1      25.756  46.379  36.077  1.00  0.00      SYSTAR  \nATOM    100  Ar  UNK X   1      25.758  46.373  46.366  1.00  0.00      SYSTAR  \nATOM    101  Ar  UNK X   1      25.765  46.360  56.674  1.00  0.00      SYSTAR  \nATOM    102  Ar  UNK X   1      25.763  56.673   5.143  1.00  0.00      SYSTAR  \nATOM    103  Ar  UNK X   1      25.759  56.676  15.457  1.00  0.00      SYSTAR  \nATOM    104  Ar  UNK X   1      25.760  56.665  25.760  1.00  0.00      SYSTAR  \nATOM    105  Ar  UNK X   1      25.741  56.684  36.085  1.00  0.00      SYSTAR  \nATOM    106  Ar  UNK X   1      25.761  56.668  46.377  1.00  0.00      SYSTAR  \nATOM    107  Ar  UNK X   1      25.740  56.667  56.669  1.00  0.00      SYSTAR  \nATOM    108  Ar  UNK X   1      36.065   5.144   5.149  1.00  0.00      SYSTAR  \nATOM    109  Ar  UNK X   1      36.047   5.148  15.458  1.00  0.00      SYSTAR  \nATOM    110  Ar  UNK X   1      36.064   5.149  25.761  1.00  0.00      SYSTAR  \nATOM    111  Ar  UNK X   1      36.051   5.160  36.067  1.00  0.00      SYSTAR  \nATOM    112  Ar  UNK X   1      36.065   5.153  46.363  1.00  0.00      SYSTAR  \nATOM    113  Ar  UNK X   1      36.066   5.155  56.670  1.00  0.00      SYSTAR  \nATOM    114  Ar  UNK X   1      36.073  15.459   5.147  1.00  0.00      SYSTAR  \nATOM    115  Ar  UNK X   1      36.066  15.461  15.465  1.00  0.00      SYSTAR  \nATOM    116  Ar  UNK X   1      36.071  15.450  25.755  1.00  0.00      SYSTAR  \nATOM    117  Ar  UNK X   1      36.065  15.453  36.070  1.00  0.00      SYSTAR  \nATOM    118  Ar  UNK X   1      36.071  15.457  46.363  1.00  0.00      SYSTAR  \nATOM    119  Ar  UNK X   1      36.054  15.460  56.670  1.00  0.00      SYSTAR  \nATOM    120  Ar  UNK X   1      36.051  25.761   5.141  1.00  0.00      SYSTAR  \nATOM    121  Ar  UNK X   1      36.067  25.754  15.457  1.00  0.00      SYSTAR  \nATOM    122  Ar  UNK X   1      36.064  25.761  25.759  1.00  0.00      SYSTAR  \nATOM    123  Ar  UNK X   1      36.076  25.758  36.079  1.00  0.00      SYSTAR  \nATOM    124  Ar  UNK X   1      36.064  25.746  46.363  1.00  0.00      SYSTAR  \nATOM    125  Ar  UNK X   1      36.067  25.751  56.677  1.00  0.00      SYSTAR  \nATOM    126  Ar  UNK X   1      36.047  36.050   5.153  1.00  0.00      SYSTAR  \nATOM    127  Ar  UNK X   1      36.053  36.060  15.450  1.00  0.00      SYSTAR  \nATOM    128  Ar  UNK X   1      36.071  36.059  25.750  1.00  0.00      SYSTAR  \nATOM    129  Ar  UNK X   1      36.066  36.057  36.071  1.00  0.00      SYSTAR  \nATOM    130  Ar  UNK X   1      36.058  36.059  46.371  1.00  0.00      SYSTAR  \nATOM    131  Ar  UNK X   1      36.067  36.060  56.657  1.00  0.00      SYSTAR  \nATOM    132  Ar  UNK X   1      36.067  46.363   5.139  1.00  0.00      SYSTAR  \nATOM    133  Ar  UNK X   1      36.057  46.380  15.444  1.00  0.00      SYSTAR  \nATOM    134  Ar  UNK X   1      36.058  46.375  25.760  1.00  0.00      SYSTAR  \nATOM    135  Ar  UNK X   1      36.063  46.361  36.060  1.00  0.00      SYSTAR  \nATOM    136  Ar  UNK X   1      36.057  46.368  46.360  1.00  0.00      SYSTAR  \nATOM    137  Ar  UNK X   1      36.060  46.371  56.680  1.00  0.00      SYSTAR  \nATOM    138  Ar  UNK X   1      36.064  56.662   5.156  1.00  0.00      SYSTAR  \nATOM    139  Ar  UNK X   1      36.055  56.694  15.465  1.00  0.00      SYSTAR  \nATOM    140  Ar  UNK X   1      36.058  56.665  25.742  1.00  0.00      SYSTAR  \nATOM    141  Ar  UNK X   1      36.067  56.675  36.050  1.00  0.00      SYSTAR  \nATOM    142  Ar  UNK X   1      36.058  56.652  46.373  1.00  0.00      SYSTAR  \nATOM    143  Ar  UNK X   1      36.056  56.670  56.676  1.00  0.00      SYSTAR  \nATOM    144  Ar  UNK X   1      46.358   5.146   5.151  1.00  0.00      SYSTAR  \nATOM    145  Ar  UNK X   1      46.350   5.147  15.455  1.00  0.00      SYSTAR  \nATOM    146  Ar  UNK X   1      46.364   5.149  25.758  1.00  0.00      SYSTAR  \nATOM    147  Ar  UNK X   1      46.366   5.154  36.062  1.00  0.00      SYSTAR  \nATOM    148  Ar  UNK X   1      46.367   5.152  46.370  1.00  0.00      SYSTAR  \nATOM    149  Ar  UNK X   1      46.362   5.146  56.670  1.00  0.00      SYSTAR  \nATOM    150  Ar  UNK X   1      46.372  15.452   5.156  1.00  0.00      SYSTAR  \nATOM    151  Ar  UNK X   1      46.356  15.456  15.457  1.00  0.00      SYSTAR  \nATOM    152  Ar  UNK X   1      46.357  15.457  25.768  1.00  0.00      SYSTAR  \nATOM    153  Ar  UNK X   1      46.365  15.450  36.060  1.00  0.00      SYSTAR  \nATOM    154  Ar  UNK X   1      46.362  15.450  46.360  1.00  0.00      SYSTAR  \nATOM    155  Ar  UNK X   1      46.367  15.454  56.660  1.00  0.00      SYSTAR  \nATOM    156  Ar  UNK X   1      46.370  25.760   5.144  1.00  0.00      SYSTAR  \nATOM    157  Ar  UNK X   1      46.367  25.759  15.439  1.00  0.00      SYSTAR  \nATOM    158  Ar  UNK X   1      46.372  25.755  25.757  1.00  0.00      SYSTAR  \nATOM    159  Ar  UNK X   1      46.369  25.767  36.063  1.00  0.00      SYSTAR  \nATOM    160  Ar  UNK X   1      46.371  25.759  46.375  1.00  0.00      SYSTAR  \nATOM    161  Ar  UNK X   1      46.363  25.760  56.671  1.00  0.00      SYSTAR  \nATOM    162  Ar  UNK X   1      46.369  36.062   5.153  1.00  0.00      SYSTAR  \nATOM    163  Ar  UNK X   1      46.358  36.064  15.442  1.00  0.00      SYSTAR  \nATOM    164  Ar  UNK X   1      46.364  36.059  25.752  1.00  0.00      SYSTAR  \nATOM    165  Ar  UNK X   1      46.365  36.061  36.063  1.00  0.00      SYSTAR  \nATOM    166  Ar  UNK X   1      46.360  36.070  46.379  1.00  0.00      SYSTAR  \nATOM    167  Ar  UNK X   1      46.377  36.063  56.674  1.00  0.00      SYSTAR  \nATOM    168  Ar  UNK X   1      46.358  46.369   5.152  1.00  0.00      SYSTAR  \nATOM    169  Ar  UNK X   1      46.364  46.374  15.452  1.00  0.00      SYSTAR  \nATOM    170  Ar  UNK X   1      46.366  46.359  25.759  1.00  0.00      SYSTAR  \nATOM    171  Ar  UNK X   1      46.364  46.378  36.071  1.00  0.00      SYSTAR  \nATOM    172  Ar  UNK X   1      46.366  46.356  46.379  1.00  0.00      SYSTAR  \nATOM    173  Ar  UNK X   1      46.362  46.370  56.677  1.00  0.00      SYSTAR  \nATOM    174  Ar  UNK X   1      46.360  56.676   5.154  1.00  0.00      SYSTAR  \nATOM    175  Ar  UNK X   1      46.365  56.683  15.450  1.00  0.00      SYSTAR  \nATOM    176  Ar  UNK X   1      46.369  56.675  25.760  1.00  0.00      SYSTAR  \nATOM    177  Ar  UNK X   1      46.380  56.665  36.058  1.00  0.00      SYSTAR  \nATOM    178  Ar  UNK X   1      46.362  56.676  46.368  1.00  0.00      SYSTAR  \nATOM    179  Ar  UNK X   1      46.351  56.673  56.683  1.00  0.00      SYSTAR  \nATOM    180  Ar  UNK X   1      56.672   5.153   5.161  1.00  0.00      SYSTAR  \nATOM    181  Ar  UNK X   1      56.682   5.150  15.459  1.00  0.00      SYSTAR  \nATOM    182  Ar  UNK X   1      56.679   5.144  25.767  1.00  0.00      SYSTAR  \nATOM    183  Ar  UNK X   1      56.665   5.154  36.057  1.00  0.00      SYSTAR  \nATOM    184  Ar  UNK X   1      56.679   5.153  46.365  1.00  0.00      SYSTAR  \nATOM    185  Ar  UNK X   1      56.662   5.170  56.668  1.00  0.00      SYSTAR  \nATOM    186  Ar  UNK X   1      56.661  15.455   5.151  1.00  0.00      SYSTAR  \nATOM    187  Ar  UNK X   1      56.673  15.461  15.453  1.00  0.00      SYSTAR  \nATOM    188  Ar  UNK X   1      56.661  15.455  25.769  1.00  0.00      SYSTAR  \nATOM    189  Ar  UNK X   1      56.671  15.464  36.067  1.00  0.00      SYSTAR  \nATOM    190  Ar  UNK X   1      56.664  15.453  46.371  1.00  0.00      SYSTAR  \nATOM    191  Ar  UNK X   1      56.672  15.467  56.671  1.00  0.00      SYSTAR  \nATOM    192  Ar  UNK X   1      56.672  25.770   5.156  1.00  0.00      SYSTAR  \nATOM    193  Ar  UNK X   1      56.675  25.752  15.458  1.00  0.00      SYSTAR  \nATOM    194  Ar  UNK X   1      56.670  25.753  25.754  1.00  0.00      SYSTAR  \nATOM    195  Ar  UNK X   1      56.661  25.770  36.056  1.00  0.00      SYSTAR  \nATOM    196  Ar  UNK X   1      56.679  25.758  46.355  1.00  0.00      SYSTAR  \nATOM    197  Ar  UNK X   1      56.670  25.755  56.669  1.00  0.00      SYSTAR  \nATOM    198  Ar  UNK X   1      56.671  36.053   5.154  1.00  0.00      SYSTAR  \nATOM    199  Ar  UNK X   1      56.679  36.062  15.459  1.00  0.00      SYSTAR  \nATOM    200  Ar  UNK X   1      56.664  36.058  25.762  1.00  0.00      SYSTAR  \nATOM    201  Ar  UNK X   1      56.673  36.066  36.052  1.00  0.00      SYSTAR  \nATOM    202  Ar  UNK X   1      56.671  36.067  46.361  1.00  0.00      SYSTAR  \nATOM    203  Ar  UNK X   1      56.672  36.076  56.665  1.00  0.00      SYSTAR  \nATOM    204  Ar  UNK X   1      56.663  46.367   5.133  1.00  0.00      SYSTAR  \nATOM    205  Ar  UNK X   1      56.668  46.371  15.454  1.00  0.00      SYSTAR  \nATOM    206  Ar  UNK X   1      56.663  46.363  25.760  1.00  0.00      SYSTAR  \nATOM    207  Ar  UNK X   1      56.677  46.368  36.071  1.00  0.00      SYSTAR  \nATOM    208  Ar  UNK X   1      56.667  46.374  46.362  1.00  0.00      SYSTAR  \nATOM    209  Ar  UNK X   1      56.680  46.358  56.668  1.00  0.00      SYSTAR  \nATOM    210  Ar  UNK X   1      56.671  56.675   5.147  1.00  0.00      SYSTAR  \nATOM    211  Ar  UNK X   1      56.664  56.680  15.459  1.00  0.00      SYSTAR  \nATOM    212  Ar  UNK X   1      56.660  56.671  25.761  1.00  0.00      SYSTAR  \nATOM    213  Ar  UNK X   1      56.675  56.654  36.063  1.00  0.00      SYSTAR  \nATOM    214  Ar  UNK X   1      56.669  56.661  46.372  1.00  0.00      SYSTAR  \nATOM    215  Ar  UNK X   1      56.670  56.669  56.683  1.00  0.00      SYSTAR  \nATOM    216  Ar  UNK X   1       5.194   5.173   5.154  1.00  0.00      SYSTAR  \nEND\n",
          "type": "blob"
         }
        ],
        "kwargs": {
         "defaultRepresentation": true,
         "ext": "pdb",
         "name": "nglview.adaptor.MDAnalysisTrajectory"
        },
        "methodName": "loadFile",
        "reconstruc_color_scheme": false,
        "target": "Stage",
        "type": "call_method"
       }
      ],
      "_ngl_original_stage_parameters": {
       "ambientColor": 14540253,
       "ambientIntensity": 0.2,
       "backgroundColor": "white",
       "cameraEyeSep": 0.3,
       "cameraFov": 40,
       "cameraType": "perspective",
       "clipDist": 10,
       "clipFar": 100,
       "clipNear": 0,
       "fogFar": 100,
       "fogNear": 50,
       "hoverTimeout": 0,
       "impostor": true,
       "lightColor": 14540253,
       "lightIntensity": 1,
       "mousePreset": "default",
       "panSpeed": 1,
       "quality": "medium",
       "rotateSpeed": 2,
       "sampleLevel": 0,
       "tooltip": true,
       "workerDefault": true,
       "zoomSpeed": 1.2
      },
      "_ngl_repr_dict": {
       "0": {
        "0": {
         "params": {
          "aspectRatio": 1.5,
          "assembly": "default",
          "bondScale": 0.3,
          "bondSpacing": 0.75,
          "clipCenter": {
           "x": 0,
           "y": 0,
           "z": 0
          },
          "clipNear": 0,
          "clipRadius": 0,
          "colorMode": "hcl",
          "colorReverse": false,
          "colorScale": "",
          "colorScheme": "element",
          "colorValue": 9474192,
          "cylinderOnly": false,
          "defaultAssembly": "",
          "depthWrite": true,
          "diffuse": 16777215,
          "diffuseInterior": false,
          "disableImpostor": false,
          "disablePicking": false,
          "flatShaded": false,
          "interiorColor": 2236962,
          "interiorDarkening": 0,
          "lazy": false,
          "lineOnly": false,
          "linewidth": 2,
          "matrix": {
           "elements": [
            1,
            0,
            0,
            0,
            0,
            1,
            0,
            0,
            0,
            0,
            1,
            0,
            0,
            0,
            0,
            1
           ]
          },
          "metalness": 0,
          "multipleBond": "off",
          "opacity": 1,
          "openEnded": true,
          "quality": "high",
          "radialSegments": 20,
          "radiusData": {},
          "radiusScale": 2,
          "radiusSize": 0.15,
          "radiusType": "size",
          "roughness": 0.4,
          "sele": "",
          "side": "double",
          "sphereDetail": 2,
          "useInteriorColor": true,
          "visible": true,
          "wireframe": false
         },
         "type": "ball+stick"
        }
       },
       "1": {
        "0": {
         "params": {
          "aspectRatio": 1.5,
          "assembly": "default",
          "bondScale": 0.3,
          "bondSpacing": 0.75,
          "clipCenter": {
           "x": 0,
           "y": 0,
           "z": 0
          },
          "clipNear": 0,
          "clipRadius": 0,
          "colorMode": "hcl",
          "colorReverse": false,
          "colorScale": "",
          "colorScheme": "element",
          "colorValue": 9474192,
          "cylinderOnly": false,
          "defaultAssembly": "",
          "depthWrite": true,
          "diffuse": 16777215,
          "diffuseInterior": false,
          "disableImpostor": false,
          "disablePicking": false,
          "flatShaded": false,
          "interiorColor": 2236962,
          "interiorDarkening": 0,
          "lazy": false,
          "lineOnly": false,
          "linewidth": 2,
          "matrix": {
           "elements": [
            1,
            0,
            0,
            0,
            0,
            1,
            0,
            0,
            0,
            0,
            1,
            0,
            0,
            0,
            0,
            1
           ]
          },
          "metalness": 0,
          "multipleBond": "off",
          "opacity": 1,
          "openEnded": true,
          "quality": "high",
          "radialSegments": 20,
          "radiusData": {},
          "radiusScale": 2,
          "radiusSize": 0.15,
          "radiusType": "size",
          "roughness": 0.4,
          "sele": "",
          "side": "double",
          "sphereDetail": 2,
          "useInteriorColor": true,
          "visible": true,
          "wireframe": false
         },
         "type": "ball+stick"
        }
       }
      },
      "_ngl_serialize": false,
      "_ngl_version": "2.0.0-dev.36",
      "_ngl_view_id": [
       "95D82B51-8290-4793-929E-3612E1F20ED6"
      ],
      "_player_dict": {},
      "_scene_position": {},
      "_scene_rotation": {},
      "_synced_model_ids": [],
      "_synced_repr_model_ids": [],
      "_view_count": null,
      "_view_height": "",
      "_view_module": "nglview-js-widgets",
      "_view_module_version": "3.0.1",
      "_view_name": "NGLView",
      "_view_width": "",
      "background": "white",
      "frame": 1980,
      "gui_style": null,
      "layout": "IPY_MODEL_e2d85f8570d347889817e0e6258c3db9",
      "max_frame": 1980,
      "n_components": 2,
      "picked": {}
     }
    },
    "5280e538c91f4eb984c43cf3f28c3396": {
     "model_module": "@jupyter-widgets/base",
     "model_module_version": "1.2.0",
     "model_name": "LayoutModel",
     "state": {
      "_model_module": "@jupyter-widgets/base",
      "_model_module_version": "1.2.0",
      "_model_name": "LayoutModel",
      "_view_count": null,
      "_view_module": "@jupyter-widgets/base",
      "_view_module_version": "1.2.0",
      "_view_name": "LayoutView",
      "align_content": null,
      "align_items": null,
      "align_self": null,
      "border": null,
      "bottom": null,
      "display": null,
      "flex": null,
      "flex_flow": null,
      "grid_area": null,
      "grid_auto_columns": null,
      "grid_auto_flow": null,
      "grid_auto_rows": null,
      "grid_column": null,
      "grid_gap": null,
      "grid_row": null,
      "grid_template_areas": null,
      "grid_template_columns": null,
      "grid_template_rows": null,
      "height": null,
      "justify_content": null,
      "justify_items": null,
      "left": null,
      "margin": null,
      "max_height": null,
      "max_width": null,
      "min_height": null,
      "min_width": null,
      "object_fit": null,
      "object_position": null,
      "order": null,
      "overflow": null,
      "overflow_x": null,
      "overflow_y": null,
      "padding": null,
      "right": null,
      "top": null,
      "visibility": null,
      "width": null
     }
    },
    "5c5e4948b0a2437786f318f50bcc2c7a": {
     "model_module": "@jupyter-widgets/controls",
     "model_module_version": "1.5.0",
     "model_name": "HBoxModel",
     "state": {
      "_dom_classes": [],
      "_model_module": "@jupyter-widgets/controls",
      "_model_module_version": "1.5.0",
      "_model_name": "HBoxModel",
      "_view_count": null,
      "_view_module": "@jupyter-widgets/controls",
      "_view_module_version": "1.5.0",
      "_view_name": "HBoxView",
      "box_style": "",
      "children": [
       "IPY_MODEL_70541b7de4524956bfcf9372cfb69cda",
       "IPY_MODEL_da31ec2eb7e84b52ae77debf316a5f3d"
      ],
      "layout": "IPY_MODEL_66efba03d10f4bbdaeacb280948fa53c"
     }
    },
    "66efba03d10f4bbdaeacb280948fa53c": {
     "model_module": "@jupyter-widgets/base",
     "model_module_version": "1.2.0",
     "model_name": "LayoutModel",
     "state": {
      "_model_module": "@jupyter-widgets/base",
      "_model_module_version": "1.2.0",
      "_model_name": "LayoutModel",
      "_view_count": null,
      "_view_module": "@jupyter-widgets/base",
      "_view_module_version": "1.2.0",
      "_view_name": "LayoutView",
      "align_content": null,
      "align_items": null,
      "align_self": null,
      "border": null,
      "bottom": null,
      "display": null,
      "flex": null,
      "flex_flow": null,
      "grid_area": null,
      "grid_auto_columns": null,
      "grid_auto_flow": null,
      "grid_auto_rows": null,
      "grid_column": null,
      "grid_gap": null,
      "grid_row": null,
      "grid_template_areas": null,
      "grid_template_columns": null,
      "grid_template_rows": null,
      "height": null,
      "justify_content": null,
      "justify_items": null,
      "left": null,
      "margin": null,
      "max_height": null,
      "max_width": null,
      "min_height": null,
      "min_width": null,
      "object_fit": null,
      "object_position": null,
      "order": null,
      "overflow": null,
      "overflow_x": null,
      "overflow_y": null,
      "padding": null,
      "right": null,
      "top": null,
      "visibility": null,
      "width": null
     }
    },
    "70541b7de4524956bfcf9372cfb69cda": {
     "model_module": "@jupyter-widgets/controls",
     "model_module_version": "1.5.0",
     "model_name": "PlayModel",
     "state": {
      "_dom_classes": [],
      "_model_module": "@jupyter-widgets/controls",
      "_model_module_version": "1.5.0",
      "_model_name": "PlayModel",
      "_playing": false,
      "_repeat": false,
      "_view_count": null,
      "_view_module": "@jupyter-widgets/controls",
      "_view_module_version": "1.5.0",
      "_view_name": "PlayView",
      "description": "",
      "description_tooltip": null,
      "disabled": false,
      "interval": 100,
      "layout": "IPY_MODEL_0d5d284d00bd4b54bd801147cd0b84f0",
      "max": 1980,
      "min": 0,
      "playing": false,
      "show_repeat": true,
      "step": 1,
      "style": "IPY_MODEL_b450361332a04216ac83217e6d610fe4",
      "value": 1980
     }
    },
    "7fc1e41ef61847cf9c058938779e9325": {
     "model_module": "@jupyter-widgets/controls",
     "model_module_version": "1.5.0",
     "model_name": "ButtonStyleModel",
     "state": {
      "_model_module": "@jupyter-widgets/controls",
      "_model_module_version": "1.5.0",
      "_model_name": "ButtonStyleModel",
      "_view_count": null,
      "_view_module": "@jupyter-widgets/base",
      "_view_module_version": "1.2.0",
      "_view_name": "StyleView",
      "button_color": null,
      "font_weight": ""
     }
    },
    "9d70b8ea843f488ea4acc02849321259": {
     "model_module": "@jupyter-widgets/controls",
     "model_module_version": "1.5.0",
     "model_name": "SliderStyleModel",
     "state": {
      "_model_module": "@jupyter-widgets/controls",
      "_model_module_version": "1.5.0",
      "_model_name": "SliderStyleModel",
      "_view_count": null,
      "_view_module": "@jupyter-widgets/base",
      "_view_module_version": "1.2.0",
      "_view_name": "StyleView",
      "description_width": "",
      "handle_color": null
     }
    },
    "b450361332a04216ac83217e6d610fe4": {
     "model_module": "@jupyter-widgets/controls",
     "model_module_version": "1.5.0",
     "model_name": "DescriptionStyleModel",
     "state": {
      "_model_module": "@jupyter-widgets/controls",
      "_model_module_version": "1.5.0",
      "_model_name": "DescriptionStyleModel",
      "_view_count": null,
      "_view_module": "@jupyter-widgets/base",
      "_view_module_version": "1.2.0",
      "_view_name": "StyleView",
      "description_width": ""
     }
    },
    "ba036a644164481d873c755cb44f6890": {
     "model_module": "@jupyter-widgets/controls",
     "model_module_version": "1.5.0",
     "model_name": "ButtonModel",
     "state": {
      "_dom_classes": [],
      "_model_module": "@jupyter-widgets/controls",
      "_model_module_version": "1.5.0",
      "_model_name": "ButtonModel",
      "_view_count": null,
      "_view_module": "@jupyter-widgets/controls",
      "_view_module_version": "1.5.0",
      "_view_name": "ButtonView",
      "button_style": "",
      "description": "",
      "disabled": false,
      "icon": "compress",
      "layout": "IPY_MODEL_dc79d754730141d6a09f79bf8eaff32a",
      "style": "IPY_MODEL_7fc1e41ef61847cf9c058938779e9325",
      "tooltip": ""
     }
    },
    "da31ec2eb7e84b52ae77debf316a5f3d": {
     "model_module": "@jupyter-widgets/controls",
     "model_module_version": "1.5.0",
     "model_name": "IntSliderModel",
     "state": {
      "_dom_classes": [],
      "_model_module": "@jupyter-widgets/controls",
      "_model_module_version": "1.5.0",
      "_model_name": "IntSliderModel",
      "_view_count": null,
      "_view_module": "@jupyter-widgets/controls",
      "_view_module_version": "1.5.0",
      "_view_name": "IntSliderView",
      "continuous_update": true,
      "description": "",
      "description_tooltip": null,
      "disabled": false,
      "layout": "IPY_MODEL_5280e538c91f4eb984c43cf3f28c3396",
      "max": 1980,
      "min": 0,
      "orientation": "horizontal",
      "readout": true,
      "readout_format": "d",
      "step": 1,
      "style": "IPY_MODEL_9d70b8ea843f488ea4acc02849321259",
      "value": 1980
     }
    },
    "dc79d754730141d6a09f79bf8eaff32a": {
     "model_module": "@jupyter-widgets/base",
     "model_module_version": "1.2.0",
     "model_name": "LayoutModel",
     "state": {
      "_model_module": "@jupyter-widgets/base",
      "_model_module_version": "1.2.0",
      "_model_name": "LayoutModel",
      "_view_count": null,
      "_view_module": "@jupyter-widgets/base",
      "_view_module_version": "1.2.0",
      "_view_name": "LayoutView",
      "align_content": null,
      "align_items": null,
      "align_self": null,
      "border": null,
      "bottom": null,
      "display": null,
      "flex": null,
      "flex_flow": null,
      "grid_area": null,
      "grid_auto_columns": null,
      "grid_auto_flow": null,
      "grid_auto_rows": null,
      "grid_column": null,
      "grid_gap": null,
      "grid_row": null,
      "grid_template_areas": null,
      "grid_template_columns": null,
      "grid_template_rows": null,
      "height": null,
      "justify_content": null,
      "justify_items": null,
      "left": null,
      "margin": null,
      "max_height": null,
      "max_width": null,
      "min_height": null,
      "min_width": null,
      "object_fit": null,
      "object_position": null,
      "order": null,
      "overflow": null,
      "overflow_x": null,
      "overflow_y": null,
      "padding": null,
      "right": null,
      "top": null,
      "visibility": null,
      "width": "34px"
     }
    },
    "e2d85f8570d347889817e0e6258c3db9": {
     "model_module": "@jupyter-widgets/base",
     "model_module_version": "1.2.0",
     "model_name": "LayoutModel",
     "state": {
      "_model_module": "@jupyter-widgets/base",
      "_model_module_version": "1.2.0",
      "_model_name": "LayoutModel",
      "_view_count": null,
      "_view_module": "@jupyter-widgets/base",
      "_view_module_version": "1.2.0",
      "_view_name": "LayoutView",
      "align_content": null,
      "align_items": null,
      "align_self": null,
      "border": null,
      "bottom": null,
      "display": null,
      "flex": null,
      "flex_flow": null,
      "grid_area": null,
      "grid_auto_columns": null,
      "grid_auto_flow": null,
      "grid_auto_rows": null,
      "grid_column": null,
      "grid_gap": null,
      "grid_row": null,
      "grid_template_areas": null,
      "grid_template_columns": null,
      "grid_template_rows": null,
      "height": null,
      "justify_content": null,
      "justify_items": null,
      "left": null,
      "margin": null,
      "max_height": null,
      "max_width": null,
      "min_height": null,
      "min_width": null,
      "object_fit": null,
      "object_position": null,
      "order": null,
      "overflow": null,
      "overflow_x": null,
      "overflow_y": null,
      "padding": null,
      "right": null,
      "top": null,
      "visibility": null,
      "width": null
     }
    }
   }
  }
 },
 "nbformat": 4,
 "nbformat_minor": 1
}
