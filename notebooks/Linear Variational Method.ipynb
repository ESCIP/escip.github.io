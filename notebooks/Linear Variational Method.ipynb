{
 "cells": [
  {
   "cell_type": "markdown",
   "metadata": {},
   "source": [
    "# Linear Variational Principle\n",
    "This notebook demonstrates the Linear Variational Method to the particle in a box of length $10$ atomic units \n",
    "with a delta function potential centered at $x=5$ atomic units.  \n",
    "\n",
    "We will optimize\n",
    "the trial wavefunction given by \n",
    "\\begin{equation}\n",
    "\\Phi(x) = \\sum_{i=1}^N c_i \\psi_i(x)\n",
    "\\end{equation}\n",
    "where the coefficients $c_i$ are real numbers\n",
    "and $\\psi_i(x)$ are the energy eigenfunctions of the particle in a box with no potential:\n",
    "\\begin{equation}\n",
    "\\psi_n(x) = \\sqrt{\\frac{2}{10} } {\\rm sin}\\left(\\frac{n \\pi x}{10} \\right).\n",
    "\\end{equation}\n",
    "\n",
    "We will seek to minimize the energy functional through the expansion coefficients, where the\n",
    "energy functional can be written as\n",
    "\\begin{equation}\n",
    "E[\\Phi(x)] = \\frac{\\int_0^{\\infty} \\Phi^* (x) \\: \\hat{H} \\: \\Phi(x) dx }{\\int_0^{\\infty} \\Phi^* (x) \\: \\Phi(x) dx }.\n",
    "\\end{equation}\n",
    "\n",
    "\n",
    "The Hamiltonian operator in the box is given by \n",
    "\\begin{equation}\n",
    "\\hat{H} = -\\frac{\\hbar^2}{2m} \\frac{d^2}{dx^2} + \\delta(x-5);\n",
    "\\end{equation}\n",
    "in natural units, $\\hbar$ and $m$ are equal to 1.\n",
    "\n",
    "$E[\\Phi(x)]$ can be expanded as\n",
    "\\begin{equation}\n",
    "E[\\Phi(x)] \\sum_{i=1}^N \\sum_{j=1}^N c_i c_j S_{ij} = \\sum_{i=1}^N \\sum_{j=1}^N c_i c_j H_{ij}\n",
    "\\end{equation}\n",
    "where \n",
    "\\begin{equation}\n",
    "S_{ij} = \\int_0^L \\psi_i(x) \\psi_j(x) dx = \\delta_{ij}\n",
    "\\end{equation}\n",
    "and\n",
    "\\begin{equation}\n",
    "H_{ij} = \\int_0^L \\psi_i(x) \\hat{H} \\psi_j(x) dx. \n",
    "\\end{equation}\n",
    "\n",
    "We can work out a general expression for the integrals $H_{ij}$\n",
    "\\begin{equation}\n",
    "H_{ij} = \\frac{\\hbar^2 \\pi^2 j^2}{2 m L^2} \\delta_{ij} + \\frac{2}{L} {\\rm sin}\\left( \\frac{i \\pi}{2} \\right) {\\rm sin}\\left( \\frac{j\\pi}{2} \\right).\n",
    "\\end{equation}\n",
    "\n",
    "This expression can be implemented as a python function that takes the indices $i$ and $j$ and returns the value of the integral $H_{ij}$. "
   ]
  },
  {
   "cell_type": "code",
   "execution_count": 2,
   "metadata": {},
   "outputs": [],
   "source": [
    "import numpy as np\n",
    "### Function to return integrals involving Hamiltonian and basis functions\n",
    "def H_ij(i, j):\n",
    "    if i==j:\n",
    "        ham_int = np.pi**2 * j**2/(2 * 10**2) + (2/10) * np.sin(i*np.pi/2) * np.sin(j*np.pi/2)\n",
    "    else:\n",
    "        ham_int = (2/10) * np.sin(i*np.pi/2) * np.sin(j*np.pi/2)\n",
    "        \n",
    "\n",
    "    return ham_int"
   ]
  },
  {
   "cell_type": "markdown",
   "metadata": {},
   "source": [
    "Next we will create a numpy array called $H_{mat}$ that can be used to store the Hamiltonian matrix elements.  We can start by considering a trial wavefunction that is an expansion of the first 3 PIB energy eigenfunctions, so our Hamiltonian in this case should be a 3x3 numpy array."
   ]
  },
  {
   "cell_type": "code",
   "execution_count": 3,
   "metadata": {},
   "outputs": [],
   "source": [
    "dim = 3\n",
    "H_mat = np.zeros((dim,dim))"
   ]
  },
  {
   "cell_type": "markdown",
   "metadata": {},
   "source": [
    "You can use two nested $for$ loops along with your $H_{ij}$ function to fill out the values of this matrix.  Note that the indices for numpy arrays start from zero while the quantum numbers for our system start from 1, so we must offset our quantum numbers by +1 relative to our numpy array indices."
   ]
  },
  {
   "cell_type": "code",
   "execution_count": 4,
   "metadata": {},
   "outputs": [
    {
     "name": "stdout",
     "output_type": "stream",
     "text": [
      "[[ 2.49348022e-01  2.44929360e-17 -2.00000000e-01]\n",
      " [ 2.44929360e-17  1.97392088e-01 -2.44929360e-17]\n",
      " [-2.00000000e-01 -2.44929360e-17  6.44132198e-01]]\n"
     ]
    }
   ],
   "source": [
    "### loop over indices of the basis you are expanding in\n",
    "### and compute and store the corresponding Hamiltonian matrix elements\n",
    "for i in range(0,dim):\n",
    "    for j in range(0,dim):\n",
    "        H_mat[i][j] = H_ij(i+1, j+1)\n",
    "\n",
    "### Print the resulting Hamiltonian matrix\n",
    "print(H_mat)"
   ]
  },
  {
   "cell_type": "markdown",
   "metadata": {},
   "source": [
    "Before systematically identifying the optimal coefficients, it is instructive to try a few \"trial\" wavefunctions \"by hand\".  A few suggestions include:\n",
    "\\begin{equation}\n",
    "{\\bf c} = \\left(1, 0, 0 \\right) \\;  {\\bf c} = \\left(0, 1, 0 \\right) \\: {\\bf c} = \\left(0, 0, 1 \\right)\n",
    "\\end{equation}\n",
    "\\begin{equation}\n",
    "{\\bf c} = \\left(\\sqrt{1/2}, \\sqrt{1/2}, 0 \\right) \\;  {\\bf c} = \\left(0, \\sqrt{1/2}, \\sqrt{1/2} \\right) \\: {\\bf c} = \\left(\\sqrt{1/2}, 0, \\sqrt{1/2} \\right)\n",
    "\\end{equation}\n",
    "\n",
    "In Matrix form, the energy functional can be computed as follows:\n",
    "\\begin{equation}\n",
    "E = \\frac{{\\bf c}^t {\\bf H} {\\bf c}}{{\\bf c}^t {\\bf c}}\n",
    "\\end{equation}\n",
    "where ${\\bf c}^t$ is just the transpose of ${\\bf c}$.  Using numpy, this can be done with the Hamiltonian matrix defined above and a vector ${\\bf c} = \\left(1, 0, 0 \\right)$ as follows: "
   ]
  },
  {
   "cell_type": "code",
   "execution_count": 7,
   "metadata": {},
   "outputs": [
    {
     "name": "stdout",
     "output_type": "stream",
     "text": [
      "The Energy Expectation Value is  0.2493480220054468 Atomic Units\n"
     ]
    }
   ],
   "source": [
    "### create an empty numpy array for the c vector\n",
    "c = np.zeros(dim)\n",
    "### assign c vector to be (1, 0, 0)\n",
    "c[0] = 1\n",
    "\n",
    "### compute H_mat * c and store it to a new array called Hc\n",
    "Hc = np.dot(H_mat,c)\n",
    "\n",
    "### compute c^t * Hc and store it to a variable E_expt_num\n",
    "E_expt_num = np.dot(np.transpose(c),Hc)\n",
    "### compute c^t * c and store it to a variable norm\n",
    "norm = np.dot(np.transpose(c),c)\n",
    "### print the result\n",
    "print(\"The Energy Expectation Value is \",E_expt_num/norm,\"Atomic Units\")\n"
   ]
  },
  {
   "cell_type": "markdown",
   "metadata": {},
   "source": [
    "Continue evaluating the energy of different trial wavefunctions by changing the values of the ${\\bf c}$ vector and repeating the calculation above.  Does increasing the contribution of excited states impact the energy as you expect?  Explain.\n",
    "\n",
    "Finally, to get the optimal values of the ${\\bf c}$ vector, we can find the set of vectors (there will be 3) that satisfy the eigenvalue equation we wrote before.  We can use the $eig$ function of numpy to do this in one line:"
   ]
  },
  {
   "cell_type": "code",
   "execution_count": 8,
   "metadata": {},
   "outputs": [
    {
     "name": "stdout",
     "output_type": "stream",
     "text": [
      "Ground state energy with potential is approximately  0.16573541893898724\n",
      "Ground state energy of PIB is  0.04934802200544679\n"
     ]
    }
   ],
   "source": [
    "### compute eigenvalues and eigenvectors of H_mat\n",
    "### store eigenvalues to E_opt and eigenvectors to c_opt\n",
    "E_opt, c_opt = np.linalg.eig(H_mat)\n",
    "\n",
    "### print lowest eigenvalues corresponding to the \n",
    "### variational estimate of the ground state energy\n",
    "print(\"Ground state energy with potential is approximately \",np.min(E_opt))\n",
    "print(\"Ground state energy of PIB is \",np.pi**2/(200))\n",
    "\n",
    "\n"
   ]
  },
  {
   "cell_type": "markdown",
   "metadata": {},
   "source": [
    "### Questions To Think About!\n",
    "1.  Is the energy you calculated above higher or lower than the ground state energy of the ordinary particle in a box system (without the delta function potential)?\n",
    "Answer:  The energy calculated to approximate the ground state energy of the PIB + Potential using the linear variational method is higher than the true PIB ground state energy (0.165 atomic units for the PIB + Potential compared to 0.0493 atomic units for the ordinary PIB).  The addition of the potential should increase the ground state energy because it is repulsive.\n",
    "2.  Why do you think mixing in functions that correspond to excited states in the ordinary particle in a box system actually helped to improve (i.e. lower) your energy in the system with the delta function potential?\n",
    "Answer:  Certain excited states (all states with even $n$) go to zero at the center of the box, and the repulsive potential is localized to the center of the box.  Therefore, all excited states with even $n$ will move electron density away from the repulsive potential, which can potentially loer the energy.\n",
    "3.  Increase the number of basis functions to 6 (so that ${\\bf H}$ is a 6x6 matrix and ${\\bf c}$ is a vector with 6 entries) and repeat your calculation of the variational estimate of the ground state energy.  Does the energy improve (lower) compared to what it was when 3 basis functions were used?\n",
    "Answer:  Yes, the energy improves.  With 3 basis functions, the ground state energy is approximated to be 0.165 atomic units and with 6 basis functions, the ground state energy is approximated to be 0.155 atomic units.  The added flexibility of these additional basis functions (specifically more basis functions with $n$ even) allows greater flexibility in optimizing a wavefunction that describes an electron effectively avoiding the repulsive potential in the center of the box."
   ]
  },
  {
   "cell_type": "code",
   "execution_count": null,
   "metadata": {},
   "outputs": [],
   "source": []
  }
 ],
 "metadata": {
  "kernelspec": {
   "display_name": "Python 3",
   "language": "python",
   "name": "python3"
  },
  "language_info": {
   "codemirror_mode": {
    "name": "ipython",
    "version": 3
   },
   "file_extension": ".py",
   "mimetype": "text/x-python",
   "name": "python",
   "nbconvert_exporter": "python",
   "pygments_lexer": "ipython3",
   "version": "3.7.4"
  }
 },
 "nbformat": 4,
 "nbformat_minor": 2
}
