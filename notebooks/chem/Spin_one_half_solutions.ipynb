{
 "cells": [
  {
   "cell_type": "markdown",
   "id": "d849ac90",
   "metadata": {
    "id": "d849ac90"
   },
   "source": [
    "# Introduction to Spin 1/2 Using NumPy\n",
    "[Jay Foley, University of North Carolina Charlotte](https://foleylab.github.io/)\n",
    "\n",
    "#### Objectives\n",
    "- To introduce the formalism used to understand the quantum states of particles with spin 1/2 \n",
    "- To illustrate the use of NumPy for basic operations with vectors and matrices\n",
    "\n",
    "#### Learning Outcomes\n",
    "By the end of this workbook, students should be able to\n",
    "- Identify the eigenstates of z-spin\n",
    "- Use the eigenstates of z-spin as a basis for computing expectation values of x-spin and y-spin \n",
    "- Explain the concept of matrix representations of operators\n",
    "- Utilize NumPy to build matrix representations of operators\n",
    "- Utilize NumPy to identify eigenstates of x-spin and y-spin\n",
    "- Utilize NumPy to confirm the commutation relations for the matrix representations of operators\n",
    "\n",
    "\n",
    "#### Summary\n",
    "We will use Python and NumPy to illustrate basic formalism of spin 1/2 in quantum mechanics.  We assume familiarity with this formalism; for background on this topic, we recommend you read [this chapter on Spin](https://dpotoyan.github.io/Chem324/ch05/note05.html#).  \n",
    "\n",
    "Spin angular momentum is an observable in quantum mechanics and has\n",
    "associated operators with eigenstates.  Traditionally, the components of angular momentum are represented along the $x$, $y$, and $z$ axes, and we have \n",
    "Hermitian operators associated with each component ($\\hat{S}_x, \\hat{S}_y, \\hat{S}_z$), along with the square magnitude $\\hat{S}^2$.  For particles like electrons, protons, and neutrons, these component operators \n",
    "all have exactly two eigenstates with eigenvalues $\\pm \\frac{1}{2}\\hbar$; hence we talk about the formalism of spin for these systems as the formalism of spin 1/2.\n",
    "In this workbook, we will introduce matrix representations of each of these component operators, and the eigenstates will then have vector representations.  We will specifically introduce the eigenvectors of the matrix associated with $\\hat{S}_z$ as the basis vectors for any state of spin 1/2.  We will then be able to write the matrices associated with \n",
    "$\\hat{S}_x$ and $\\hat{S}_y$ in this basis, and perform useful computations with them, including finding their eigenstates and verifying so-called commutation relations between these operators.\n"
   ]
  },
  {
   "cell_type": "markdown",
   "id": "9b6a9845",
   "metadata": {
    "id": "9b6a9845"
   },
   "source": [
    "## Import statements\n",
    "We will import the `numpy` library and it's linear algebra module for working with the spin matrices and vectors."
   ]
  },
  {
   "cell_type": "code",
   "execution_count": 2,
   "id": "21528317",
   "metadata": {
    "executionInfo": {
     "elapsed": 3,
     "status": "ok",
     "timestamp": 1692639227635,
     "user": {
      "displayName": "Jay Foley",
      "userId": "17242888199041269157"
     },
     "user_tz": 240
    },
    "id": "21528317"
   },
   "outputs": [],
   "source": [
    "import numpy as np\n",
    "from numpy import linalg as la"
   ]
  },
  {
   "cell_type": "markdown",
   "id": "c8f39e10",
   "metadata": {
    "id": "c8f39e10"
   },
   "source": [
    "## Numpy arrays: Vectors\n",
    "Numpy arrays are special types of variables that can make use of different mathematical operation in the numpy library.  We will see that a lot of linear algebra operations can be performed with numpy arrays using very simple syntax.  Numpy arrays can have an arbitrary number of dimensions, but we will use 2-dimensional numpy arrays with\n",
    "a single column and multiple rows to denote a column vector.  We can take the transpose of these numpy arrays to represent a row vector.  \n",
    "\n",
    "Here we will introduce the vector representation of special spin states that have precise value of z-spin, that is, they are the eigenstates of the $\\hat{S}_z$ operator:\n",
    "\n",
    "\\begin{equation}\n",
    "|\\chi_{\\alpha}^{(z)} \\rangle=\n",
    "\\begin{bmatrix}\n",
    "  1 \\\\\n",
    "  0 \\\\\n",
    "\\end{bmatrix}\n",
    "\\end{equation}\n",
    "\n",
    "\n",
    "\\begin{equation}\n",
    "|\\chi_{\\beta}^{(z)}\\rangle =\n",
    "\\begin{bmatrix}\n",
    "  0 \\\\\n",
    "  1 \\\\\n",
    "\\end{bmatrix}\n",
    "\\end{equation}\n",
    "\n",
    "We refer to these column vector representations of states as kets.\n",
    "\n",
    "$|\\chi_{\\alpha}^{(z)}\\rangle$ can be formed using the following syntax:\n",
    "`ket_alpha = np.array([[1],[0]])`\n",
    "\n",
    "We can get the number of rows and number of columns (the shape) of this vector using `np.shape(ket_alpha)`."
   ]
  },
  {
   "cell_type": "code",
   "execution_count": 4,
   "id": "a36ab6a7",
   "metadata": {
    "colab": {
     "base_uri": "https://localhost:8080/"
    },
    "executionInfo": {
     "elapsed": 138,
     "status": "ok",
     "timestamp": 1692641996423,
     "user": {
      "displayName": "Jay Foley",
      "userId": "17242888199041269157"
     },
     "user_tz": 240
    },
    "id": "a36ab6a7",
    "outputId": "294754f3-abdc-4c02-eef1-8384ec590961"
   },
   "outputs": [
    {
     "name": "stdout",
     "output_type": "stream",
     "text": [
      "|Chi_alpha>\n",
      "[[1]\n",
      " [0]]\n",
      "|Chi_beta>\n",
      "[[0]\n",
      " [1]]\n",
      "Printing shape of |alpha>\n",
      "(2, 1)\n"
     ]
    }
   ],
   "source": [
    "# insert code to assign ket chi_alpha\n",
    "ket_alpha = np.array([[1],[0]])\n",
    "\n",
    "# insert code to assign ket chi_beta\n",
    "ket_beta = np.array([[0], [1]])\n",
    "\n",
    "# insert code to print both kets\n",
    "print(\"|Chi_alpha>\")\n",
    "print(ket_alpha)\n",
    "\n",
    "print(\"|Chi_beta>\")\n",
    "print(ket_beta)\n",
    "\n",
    "\n",
    "# compute and print the shape of bra_alpha\n",
    "print(\"Printing shape of |alpha>\")\n",
    "print( np.shape(ket_alpha) )\n"
   ]
  },
  {
   "cell_type": "markdown",
   "id": "8f75c4f8",
   "metadata": {
    "id": "8f75c4f8"
   },
   "source": [
    "We can form the bras corresponding to these kets by taking the complex conjugate and transpose of the column vectors we have just formed.  The result will be row vectors, keeping the correspondence to the \"bra\" - \"ket\" convention.\n",
    "\n",
    "$$ \\langle \\chi_{\\alpha}^{(z)}| = |\\chi_{\\alpha}^{(z)}\\rangle ^{\\dagger} = [1^* \\: 0^*] $$\n",
    "\n",
    "$$ \\langle \\chi_{\\beta}^{(z)}| = |\\chi_{\\beta}^{(z)}\\rangle ^{\\dagger} = [0^* \\: 1^*]$$\n",
    "\n",
    "This operation can be computed using the following syntax:\n",
    "`bra_alpha = ket_alpha.conj().T`\n",
    "\n",
    "You can compute the shape of the bras in the same way as you used for the kets; take note of how the shape changes."
   ]
  },
  {
   "cell_type": "code",
   "execution_count": 6,
   "id": "05a0f223",
   "metadata": {
    "colab": {
     "base_uri": "https://localhost:8080/"
    },
    "executionInfo": {
     "elapsed": 134,
     "status": "ok",
     "timestamp": 1692642590102,
     "user": {
      "displayName": "Jay Foley",
      "userId": "17242888199041269157"
     },
     "user_tz": 240
    },
    "id": "05a0f223",
    "outputId": "5fdc4550-06bd-4b2f-fb27-02fa57ce679c"
   },
   "outputs": [
    {
     "name": "stdout",
     "output_type": "stream",
     "text": [
      "<Chi_alpha|\n",
      "[[1 0]]\n",
      "<Chi_beta|\n",
      "[[0 1]]\n",
      "Printing shape of <alpha|\n",
      "(1, 2)\n"
     ]
    }
   ],
   "source": [
    "# insert code to assign bra chi_alpha as adjoint of ket chi_alpha\n",
    "bra_alpha = ket_alpha.conj().T\n",
    "\n",
    "# insert code to assign bra chi_beta as adjoint of ket chi_beta\n",
    "bra_beta = ket_beta.conj().T\n",
    "\n",
    "# insert code to print both bras\n",
    "print(\"<Chi_alpha|\")\n",
    "print(bra_alpha)\n",
    "\n",
    "print(\"<Chi_beta|\")\n",
    "print(bra_beta)\n",
    "\n",
    "# compute and print the shape of bra_alpha\n",
    "print(\"Printing shape of <alpha|\")\n",
    "print(np.shape(bra_alpha))"
   ]
  },
  {
   "cell_type": "markdown",
   "id": "510d294e",
   "metadata": {
    "id": "510d294e"
   },
   "source": [
    "## Computing the bra-ket\n",
    "We can view the bra-ket (also called the inner product between the bra and the ket) as a test of how much the state in the bra projects on to the state in the ket.  The answer can be anywhere between 0 (the states do not project onto each other at all, they are orthogonal states, they do not overlap at all) to 1 (these states perfectly project onto one another, they have perfect overlap, they are identical states).  We know (or will soon learn) that the spin states are orthonormal states: they have perfect overlap with themselves and zero overlap with each other.  This is codified with the following mathematical statements\n",
    "\n",
    "$$\\langle \\chi_n^{(z)} | \\chi_m^{(z)}\\rangle = \\delta_{nm} $$\n",
    "\n",
    "where where have used the Kronecker delta function $\\delta_{nm} = 0$ if $n\\neq m$ and $\\delta_{nm} = 1$ if $n=m$.\n",
    "\n",
    "With their vector representations, we can compute the bra-ket using the dot product as follows:\n",
    "`bra_ket_aa = np.dot(bra_alpha, ket_alpha)`\n"
   ]
  },
  {
   "cell_type": "code",
   "execution_count": 7,
   "id": "b0775882",
   "metadata": {
    "colab": {
     "base_uri": "https://localhost:8080/"
    },
    "executionInfo": {
     "elapsed": 6,
     "status": "ok",
     "timestamp": 1692643833085,
     "user": {
      "displayName": "Jay Foley",
      "userId": "17242888199041269157"
     },
     "user_tz": 240
    },
    "id": "b0775882",
    "outputId": "4e30f2e7-73cc-442a-d654-1d8df686ddc3"
   },
   "outputs": [
    {
     "name": "stdout",
     "output_type": "stream",
     "text": [
      "<alpha|alpha> =  [[1]]\n",
      "<alpha|beta> =  [[0]]\n",
      "<beta|alpha> =  [[0]]\n",
      "<beta|beta> =  [[1]]\n"
     ]
    }
   ],
   "source": [
    "# insert code to compute <alpha|alpha>\n",
    "bra_ket_aa = np.dot(bra_alpha, ket_alpha)\n",
    "\n",
    "# insert code to compute <alpha|beta>\n",
    "bra_ket_ab = np.dot(bra_alpha, ket_beta)\n",
    "\n",
    "# insert code to compute <beta|alpha>\n",
    "bra_ket_ba = np.dot(bra_beta, ket_alpha)\n",
    "\n",
    "# insert code to compute <beta|beta>\n",
    "bra_ket_bb = np.dot(bra_beta, ket_beta)\n",
    "\n",
    "# print all bra-kets to make sure they behave as expected\n",
    "print(\"<alpha|alpha> = \", bra_ket_aa)\n",
    "print(\"<alpha|beta> = \", bra_ket_ab)\n",
    "print(\"<beta|alpha> = \", bra_ket_ba)\n",
    "print(\"<beta|beta> = \", bra_ket_bb)"
   ]
  },
  {
   "cell_type": "markdown",
   "id": "dfacb04b",
   "metadata": {
    "id": "dfacb04b"
   },
   "source": [
    "## Numpy arrays: Matrices\n",
    "We will use 2-dimensional numpy arrays with\n",
    "a an equal number of rows and columns to denote square matrices.  \n",
    "Let's use as an example matrix representation of the $\\hat{S}_z$ operator.\n",
    "\n",
    "\\begin{equation}\n",
    "\\mathbb{S}_z = \\frac{\\hbar}{2}\n",
    "\\begin{bmatrix}\n",
    "  1 & 0 \\\\\n",
    "  0 & -1 \\\\\n",
    "\\end{bmatrix}\n",
    "\\end{equation}\n",
    "\n",
    "\n",
    "$\\mathbb{S}_z$ can be formed using the following syntax:\n",
    "`Sz = hbar / 2 * np.array([[1, 0],[0, -1]])`\n",
    "\n",
    "You can take the shape of the Sz matrix as before; take note of how its shape compares to the shape of the bras and kets.\n",
    "\n",
    "**Note** The value of $\\hbar$ in atomic units is 1."
   ]
  },
  {
   "cell_type": "code",
   "execution_count": 9,
   "id": "a7022d3c",
   "metadata": {
    "colab": {
     "base_uri": "https://localhost:8080/"
    },
    "executionInfo": {
     "elapsed": 156,
     "status": "ok",
     "timestamp": 1692644982525,
     "user": {
      "displayName": "Jay Foley",
      "userId": "17242888199041269157"
     },
     "user_tz": 240
    },
    "id": "a7022d3c",
    "outputId": "ef2eeb2c-9b45-4c0e-f646-84513d900b8f"
   },
   "outputs": [
    {
     "name": "stdout",
     "output_type": "stream",
     "text": [
      "Printing matrix representationof the Sz operator\n",
      "[[ 0.5  0. ]\n",
      " [ 0.  -0.5]]\n",
      "Printing the shape of the Sz matrix\n",
      "(2, 2)\n"
     ]
    }
   ],
   "source": [
    "# define hbar in atomic units\n",
    "hbar = 1\n",
    "\n",
    "# insert code to define the Sz matrix\n",
    "\n",
    "Sz = hbar / 2 * np.array([[1, 0], [0, -1]])\n",
    "# insert code to print the matrix\n",
    "print(\"Printing matrix representationof the Sz operator\")\n",
    "print(Sz)\n",
    "\n",
    "# print shape of Sz\n",
    "print(\"Printing the shape of the Sz matrix\")\n",
    "print(np.shape(Sz))"
   ]
  },
  {
   "cell_type": "markdown",
   "id": "5b2f67b3",
   "metadata": {
    "id": "5b2f67b3"
   },
   "source": [
    "## Matrix-vector products\n",
    "An important property of the basis kets $|\\chi_{\\alpha}^{(z)} \\rangle$ and $|\\chi_{\\beta}^{(z)} \\rangle$ is that they are eigenstates of the $\\hat{S}_z$ operator satisfying\n",
    "\n",
    "$$ \\hat{S}_z |\\chi_{\\alpha}^{(z)} \\rangle = +\\frac{\\hbar}{2}|\\chi_{\\alpha}^{(z)} \\rangle $$\n",
    "\n",
    "$$ \\hat{S}_z |\\chi_{\\beta}^{(z)} \\rangle = -\\frac{\\hbar}{2}|\\chi_{\\beta}^{(z)} \\rangle $$\n",
    "\n",
    "This property should be preserved with the matrix and vector representations of these operators and states, respectively.  We can confirm this by taking the matrix-vector product between $\\mathbb{S}_z$ and the vectors corresponding to these basis kets using the syntax\n",
    "\n",
    "`Sz_ket_a = np.dot(Sz, ket_alpha)`\n",
    "\n",
    "\n",
    "To see that this is the case, we will subtract the right hand side of each eigenvalue equation from the left hand side, which should result in zero vectors if the relations hold."
   ]
  },
  {
   "cell_type": "code",
   "execution_count": 10,
   "id": "518f6394",
   "metadata": {
    "colab": {
     "base_uri": "https://localhost:8080/"
    },
    "executionInfo": {
     "elapsed": 143,
     "status": "ok",
     "timestamp": 1692646036359,
     "user": {
      "displayName": "Jay Foley",
      "userId": "17242888199041269157"
     },
     "user_tz": 240
    },
    "id": "518f6394",
    "outputId": "ba81b264-83f0-41e9-e034-d4eb3c333ccd"
   },
   "outputs": [
    {
     "name": "stdout",
     "output_type": "stream",
     "text": [
      "Printing  Sz|alpha> - 1/2|alpha>\n",
      "[[0.]\n",
      " [0.]]\n",
      "Printing  Sz|beta> + 1/2|beta>\n",
      "[[0.]\n",
      " [0.]]\n"
     ]
    }
   ],
   "source": [
    "# compute product of Sz and ket_alpha\n",
    "Sz_ket_a = np.dot(Sz, ket_alpha)\n",
    "\n",
    "# compute product of Sz and ket_beta\n",
    "Sz_ket_b = np.dot(Sz, ket_beta)\n",
    "\n",
    "# print product of Sz and ket_alpha\n",
    "print(\"Printing  Sz|alpha> - 1/2|alpha>\")\n",
    "print(Sz_ket_a - hbar/2 * ket_alpha)\n",
    "\n",
    "# print product of Sz and ket_beta\n",
    "print(\"Printing  Sz|beta> + 1/2|beta>\")\n",
    "print(Sz_ket_b + hbar/2 * ket_beta)"
   ]
  },
  {
   "cell_type": "markdown",
   "id": "5ebbd429",
   "metadata": {
    "id": "5ebbd429"
   },
   "source": [
    "## Hermitian matrices\n",
    "The matrix representations of operators in quantum mechanics are called Hermitian matrices.  Hermitian matrices have the special relationship that they are equal to their adjoint (i.e., their complex conjugate transpose).  \n",
    "\n",
    "You can confirm that $\\mathbb{S}_z$ is Hermitian by the following syntax:\n",
    "\n",
    "`Sz_adjoint = Sz.conj().T`\n",
    "`print(np.allclose(Sz_adjoint, Sz))`\n",
    "\n",
    "where the first line computes the adjoint of $\\mathbb{S}_z$ and stores it to a variable `Sz_adjoint` and\n",
    "the second line prints the result of comparing all elements of `Sz_adjoint` to `Sz`.  The return value of `True` will\n",
    "indicate that `Sz_adjoint` is numerically equal to `Sz`."
   ]
  },
  {
   "cell_type": "code",
   "execution_count": 11,
   "id": "d2c7ec8b",
   "metadata": {
    "colab": {
     "base_uri": "https://localhost:8080/"
    },
    "executionInfo": {
     "elapsed": 112,
     "status": "ok",
     "timestamp": 1692646637062,
     "user": {
      "displayName": "Jay Foley",
      "userId": "17242888199041269157"
     },
     "user_tz": 240
    },
    "id": "d2c7ec8b",
    "outputId": "75f214a9-f957-408e-e49b-b5d1d5a9caf9"
   },
   "outputs": [
    {
     "name": "stdout",
     "output_type": "stream",
     "text": [
      "Testing if Sz is close to its adjoint\n",
      "True\n"
     ]
    }
   ],
   "source": [
    "Sz_adjoint = Sz.conj().T\n",
    "# Confirm Sz is Hermitian here\n",
    "print(\"Testing if Sz is close to its adjoint\")\n",
    "print(np.allclose(Sz_adjoint, Sz))"
   ]
  },
  {
   "cell_type": "markdown",
   "id": "b561924d",
   "metadata": {
    "id": "b561924d"
   },
   "source": [
    "## Eigenvalues and eigenvectors\n",
    "An important property of Hermitian matrices is that their eigevalues are real numbers.  In quantum mechanics, we associate the possible outcomes of measurements with the eigenvalues of Hermitian operators corresponding to the observable being measured.  In this notebook, we have been talking about the observable of spin angular momentum, which is a vector quantity. We have been specifically looking at the operators and eigenstates related to the z-component of spin angular momentum, denoted $S_z$. We have seen that this operator has two eigenstates,\n",
    "$|\\chi_{\\alpha}^{(z)}\\rangle$ and $|\\chi_{\\beta}^{(z)}\\rangle$ with associated eigenvalues $\\frac{\\hbar}{2}$ and $-\\frac{\\hbar}{2}$, which are both real numbers.  \n",
    "\n",
    "These relationships are preserved when we use the matrix - vector representation of operators and eigenstates.  In general, an eigenvalue equation with matrices and vectors satisfies\n",
    "\n",
    "$$ \\mathbb{M} \\bf{x} = \\lambda \\bf{x} $$\n",
    "\n",
    "where $\\lambda$ is an eigenvalue (which is a number) and $\\bf{x}$ is an eigenvector.  One way of interpreting these equations is to say that the action of a matrix on its eigenvectors is simply to scale the magnitude of the vector by a number (specifically, scale it by its eigenvalue).  This is a very special situation, because typically speaking, when a vector is multiplied by a matrix, the result is a new vector that points along a new direction and has a different magnitude.  For a lovely explanation with graphical illustrations, please consult [this vide](https://youtu.be/PFDu9oVAE-g).  In fact, the entire 3b1b series on linear algebra is wonderful!\n",
    "\n",
    "We have already seen that vectors associated with the basis kets $|\\chi_{\\alpha}^{(z)}\\rangle$ and $|\\chi_{\\beta}^{(z)}\\rangle$ obey this relationship with $\\mathbb{S}_z$.  What we will now do, is consider the matrices associated with the spin angular momentum components along $x$ and $y$.  We will first see that the\n",
    "basis kets $|\\chi_{\\alpha}^{(z)}\\rangle$ and $|\\chi_{\\beta}^{(z)}\\rangle$ are not eigenvectors of $\\mathbb{S}_x$ and $\\mathbb{S}_y$.  We will then use numpy's linear algebra sub-library to compute the eigenvalues and eigenvectors of these matrices, which will turn out to be linear combinations of $|\\chi_{\\alpha}^{(z)}\\rangle$ and $|\\chi_{\\beta}^{(z)}\\rangle$.  \n",
    "\n",
    "### Build matrix form of $\\mathbb{S}_x$ and $\\mathbb{S}_y$\n",
    "The operator $\\hat{S}_x$ has the matrix form\n",
    "\\begin{equation}\n",
    "\\mathbb{S}_x = \\frac{\\hbar}{2}\n",
    "\\begin{bmatrix}\n",
    "  0 & 1 \\\\\n",
    "  1 & 0 \\\\\n",
    "\\end{bmatrix}\n",
    "\\end{equation}\n",
    "and the operator $\\hat{S}_y$ has the matrix form\n",
    "\\begin{equation}\n",
    "\\mathbb{S}_y = \\frac{\\hbar}{2}\n",
    "\\begin{bmatrix}\n",
    "  0 & -i \\\\\n",
    "  i & 0 \\\\\n",
    "\\end{bmatrix}.\n",
    "\\end{equation}\n",
    "\n",
    "**Hint** The imaginary unit $i = \\sqrt{-1}$ can be accessed as `1j` in python."
   ]
  },
  {
   "cell_type": "code",
   "execution_count": 12,
   "id": "76254128",
   "metadata": {
    "id": "76254128",
    "outputId": "69894015-5d99-4385-f38e-5bf235adbebb"
   },
   "outputs": [
    {
     "name": "stdout",
     "output_type": "stream",
     "text": [
      "Printing the matrix representation of the Sx operator\n",
      "[[0.  0.5]\n",
      " [0.5 0. ]]\n",
      "Printing the matrix representation of the Sy operator\n",
      "[[0.+0.j  0.-0.5j]\n",
      " [0.+0.5j 0.+0.j ]]\n"
     ]
    }
   ],
   "source": [
    "# insert code to build Sx\n",
    "Sx = hbar / 2 * np.array([[0, 1], [1, 0]])\n",
    "\n",
    "# insert code to build Sy\n",
    "Sy = hbar / 2 * np.array([[0, -1j], [1j, 0]])\n",
    "\n",
    "# print Sx\n",
    "print(\"Printing the matrix representation of the Sx operator\")\n",
    "print(Sx)\n",
    "\n",
    "# print Sy\n",
    "print(\"Printing the matrix representation of the Sy operator\")\n",
    "print(Sy)"
   ]
  },
  {
   "cell_type": "markdown",
   "id": "92c6ceee",
   "metadata": {
    "id": "92c6ceee"
   },
   "source": [
    "### Take matrix-vector product of $\\mathbb{S}_x$ and $\\mathbb{S}_y$ with the basis kets\n",
    "Just as we did with $\\mathbb{S}_z$, take the following matrix-vector products:\n",
    "$$ \\mathbb{S}_x |\\chi_{\\alpha}^{(z)}\\rangle $$\n",
    "$$ \\mathbb{S}_x |\\chi_{\\beta}^{(z)}\\rangle $$\n",
    "$$ \\mathbb{S}_y |\\chi_{\\alpha}^{(z)}\\rangle $$\n",
    "$$ \\mathbb{S}_y |\\chi_{\\beta}^{(z)}\\rangle $$\n",
    "\n",
    "**Question 1:** After inspecting the results of each matrix-vector product, do you think the basis kets are eigenstates of\n",
    "$\\mathbb{S}_x$ and $\\mathbb{S}_y$?  Explain your reasoning.\n",
    "\n",
    "**Question 2:** What is the shape of the result of each matrix-vector product?\n"
   ]
  },
  {
   "cell_type": "code",
   "execution_count": 13,
   "id": "11d5d8ff",
   "metadata": {
    "id": "11d5d8ff"
   },
   "outputs": [
    {
     "name": "stdout",
     "output_type": "stream",
     "text": [
      "Printing the product Sx|alpha>\n",
      "[[0. ]\n",
      " [0.5]]\n",
      "Printing the product Sx|beta>\n",
      "[[0.5]\n",
      " [0. ]]\n",
      "Printing the product Sy|beta>\n",
      "[[0.-0.5j]\n",
      " [0.+0.j ]]\n",
      "Printing the product Sy|alpha>\n",
      "[[0.+0.j ]\n",
      " [0.+0.5j]]\n",
      "Printing shape of the product Sx|alpha>\n",
      "(2, 1)\n"
     ]
    }
   ],
   "source": [
    "# compute product of Sx and ket_alpha and store to Sx_ket_a; print it\n",
    "Sx_ket_a = np.dot(Sx, ket_alpha)\n",
    "print(\"Printing the product Sx|alpha>\")\n",
    "print(Sx_ket_a)\n",
    "\n",
    "# compute product of Sx and ket_beta and store to Sx_ket_b; print it\n",
    "Sx_ket_b = np.dot(Sx, ket_beta)\n",
    "print(\"Printing the product Sx|beta>\")\n",
    "print(Sx_ket_b)\n",
    "\n",
    "# compute product of Sy and ket_beta and store to Sy_ket_b; print it\n",
    "Sy_ket_b = np.dot(Sy, ket_beta)\n",
    "print(\"Printing the product Sy|beta>\")\n",
    "print(Sy_ket_b)\n",
    "\n",
    "# compute product of Sy and ket_alpha and store to Sy_ket_a; print it\n",
    "Sy_ket_a = np.dot(Sy, ket_alpha)\n",
    "print(\"Printing the product Sy|alpha>\")\n",
    "print(Sy_ket_a)\n",
    "\n",
    "# print shape of one of the resulting vectors\n",
    "print(\"Printing shape of the product Sx|alpha>\")\n",
    "print(np.shape(Sx_ket_a))\n"
   ]
  },
  {
   "cell_type": "markdown",
   "id": "2d5951ef",
   "metadata": {
    "id": "2d5951ef"
   },
   "source": [
    "### Use `eigh()` to compute the eigenvectors and eigenvalues of $\\mathbb{S}_x$ and $\\mathbb{S}_y$\n",
    "Numpy has a linear algebra library that can compute eigenvalues and eigenvectors of Hermitian matrices that is called using the syntax\n",
    "\n",
    "`eigenvalues, eigenvectors = la.eigh(M)`\n",
    "\n",
    "where `eigenvalues` will store all of the eigenvectors and `eigenvectors` will store all the eigenvectors.  \n",
    "Use this method to compute the eigenvalues and eigenvectors of $\\mathbb{S}_x$ and $\\mathbb{S}_y$.\n",
    "\n",
    "**Note**:\n",
    "eigenvectors[:, i] is the normalized eigenvector corresponding to the eigenvalue eigenvalues[i].\n",
    "\n",
    "**Question 3:** What is the shape of the vals_x?  What is the shape of vecs_x?\n",
    "\n",
    "**Question 4:** Do these matrices have the same eigenvalues as $\\mathbb{S}_z$?  Do they have the same eigenvectors as $\\mathbb{S}_z$?"
   ]
  },
  {
   "cell_type": "code",
   "execution_count": 14,
   "id": "17bda9c5",
   "metadata": {
    "id": "17bda9c5",
    "outputId": "91edb4fc-059a-4c05-9303-f2ddc5549044"
   },
   "outputs": [
    {
     "name": "stdout",
     "output_type": "stream",
     "text": [
      "this is the shape of vals_x\n",
      "(2,)\n",
      "this is the shape of vecs_x\n",
      "(2, 2)\n",
      "Eigenvalues of Sx\n",
      "[-0.5  0.5]\n",
      "Eigenvectors of Sx\n",
      "[[-0.70710678  0.70710678]\n",
      " [ 0.70710678  0.70710678]]\n",
      "Eigenvalues of Sy\n",
      "[-0.5  0.5]\n",
      "Eigenvectors of Sy\n",
      "[[-0.70710678-0.j         -0.70710678+0.j        ]\n",
      " [ 0.        +0.70710678j  0.        -0.70710678j]]\n"
     ]
    }
   ],
   "source": [
    "# compute eigenvectors and eigenvalues of Sx, store them to vals_x, vecs_x\n",
    "vals_x, vecs_x = la.eigh(Sx)\n",
    "\n",
    "# compute eigenvectors and eigenvalues of Sy, store them to vals_y, vecs_y\n",
    "vals_y, vecs_y = la.eigh(Sy)\n",
    "\n",
    "# print shape of vals_x\n",
    "print(\"this is the shape of vals_x\")\n",
    "print(np.shape(vals_x))\n",
    "\n",
    "# print shape of vecs_x\n",
    "print(\"this is the shape of vecs_x\")\n",
    "print(np.shape(vecs_x))\n",
    "\n",
    "print(\"Eigenvalues of Sx\")\n",
    "print(vals_x)\n",
    "print(\"Eigenvectors of Sx\")\n",
    "print(vecs_x)\n",
    "print(\"Eigenvalues of Sy\")\n",
    "print(vals_y)\n",
    "print(\"Eigenvectors of Sy\")\n",
    "print(vecs_y)"
   ]
  },
  {
   "cell_type": "markdown",
   "id": "8a1f741d",
   "metadata": {
    "id": "8a1f741d"
   },
   "source": [
    "### Expectation values\n",
    "Another important operation in quantum mechanics is the computation of an expectation value, which can be written as a bra-ket sandwiching an operator:\n",
    "\n",
    "$$ \\langle n | \\hat{O}| m \\rangle. $$\n",
    "\n",
    "The result will depend on what $\\hat{O}$ does to $|m\\rangle$, and how the resulting ket projects upon $\\langle n|$.\n",
    "\n",
    "We can use the different eigenvectors from our last block as kets, and their adjoints as bras, along with the matrix form of the operators to compute these operations.  \n",
    "\n",
    "`ket_x_0 = vecs_x[:,0]`\n",
    "\n",
    "`bra_x_0 = ket_x_0.conj().T`\n",
    "\n",
    "`expectation_value = np.dot(bra_x_0, np.dot(Sx, ket_x_0))`\n",
    "\n",
    "**Question 5:** If we associate $|\\chi_{\\alpha}^{(x)}\\rangle$ with `vec_x[:,1]`, what is the expectation value corresponding to $\\langle \\chi_{\\alpha}^{(x)} | \\hat{S}_x | \\chi_{\\alpha}^{(x)} \\rangle $?\n",
    "\n",
    "**Question 6:** If we associate $|\\chi_{\\alpha}^{(y)}\\rangle$ with `vec_y[:,1]`, what is the expectation value corresponding to $\\langle \\chi_{\\alpha}^{(y)} | \\hat{S}_z | \\chi_{\\alpha}^{(y)} \\rangle $?"
   ]
  },
  {
   "cell_type": "code",
   "execution_count": 18,
   "id": "050dc8c3",
   "metadata": {
    "id": "050dc8c3"
   },
   "outputs": [
    {
     "name": "stdout",
     "output_type": "stream",
     "text": [
      "The expectation value of Sx using the state |alpha_x>\n",
      "0.4999999999999999\n",
      "The expectation value of Sz using the state |alpha_y>\n",
      "0j\n"
     ]
    }
   ],
   "source": [
    "# Compute <alpha_x|Sx|alpha_x>; print the result\n",
    "# store ket_alpha_x\n",
    "ket_alpha_x = vecs_x[:,1]\n",
    "bra_alpha_x = ket_alpha_x.conj().T\n",
    "Sx_exp_alpha_x = np.dot(bra_alpha_x, np.dot(Sx, ket_alpha_x))\n",
    "print(\"The expectation value of Sx using the state |alpha_x>\")\n",
    "print(Sx_exp_alpha_x)\n",
    "\n",
    "\n",
    "\n",
    "# Compute <alpha_y|Sz|alpha_y>; print the result\n",
    "ket_alpha_y = vecs_y[:,1]\n",
    "bra_alpha_y = ket_alpha_y.conj().T\n",
    "Sz_exp_alpha_y = np.dot(bra_alpha_y, np.dot(Sz, ket_alpha_y))\n",
    "print(\"The expectation value of Sz using the state |alpha_y>\")\n",
    "print(Sz_exp_alpha_y)"
   ]
  },
  {
   "cell_type": "markdown",
   "id": "f4f73b71",
   "metadata": {
    "id": "f4f73b71"
   },
   "source": [
    "### Commutators\n",
    "We will learn later in 3141 about generalized uncertainty relations.  An important mathematical operation in formulation of uncertainty relations is the commutator, which can be taken between two operators or two matrices representing operators.  The commutator between operators $\\hat{A}$ and $\\hat{B}$ can be written as\n",
    "\n",
    "$$ [\\hat{A}, \\hat{B}] = \\hat{A} \\hat{B} - \\hat{B} \\hat{A} $$,\n",
    "and the same relation holds for the matrix form of the operators.\n",
    "A few things we should note about commutators right now is:\n",
    "1. If the equation above goes to zero, we say the operators commute\n",
    "2. If the equation above is not zero, we say the operators do not commute\n",
    "3. Commuting operators share the same set of eigenstates, and their matrix representations share the same set of eigenvectors\n",
    "4. Commuting operators are related to special pairs of observables that are called compatibile observables; we can simultaneously know the value of compatible observables with unlimited precision\n",
    "5. Operators that do not commute correspond to pairs of observables that are not compatible, there are strict limits on the precision with which we can simultaneously know the values of incompatible observables.\n",
    "\n",
    "The spin operators, and their corresponding matrices, obey the following commutation relations:\n",
    "\n",
    "$$[\\hat{S}_x, \\hat{S}_y] = i\\hbar \\hat{S}_z $$\n",
    "\n",
    "$$[\\hat{S}_y, \\hat{S}_z] = i\\hbar \\hat{S}_x $$\n",
    "\n",
    "$$[\\hat{S}_z, \\hat{S}_x] = i\\hbar \\hat{S}_y $$\n",
    "\n",
    "**Question 7:** Are the observables corresponding to $\\hat{S}_x$ compatible with the observables corresponding to $\\hat{S}_y$?  Explain your reasoning.\n",
    "\n",
    "**Question 8:** Confirm that the matrices $\\mathbb{S}_x$, $\\mathbb{S}_y$, and $\\mathbb{S}_z$ obey the same commutation relations as shown above.  The syntax for computing matrix products is either `np.dot(A,B)` or equivalently `A @ B`:\n",
    "\n",
    "`SxSy = np.dot(Sx, Sy)`\n",
    "\n",
    "is the same as\n",
    "\n",
    "`SxSy = Sx @ Sy`\n",
    "\n"
   ]
  },
  {
   "cell_type": "code",
   "execution_count": 26,
   "id": "fdc47d36",
   "metadata": {
    "id": "fdc47d36"
   },
   "outputs": [
    {
     "name": "stdout",
     "output_type": "stream",
     "text": [
      "Printing difference between [Sx,Sy] and i\\hbar Sz\n",
      "[[0.+0.j 0.+0.j]\n",
      " [0.+0.j 0.+0.j]]\n",
      "Printing difference between [Sy,Sz] and i\\hbar Sx\n",
      "[[0.+0.j 0.+0.j]\n",
      " [0.+0.j 0.+0.j]]\n",
      "Printing difference between [Sz,Sx] and i\\hbar Sy\n",
      "[[0.+0.j 0.+0.j]\n",
      " [0.+0.j 0.+0.j]]\n"
     ]
    }
   ],
   "source": [
    "# compute commutator of Sx and Sy and compare to i*hbar*Sz\n",
    "SxSy = Sx @ Sy\n",
    "SySx = Sy @ Sx\n",
    "Commutator_SxSy = SxSy - SySx\n",
    "\n",
    "print(\"Printing difference between [Sx,Sy] and i\\hbar Sz\")\n",
    "print(Commutator_SxSy - 1j * Sz)\n",
    "\n",
    "# compute the commutator of Sy and Sz and compare to i*hbar*Sx\n",
    "SySz = Sy @ Sz\n",
    "SzSy = Sz @ Sy\n",
    "Commutator_SySz = SySz - SzSy\n",
    "\n",
    "print(\"Printing difference between [Sy,Sz] and i\\hbar Sx\")\n",
    "print(Commutator_SySz - 1j * Sx)\n",
    "\n",
    "# compute the commutator of Sz and Sx and compare to i*hbar*Sy\n",
    "SzSx = Sz @ Sx\n",
    "SxSz = Sx @ Sz\n",
    "Commutator_SzSx = SzSx - SxSz\n",
    "\n",
    "print(\"Printing difference between [Sz,Sx] and i\\hbar Sy\")\n",
    "print(Commutator_SzSx - 1j * Sy)\n"
   ]
  },
  {
   "cell_type": "code",
   "execution_count": null,
   "id": "bab0149e",
   "metadata": {
    "id": "bab0149e"
   },
   "outputs": [],
   "source": []
  }
 ],
 "metadata": {
  "colab": {
   "provenance": [
    {
     "file_id": "1r4l3yVb_QnqCAp2Hn_vmFuYVyPPqFDfa",
     "timestamp": 1692639140885
    }
   ]
  },
  "kernelspec": {
   "display_name": "Python 3 (ipykernel)",
   "language": "python",
   "name": "python3"
  },
  "language_info": {
   "codemirror_mode": {
    "name": "ipython",
    "version": 3
   },
   "file_extension": ".py",
   "mimetype": "text/x-python",
   "name": "python",
   "nbconvert_exporter": "python",
   "pygments_lexer": "ipython3",
   "version": "3.9.7"
  }
 },
 "nbformat": 4,
 "nbformat_minor": 5
}
