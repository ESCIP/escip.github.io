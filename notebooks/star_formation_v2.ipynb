{
 "cells": [
  {
   "cell_type": "markdown",
   "metadata": {},
   "source": [
    "# Star Formation in Galaxies\n",
    "\n",
    "[Chris Richardson, Elon University](https://facstaff.elon.edu/crichardson17/) \n",
    "\n",
    "<i>Funding for this tutorial made possible through the [CATL Scholars Program](https://www.elon.edu/u/academics/catl/sotl/catl-scholars-program/)</i>\n",
    "\n",
    "<i>This tutorial is intended for students to complete in groups. A version with solutions is available to instructors upon <a href=\"mailto:crichardson17@elon.edu\">request</a>.</i>"
   ]
  },
  {
   "cell_type": "markdown",
   "metadata": {},
   "source": [
    "## Objectives\n",
    "\n",
    "- To explore scaling relationships among star forming galaxies in SDSS\n",
    "- To understand how SDSS galaxy images and spectra can help us understand star formation rate (SFR) metrics\n",
    "- To make a connection between the current SFR of a galaxy and its star formation history\n",
    "- To provide a foundation to explore your own questions about star formation in galaxies"
   ]
  },
  {
   "cell_type": "markdown",
   "metadata": {},
   "source": [
    "## Learning Outcomes\n",
    "\n",
    "By the end of this tutorial you should be able to:\n",
    "\n",
    "- Use H$\\alpha$ to find the star formation rate in SDSS galaxies\n",
    "- Use the star forming main sequence to identify starburst galaxies and quiescent galaxies\n",
    "- Use SDSS image cutouts to explain bias in SFR metrics \n",
    "- Use D4000 as a proxy for star formation history"
   ]
  },
  {
   "cell_type": "markdown",
   "metadata": {},
   "source": [
    "## Prerequisites\n",
    "\n",
    "- Computational\n",
    "    - Basic Python skills (e.g., for loops, conditional statements, defining functions)\n",
    "    - Basics of <code>matplotlib</code> visualization, SQL queries, and SciServer platform (e.g., see [here](https://escip.io/notebooks/sdss_tutorial_1.html))\n",
    "    - Using the <code>[astropy](https://docs.astropy.org/en/stable/units/index.html)</code> package for fundamental constants and unit conversion\n",
    "\n",
    "- Astrophysics\n",
    "    - Introductory knowledge of [galaxy classification](https://www.britannica.com/science/galaxy/Types-of-galaxies)\n",
    "    - Introductory understanding of [stellar lifetimes and the HR diagram](https://openstax.org/books/astronomy/pages/22-1-evolution-from-the-main-sequence-to-red-giants)\n",
    "    - Advanced conceptual understanding of applying the Case B approximation to counting photons"
   ]
  },
  {
   "cell_type": "code",
   "execution_count": 16,
   "metadata": {},
   "outputs": [],
   "source": [
    "# Import relevant libraries\n",
    "\n",
    "import SciServer.CasJobs as CasJobs # query with CasJobs\n",
    "import SciServer.SkyServer as SkyServer # look up objects and generate images\n",
    "import pandas as pd # data analysis \n",
    "import numpy as np # more data analysis\n",
    "from matplotlib import pyplot as plt # another plotting library\n",
    "from astropy.constants import c # useful constants\n",
    "from astropy import units as u # useful for unit conversions\n",
    "import astroML # enables plotting sdss spectrum\n",
    "from astroML.datasets import fetch_sdss_spectrum\n",
    "from astropy.io import ascii"
   ]
  },
  {
   "cell_type": "code",
   "execution_count": 4,
   "metadata": {},
   "outputs": [],
   "source": [
    "# Make notebook have a clean appearance\n",
    "\n",
    "pd.set_option('display.max_colwidth', None)\n",
    "import warnings\n",
    "warnings.filterwarnings('ignore')"
   ]
  },
  {
   "cell_type": "markdown",
   "metadata": {},
   "source": [
    "# Choosing a Sample of Galaxies\n",
    "\n",
    "Several SDSS schema will be used in this tutorial, each with unique data products helpful to investigate star formation. The [<code>SpecObj</code>](http://skyserver.sdss.org/dr16/en/help/browser/browser.aspx#&&history=description+galSpecLine+U) schema contains basic information about the observation and the object, such as the redshift $z$. The [<code>galaxy</code>](http://skyserver.sdss.org/dr16/en/help/browser/browser.aspx#&&history=description+PhotoObjAll+U) schema provides useful photometric measurements for colors and images. The three <code>GalSpec</code> schema each give products derived from spectroscopy. As you should know, the H$\\alpha$ emission line is a convienient indicator of the star formation rate. We want galaxies with quality measurements of this line strength, so a S/N restriction is specified. We also want the H$\\beta$ emission line, because as we will see below, this will assist us in accounting for dust absorption along our line of sight.\n",
    "\n",
    "- By using H$\\alpha$ as indicator of star formation, how does this limit your analysis?\n",
    "- How do you expect highly star forming galaxies to look?"
   ]
  },
  {
   "cell_type": "markdown",
   "metadata": {},
   "source": [
    "<b>Your answers to these questions:</b>\n",
    "<br>\n",
    "<br>\n",
    "<br>\n",
    "<br>\n",
    "<br>"
   ]
  },
  {
   "cell_type": "code",
   "execution_count": 5,
   "metadata": {},
   "outputs": [
    {
     "data": {
      "text/html": [
       "<div>\n",
       "<style scoped>\n",
       "    .dataframe tbody tr th:only-of-type {\n",
       "        vertical-align: middle;\n",
       "    }\n",
       "\n",
       "    .dataframe tbody tr th {\n",
       "        vertical-align: top;\n",
       "    }\n",
       "\n",
       "    .dataframe thead th {\n",
       "        text-align: right;\n",
       "    }\n",
       "</style>\n",
       "<table border=\"1\" class=\"dataframe\">\n",
       "  <thead>\n",
       "    <tr style=\"text-align: right;\">\n",
       "      <th></th>\n",
       "      <th>plate</th>\n",
       "      <th>fiberid</th>\n",
       "      <th>mjd</th>\n",
       "      <th>ra</th>\n",
       "      <th>dec</th>\n",
       "      <th>z</th>\n",
       "      <th>zwarning</th>\n",
       "      <th>h_beta_flux</th>\n",
       "      <th>h_alpha_flux</th>\n",
       "      <th>h_beta_flux_err</th>\n",
       "      <th>h_alpha_flux_err</th>\n",
       "      <th>bptclass</th>\n",
       "      <th>lgm_tot_p50</th>\n",
       "      <th>lick_hd_a_sub</th>\n",
       "      <th>d4000_n_sub</th>\n",
       "      <th>lick_hd_a_sub_err</th>\n",
       "      <th>d4000_n_sub_err</th>\n",
       "      <th>petror90_r</th>\n",
       "    </tr>\n",
       "  </thead>\n",
       "  <tbody>\n",
       "    <tr>\n",
       "      <th>0</th>\n",
       "      <td>329</td>\n",
       "      <td>6</td>\n",
       "      <td>52056</td>\n",
       "      <td>177.62908</td>\n",
       "      <td>-3.326442</td>\n",
       "      <td>0.078031</td>\n",
       "      <td>0</td>\n",
       "      <td>45.879730</td>\n",
       "      <td>273.12190</td>\n",
       "      <td>3.291739</td>\n",
       "      <td>4.542729</td>\n",
       "      <td>1</td>\n",
       "      <td>10.661870</td>\n",
       "      <td>3.828772</td>\n",
       "      <td>1.453698</td>\n",
       "      <td>1.001100</td>\n",
       "      <td>0.028119</td>\n",
       "      <td>6.909836</td>\n",
       "    </tr>\n",
       "    <tr>\n",
       "      <th>1</th>\n",
       "      <td>326</td>\n",
       "      <td>147</td>\n",
       "      <td>52375</td>\n",
       "      <td>172.07771</td>\n",
       "      <td>-2.878846</td>\n",
       "      <td>0.095268</td>\n",
       "      <td>0</td>\n",
       "      <td>257.521400</td>\n",
       "      <td>785.83600</td>\n",
       "      <td>4.412366</td>\n",
       "      <td>7.641911</td>\n",
       "      <td>1</td>\n",
       "      <td>9.859731</td>\n",
       "      <td>7.313367</td>\n",
       "      <td>1.139154</td>\n",
       "      <td>1.037312</td>\n",
       "      <td>0.020886</td>\n",
       "      <td>6.646070</td>\n",
       "    </tr>\n",
       "    <tr>\n",
       "      <th>2</th>\n",
       "      <td>335</td>\n",
       "      <td>190</td>\n",
       "      <td>52000</td>\n",
       "      <td>189.26213</td>\n",
       "      <td>-2.982288</td>\n",
       "      <td>0.088555</td>\n",
       "      <td>0</td>\n",
       "      <td>54.240750</td>\n",
       "      <td>203.45360</td>\n",
       "      <td>2.292731</td>\n",
       "      <td>3.075485</td>\n",
       "      <td>1</td>\n",
       "      <td>9.830482</td>\n",
       "      <td>6.429802</td>\n",
       "      <td>1.246805</td>\n",
       "      <td>1.304015</td>\n",
       "      <td>0.028645</td>\n",
       "      <td>4.525309</td>\n",
       "    </tr>\n",
       "    <tr>\n",
       "      <th>3</th>\n",
       "      <td>337</td>\n",
       "      <td>27</td>\n",
       "      <td>51997</td>\n",
       "      <td>194.14905</td>\n",
       "      <td>-2.919338</td>\n",
       "      <td>0.052390</td>\n",
       "      <td>0</td>\n",
       "      <td>59.298840</td>\n",
       "      <td>234.12340</td>\n",
       "      <td>2.860254</td>\n",
       "      <td>3.917636</td>\n",
       "      <td>1</td>\n",
       "      <td>10.147940</td>\n",
       "      <td>4.229728</td>\n",
       "      <td>1.323284</td>\n",
       "      <td>1.003340</td>\n",
       "      <td>0.024767</td>\n",
       "      <td>6.746436</td>\n",
       "    </tr>\n",
       "    <tr>\n",
       "      <th>4</th>\n",
       "      <td>330</td>\n",
       "      <td>316</td>\n",
       "      <td>52370</td>\n",
       "      <td>176.92980</td>\n",
       "      <td>-2.563193</td>\n",
       "      <td>0.076802</td>\n",
       "      <td>0</td>\n",
       "      <td>112.538500</td>\n",
       "      <td>510.88790</td>\n",
       "      <td>3.626529</td>\n",
       "      <td>6.436479</td>\n",
       "      <td>1</td>\n",
       "      <td>10.251690</td>\n",
       "      <td>4.821437</td>\n",
       "      <td>1.284835</td>\n",
       "      <td>1.115302</td>\n",
       "      <td>0.026129</td>\n",
       "      <td>4.442664</td>\n",
       "    </tr>\n",
       "    <tr>\n",
       "      <th>...</th>\n",
       "      <td>...</td>\n",
       "      <td>...</td>\n",
       "      <td>...</td>\n",
       "      <td>...</td>\n",
       "      <td>...</td>\n",
       "      <td>...</td>\n",
       "      <td>...</td>\n",
       "      <td>...</td>\n",
       "      <td>...</td>\n",
       "      <td>...</td>\n",
       "      <td>...</td>\n",
       "      <td>...</td>\n",
       "      <td>...</td>\n",
       "      <td>...</td>\n",
       "      <td>...</td>\n",
       "      <td>...</td>\n",
       "      <td>...</td>\n",
       "      <td>...</td>\n",
       "    </tr>\n",
       "    <tr>\n",
       "      <th>9995</th>\n",
       "      <td>1719</td>\n",
       "      <td>586</td>\n",
       "      <td>53876</td>\n",
       "      <td>229.20211</td>\n",
       "      <td>9.636919</td>\n",
       "      <td>0.085698</td>\n",
       "      <td>0</td>\n",
       "      <td>41.080730</td>\n",
       "      <td>162.25520</td>\n",
       "      <td>2.143597</td>\n",
       "      <td>2.654202</td>\n",
       "      <td>1</td>\n",
       "      <td>9.889796</td>\n",
       "      <td>4.391088</td>\n",
       "      <td>1.267068</td>\n",
       "      <td>1.423546</td>\n",
       "      <td>0.032088</td>\n",
       "      <td>6.319391</td>\n",
       "    </tr>\n",
       "    <tr>\n",
       "      <th>9996</th>\n",
       "      <td>1798</td>\n",
       "      <td>499</td>\n",
       "      <td>53851</td>\n",
       "      <td>199.25717</td>\n",
       "      <td>9.936388</td>\n",
       "      <td>0.052416</td>\n",
       "      <td>0</td>\n",
       "      <td>27.837730</td>\n",
       "      <td>209.10180</td>\n",
       "      <td>1.961622</td>\n",
       "      <td>3.422518</td>\n",
       "      <td>1</td>\n",
       "      <td>10.730490</td>\n",
       "      <td>0.963644</td>\n",
       "      <td>1.536464</td>\n",
       "      <td>1.222649</td>\n",
       "      <td>0.036792</td>\n",
       "      <td>7.227845</td>\n",
       "    </tr>\n",
       "    <tr>\n",
       "      <th>9997</th>\n",
       "      <td>1806</td>\n",
       "      <td>586</td>\n",
       "      <td>53559</td>\n",
       "      <td>208.88008</td>\n",
       "      <td>9.501891</td>\n",
       "      <td>0.070048</td>\n",
       "      <td>0</td>\n",
       "      <td>9.401968</td>\n",
       "      <td>40.19081</td>\n",
       "      <td>1.542465</td>\n",
       "      <td>1.394677</td>\n",
       "      <td>1</td>\n",
       "      <td>9.787393</td>\n",
       "      <td>1.583487</td>\n",
       "      <td>1.501869</td>\n",
       "      <td>1.816120</td>\n",
       "      <td>0.050408</td>\n",
       "      <td>10.510790</td>\n",
       "    </tr>\n",
       "    <tr>\n",
       "      <th>9998</th>\n",
       "      <td>1809</td>\n",
       "      <td>616</td>\n",
       "      <td>53792</td>\n",
       "      <td>212.79641</td>\n",
       "      <td>9.220711</td>\n",
       "      <td>0.079386</td>\n",
       "      <td>0</td>\n",
       "      <td>41.077510</td>\n",
       "      <td>190.89150</td>\n",
       "      <td>1.806039</td>\n",
       "      <td>2.547210</td>\n",
       "      <td>1</td>\n",
       "      <td>10.244090</td>\n",
       "      <td>5.054030</td>\n",
       "      <td>1.380123</td>\n",
       "      <td>1.052414</td>\n",
       "      <td>0.027612</td>\n",
       "      <td>4.488715</td>\n",
       "    </tr>\n",
       "    <tr>\n",
       "      <th>9999</th>\n",
       "      <td>1810</td>\n",
       "      <td>450</td>\n",
       "      <td>53794</td>\n",
       "      <td>213.27146</td>\n",
       "      <td>9.215585</td>\n",
       "      <td>0.062881</td>\n",
       "      <td>0</td>\n",
       "      <td>77.005220</td>\n",
       "      <td>273.67080</td>\n",
       "      <td>1.896502</td>\n",
       "      <td>2.989808</td>\n",
       "      <td>1</td>\n",
       "      <td>9.121378</td>\n",
       "      <td>3.194716</td>\n",
       "      <td>1.223580</td>\n",
       "      <td>1.290285</td>\n",
       "      <td>0.026648</td>\n",
       "      <td>2.047930</td>\n",
       "    </tr>\n",
       "  </tbody>\n",
       "</table>\n",
       "<p>10000 rows × 18 columns</p>\n",
       "</div>"
      ],
      "text/plain": [
       "      plate  fiberid    mjd         ra       dec         z  zwarning  \\\n",
       "0       329        6  52056  177.62908 -3.326442  0.078031         0   \n",
       "1       326      147  52375  172.07771 -2.878846  0.095268         0   \n",
       "2       335      190  52000  189.26213 -2.982288  0.088555         0   \n",
       "3       337       27  51997  194.14905 -2.919338  0.052390         0   \n",
       "4       330      316  52370  176.92980 -2.563193  0.076802         0   \n",
       "...     ...      ...    ...        ...       ...       ...       ...   \n",
       "9995   1719      586  53876  229.20211  9.636919  0.085698         0   \n",
       "9996   1798      499  53851  199.25717  9.936388  0.052416         0   \n",
       "9997   1806      586  53559  208.88008  9.501891  0.070048         0   \n",
       "9998   1809      616  53792  212.79641  9.220711  0.079386         0   \n",
       "9999   1810      450  53794  213.27146  9.215585  0.062881         0   \n",
       "\n",
       "      h_beta_flux  h_alpha_flux  h_beta_flux_err  h_alpha_flux_err  bptclass  \\\n",
       "0       45.879730     273.12190         3.291739          4.542729         1   \n",
       "1      257.521400     785.83600         4.412366          7.641911         1   \n",
       "2       54.240750     203.45360         2.292731          3.075485         1   \n",
       "3       59.298840     234.12340         2.860254          3.917636         1   \n",
       "4      112.538500     510.88790         3.626529          6.436479         1   \n",
       "...           ...           ...              ...               ...       ...   \n",
       "9995    41.080730     162.25520         2.143597          2.654202         1   \n",
       "9996    27.837730     209.10180         1.961622          3.422518         1   \n",
       "9997     9.401968      40.19081         1.542465          1.394677         1   \n",
       "9998    41.077510     190.89150         1.806039          2.547210         1   \n",
       "9999    77.005220     273.67080         1.896502          2.989808         1   \n",
       "\n",
       "      lgm_tot_p50  lick_hd_a_sub  d4000_n_sub  lick_hd_a_sub_err  \\\n",
       "0       10.661870       3.828772     1.453698           1.001100   \n",
       "1        9.859731       7.313367     1.139154           1.037312   \n",
       "2        9.830482       6.429802     1.246805           1.304015   \n",
       "3       10.147940       4.229728     1.323284           1.003340   \n",
       "4       10.251690       4.821437     1.284835           1.115302   \n",
       "...           ...            ...          ...                ...   \n",
       "9995     9.889796       4.391088     1.267068           1.423546   \n",
       "9996    10.730490       0.963644     1.536464           1.222649   \n",
       "9997     9.787393       1.583487     1.501869           1.816120   \n",
       "9998    10.244090       5.054030     1.380123           1.052414   \n",
       "9999     9.121378       3.194716     1.223580           1.290285   \n",
       "\n",
       "      d4000_n_sub_err  petror90_r  \n",
       "0            0.028119    6.909836  \n",
       "1            0.020886    6.646070  \n",
       "2            0.028645    4.525309  \n",
       "3            0.024767    6.746436  \n",
       "4            0.026129    4.442664  \n",
       "...               ...         ...  \n",
       "9995         0.032088    6.319391  \n",
       "9996         0.036792    7.227845  \n",
       "9997         0.050408   10.510790  \n",
       "9998         0.027612    4.488715  \n",
       "9999         0.026648    2.047930  \n",
       "\n",
       "[10000 rows x 18 columns]"
      ]
     },
     "execution_count": 5,
     "metadata": {},
     "output_type": "execute_result"
    }
   ],
   "source": [
    "# Create a query to fetch star forming galaxies\n",
    "\n",
    "query = 'SELECT TOP 10000 s.plate, s.fiberid, s.mjd, s.ra, s.dec, s.z, s.zwarning, '\n",
    "query += 'g.h_beta_flux, g.h_alpha_flux, '\n",
    "query += 'g.h_beta_flux_err, g.h_alpha_flux_err, '\n",
    "query += 'e.bptclass, e.lgm_tot_p50, '\n",
    "query += 'i.lick_hd_a_sub, i.d4000_n_sub, '\n",
    "query += 'i.lick_hd_a_sub_err, i.d4000_n_sub_err, '\n",
    "query += 'p.petror90_r '\n",
    "query += 'FROM GalSpecLine AS g, SpecObj AS s, GalSpecExtra AS e, GalSpecIndx AS i, galaxy AS p ' \n",
    "query += 'WHERE '\n",
    "query += 's.specobjid = g.specobjid '\n",
    "query += 'AND s.specobjid = e.specobjid '\n",
    "query += 'AND s.specobjid = i.specobjid '\n",
    "query += 'AND s.bestobjid = p.objid '\n",
    "query += 'AND bptclass = 1 '\n",
    "query += 'AND s.z BETWEEN 0.04 and 0.1 '#-- Lower limit needed for global parameters w/ small aperture\n",
    "query += 'AND h_alpha_flux > h_alpha_flux_err*5.0 ' #-- Make sure Balmer lines have adequate S/N\n",
    "query += 'AND h_beta_flux > h_beta_flux_err*5.0 '\n",
    "query += 'AND d4000_n_sub > d4000_n_sub_err*5.0 '\n",
    "query += 'AND h_alpha_flux_err > 0 ' #-- Consistency check\n",
    "query += 'AND h_beta_flux_err > 0 '\n",
    "query += 'AND h_alpha_flux > 2.7*h_beta_flux ' #-- Ensures proper continuum subtraction\n",
    "query += 'AND lgm_tot_p50 > 0 '\n",
    "query += 'AND sigma_balmer < 509.55 ' #-- Exclude the broad line emitting galaxies\n",
    "query += 'AND s.class = \\'GALAXY\\' '  #-- Looking for galaxies, not stars\n",
    "query += 'AND s.zwarning = 0 '\n",
    "#print (query) # useful for debugging, remove first # to uncomment\n",
    "\n",
    "# send query to CasJobs\n",
    "gals = CasJobs.executeQuery(query, \"dr16\")\n",
    "\n",
    "gals"
   ]
  },
  {
   "cell_type": "markdown",
   "metadata": {},
   "source": [
    "# Dereddening the Spectrum"
   ]
  },
  {
   "cell_type": "markdown",
   "metadata": {},
   "source": [
    "In order to determine the star formation rate (SFR) in each galaxy, we need to get the H$\\alpha$ luminosity $L$(H$\\alpha$) emitted from each galaxy. The SQL query gives us the observed flux $F$(H$\\alpha$), but this doesn't account for [dust](https://en.wikipedia.org/wiki/Cosmic_dust) absorbing some of this light as it travels from a galaxy to the point of observation. Fortunately, we can correct for this \"extinction\" by making use of the fact that dust preferentially absorbs shorter wavelength light to \"deredden\" the spectrum. In ideal conditions without dust, we can assume that $F$(H$\\alpha$)/$F$(H$\\beta$) = 2.86 in star forming regions. Let's deredden the H$\\alpha$ flux."
   ]
  },
  {
   "cell_type": "code",
   "execution_count": 6,
   "metadata": {},
   "outputs": [],
   "source": [
    "# Deredden emission lines according to Calzetii+ 2000\n",
    "# wavelength supplied in angstroms\n",
    "\n",
    "def deredden(lum,wl,Hb,Ha):\n",
    "    if (wl >= 6300 and wl <= 22000):\n",
    "        wl = wl/1e4 # convert to microns\n",
    "        kwl = 2.659*(-1.857+1.040/wl)+4.05\n",
    "    elif (wl >= 1200 and wl < 6300):\n",
    "        wl = wl/1e4 # convert to microns\n",
    "        kwl = 2.659*(-2.156+1.509/wl-0.198/wl**2+0.011/wl**3)+4.05\n",
    "    else:\n",
    "        print ('Wavelength of range')\n",
    "    \n",
    "    # Using k-values calc as above\n",
    "    kHa = 3.326\n",
    "    kHb = 4.598\n",
    "    \n",
    "    ebmv = 2.5/(kHb-kHa)*np.log10(Ha/Hb/2.86) # 2.86 for SF; 3.1 for AGN\n",
    "    lum_dr = lum*10**(0.4*kwl*ebmv)\n",
    "    \n",
    "    return lum_dr\n",
    "\n",
    "####\n",
    "\n",
    "Halpha_flux = gals['h_alpha_flux']\n",
    "Hbeta_flux = gals['h_beta_flux']\n",
    "\n",
    "Halpha_flux_dr = deredden(Halpha_flux,6563,Hbeta_flux,Halpha_flux)"
   ]
  },
  {
   "cell_type": "markdown",
   "metadata": {},
   "source": [
    "# Determining the Star Formation Rate"
   ]
  },
  {
   "cell_type": "markdown",
   "metadata": {},
   "source": [
    "According to the [<code>GalSpecLine</code>](http://skyserver.sdss.org/dr16/en/help/browser/browser.aspx#&&history=description+galSpecLine+U) schema, the line flux is returned as 10$^{-17}$ <i>erg/s/cm$^2$</i>, so we first need to multiply our dereddened $F$(H$\\alpha$) by 10$^{-17}$ to get actual flux value. Luminosity has units of energy / second, and an <i>erg</i> is a unit of energy, so we're almost there. Use the space provided below to convert $F$(H$\\alpha$) to $L$(H$\\alpha$) and name that variable <code>Halpha_lum_dr</code>.\n",
    "\n",
    "- How can you get the distance to the galaxy in <i>cm</i>?\n",
    "- How does distance factor into converting flux to luminosity?"
   ]
  },
  {
   "cell_type": "code",
   "execution_count": 7,
   "metadata": {},
   "outputs": [],
   "source": [
    "# your code for calculating Halpha_lum_dr\n",
    "\n",
    "# Halpha_lum_dr = "
   ]
  },
  {
   "cell_type": "markdown",
   "metadata": {},
   "source": [
    "We can now use the $L$(H$\\alpha$) to determine the SFR in units of M$_{\\odot}$/yr using the conversion from [Kennicutt+ 1998](https://ui.adsabs.harvard.edu/abs/1998ApJ...498..541K/abstract)."
   ]
  },
  {
   "cell_type": "code",
   "execution_count": 8,
   "metadata": {},
   "outputs": [
    {
     "ename": "NameError",
     "evalue": "name 'Halpha_lum_dr' is not defined",
     "output_type": "error",
     "traceback": [
      "\u001b[0;31m\u001b[0m",
      "\u001b[0;31mNameError\u001b[0mTraceback (most recent call last)",
      "\u001b[0;32m<ipython-input-8-5708a5e908ea>\u001b[0m in \u001b[0;36m<module>\u001b[0;34m\u001b[0m\n\u001b[0;32m----> 1\u001b[0;31m \u001b[0msfr\u001b[0m \u001b[0;34m=\u001b[0m \u001b[0mnp\u001b[0m\u001b[0;34m.\u001b[0m\u001b[0mlog10\u001b[0m\u001b[0;34m(\u001b[0m\u001b[0mHalpha_lum_dr\u001b[0m\u001b[0;34m*\u001b[0m\u001b[0;36m7.9e-42\u001b[0m\u001b[0;34m)\u001b[0m\u001b[0;34m\u001b[0m\u001b[0;34m\u001b[0m\u001b[0m\n\u001b[0m\u001b[1;32m      2\u001b[0m \u001b[0;34m\u001b[0m\u001b[0m\n\u001b[1;32m      3\u001b[0m \u001b[0mgals\u001b[0m\u001b[0;34m[\u001b[0m\u001b[0;34m'sfr'\u001b[0m\u001b[0;34m]\u001b[0m \u001b[0;34m=\u001b[0m \u001b[0msfr\u001b[0m\u001b[0;34m\u001b[0m\u001b[0;34m\u001b[0m\u001b[0m\n\u001b[1;32m      4\u001b[0m \u001b[0;34m\u001b[0m\u001b[0m\n\u001b[1;32m      5\u001b[0m \u001b[0mplt\u001b[0m\u001b[0;34m.\u001b[0m\u001b[0mhist\u001b[0m\u001b[0;34m(\u001b[0m\u001b[0msfr\u001b[0m\u001b[0;34m,\u001b[0m\u001b[0mbins\u001b[0m\u001b[0;34m=\u001b[0m\u001b[0;36m20\u001b[0m\u001b[0;34m)\u001b[0m\u001b[0;34m\u001b[0m\u001b[0;34m\u001b[0m\u001b[0m\n",
      "\u001b[0;31mNameError\u001b[0m: name 'Halpha_lum_dr' is not defined"
     ]
    }
   ],
   "source": [
    "sfr = np.log10(Halpha_lum_dr*7.9e-42)\n",
    "\n",
    "gals['sfr'] = sfr\n",
    "\n",
    "plt.hist(sfr,bins=20)\n",
    "\n",
    "plt.xlim(-2.5,2.0)\n",
    "\n",
    "plt.xlabel(r'SFR [M$_{\\odot}$/yr]')\n",
    "plt.ylabel('N')\n",
    "\n",
    "plt.show()"
   ]
  },
  {
   "cell_type": "markdown",
   "metadata": {},
   "source": [
    "# The Star Forming Main Sequence"
   ]
  },
  {
   "cell_type": "markdown",
   "metadata": {},
   "source": [
    "A common measure of galaxy mass is its stellar mass M$_*$ in units of M$_{\\odot}$, however a galaxy's mass can be defined in many ways. We can roughly envision that M$_*$ is proxy for galaxy size since larger galaxies typically contain more stars.\n",
    "\n",
    "- Would you expect the number of star froming regions in a galaxy to increase or decrease as M$_*$ increases?\n",
    "- How would expect the SFR to correlate with M$_*$? Explain."
   ]
  },
  {
   "cell_type": "markdown",
   "metadata": {},
   "source": [
    "<b>Your answers to these questions:</b>\n",
    "<br>\n",
    "<br>\n",
    "<br>\n",
    "<br>\n",
    "<br>"
   ]
  },
  {
   "cell_type": "code",
   "execution_count": 9,
   "metadata": {},
   "outputs": [
    {
     "ename": "NameError",
     "evalue": "name 'Mstar' is not defined",
     "output_type": "error",
     "traceback": [
      "\u001b[0;31m\u001b[0m",
      "\u001b[0;31mNameError\u001b[0mTraceback (most recent call last)",
      "\u001b[0;32m<ipython-input-9-e4a2d5b20d2e>\u001b[0m in \u001b[0;36m<module>\u001b[0;34m\u001b[0m\n\u001b[1;32m     10\u001b[0m \u001b[0mplt\u001b[0m\u001b[0;34m.\u001b[0m\u001b[0mylim\u001b[0m\u001b[0;34m(\u001b[0m\u001b[0;34m-\u001b[0m\u001b[0;36m2.5\u001b[0m\u001b[0;34m,\u001b[0m\u001b[0;36m1.5\u001b[0m\u001b[0;34m)\u001b[0m\u001b[0;34m\u001b[0m\u001b[0;34m\u001b[0m\u001b[0m\n\u001b[1;32m     11\u001b[0m \u001b[0;34m\u001b[0m\u001b[0m\n\u001b[0;32m---> 12\u001b[0;31m \u001b[0mplt\u001b[0m\u001b[0;34m.\u001b[0m\u001b[0mscatter\u001b[0m\u001b[0;34m(\u001b[0m\u001b[0mMstar\u001b[0m\u001b[0;34m,\u001b[0m\u001b[0msfr\u001b[0m\u001b[0;34m,\u001b[0m\u001b[0ms\u001b[0m\u001b[0;34m=\u001b[0m\u001b[0;36m0.5\u001b[0m\u001b[0;34m)\u001b[0m\u001b[0;34m\u001b[0m\u001b[0;34m\u001b[0m\u001b[0m\n\u001b[0m\u001b[1;32m     13\u001b[0m \u001b[0mplt\u001b[0m\u001b[0;34m.\u001b[0m\u001b[0mplot\u001b[0m\u001b[0;34m(\u001b[0m\u001b[0mmstar_array\u001b[0m\u001b[0;34m,\u001b[0m \u001b[0mpoly1d_fn\u001b[0m\u001b[0;34m(\u001b[0m\u001b[0mmstar_array\u001b[0m\u001b[0;34m)\u001b[0m\u001b[0;34m,\u001b[0m \u001b[0;34m'k--'\u001b[0m\u001b[0;34m,\u001b[0m\u001b[0mlabel\u001b[0m\u001b[0;34m=\u001b[0m\u001b[0;34m'MS'\u001b[0m\u001b[0;34m)\u001b[0m\u001b[0;34m\u001b[0m\u001b[0;34m\u001b[0m\u001b[0m\n\u001b[1;32m     14\u001b[0m \u001b[0;34m\u001b[0m\u001b[0m\n",
      "\u001b[0;31mNameError\u001b[0m: name 'Mstar' is not defined"
     ]
    },
    {
     "data": {
      "image/png": "[encoded data removed]",
      "text/plain": [
       "<Figure size 432x288 with 1 Axes>"
      ]
     },
     "metadata": {
      "needs_background": "light"
     },
     "output_type": "display_data"
    }
   ],
   "source": [
    "#Mstar = gals['lgm_tot_p50'] #uncomment this line\n",
    "\n",
    "mstar_array = np.linspace(8.0,12.0,100)\n",
    "poly1d_fn = np.poly1d([1.192,-12.31])\n",
    "\n",
    "plt.xlabel(r'M$_*$ [M$_{\\odot}$]')\n",
    "plt.ylabel(r'SFR [M$_{\\odot}$/yr]')\n",
    "\n",
    "plt.xlim(8.0,12.0)\n",
    "plt.ylim(-2.5,1.5)\n",
    "\n",
    "plt.scatter(Mstar,sfr,s=0.5)\n",
    "plt.plot(mstar_array, poly1d_fn(mstar_array), 'k--',label='MS')\n",
    "\n",
    "plt.legend(loc='lower right')"
   ]
  },
  {
   "cell_type": "markdown",
   "metadata": {},
   "source": [
    "We can see that star forming galaxies lie on what is known as the star forming main sequence, which is a shout out to the stellar main sequence on the HR diagram. The SF main sequence is based on the correlation between SFR and M$_*$ where \"typical\" star forming galaxies lie.\n",
    "\n",
    "- In terms of appearance, how would you expect SF galaxies with high SFR to compare to those with low SFR?\n",
    "    - Would you expect them to be spirals or elliptical? \n",
    "    - Blue in color or red in color?\n",
    "    - Brighter or dimmer?"
   ]
  },
  {
   "cell_type": "markdown",
   "metadata": {},
   "source": [
    "<b>Your answer to this question:</b>\n",
    "<br>\n",
    "<br>\n",
    "<br>\n",
    "<br>\n",
    "<br>"
   ]
  },
  {
   "cell_type": "markdown",
   "metadata": {},
   "source": [
    "# Visualizing the Sample with Image Cutouts"
   ]
  },
  {
   "cell_type": "markdown",
   "metadata": {},
   "source": [
    "Once you have provided your answer above, let's actually have a look at the images of galaxies that have high SFR and low SFR. We can create function to gather up the images for us. The function takes in an filtered array of galaxies to isolate those of interest and description of the filtering procedure to display at run time. The first block of code will display the high SFR rate galaxies and then next block will display low SFR galaxies."
   ]
  },
  {
   "cell_type": "code",
   "execution_count": null,
   "metadata": {},
   "outputs": [],
   "source": [
    "#\n",
    "# Function to display images\n",
    "#\n",
    "def get_images(gal_array,description):\n",
    "    # set thumbnail parameters\n",
    "    width=200           # image width\n",
    "    height=200          # height\n",
    "    pixelsize=0.396     # image scale\n",
    "    plt.figure(figsize=(15, 15))   # display in a 4x4 grid\n",
    "    subPlotNum = 1\n",
    "\n",
    "    i = 0\n",
    "    new_gals = gal_array\n",
    "    nGalaxies = len(new_gals)\n",
    "    for index,new_gals in new_gals.iterrows():           # iterate through rows in the DataFrame\n",
    "        i = i + 1\n",
    "        if i<17:\n",
    "            print('Getting image of '+description+str(i)+' of '+str(nGalaxies)+'...')\n",
    "            if (i == nGalaxies):\n",
    "                print('Plotting images...')\n",
    "            scale=new_gals['petror90_r']/pixelsize/width\n",
    "            img= SkyServer.getJpegImgCutout(ra=new_gals['ra'], dec=new_gals['dec'], width=width, height=height, scale=scale, dataRelease='DR16')\n",
    "            plt.subplot(4,4,subPlotNum)\n",
    "            subPlotNum += 1\n",
    "            plt.imshow(img)                               # show images in grid\n",
    "            plt.title(index)\n",
    "            \n",
    "######\n",
    "\n",
    "filtered_gals = gals[(gals['sfr']> -0.05) & (gals['sfr']< 0.05)] # only galaxies with high SFR\n",
    "get_images(filtered_gals,'high SFR galaxy ') # call function with filtered galaxy array\n"
   ]
  },
  {
   "cell_type": "code",
   "execution_count": null,
   "metadata": {},
   "outputs": [],
   "source": [
    "filtered_gals = gals[(gals['sfr']> -1.55) & (gals['sfr']< -1.45)] # only galaxies with high SFR\n",
    "get_images(filtered_gals,'low SFR galaxy ')"
   ]
  },
  {
   "cell_type": "markdown",
   "metadata": {},
   "source": [
    "How did these results compare to your answer above?\n",
    "\n",
    "It might seems intuitive to think that a high SFR means that more O- and B-type stars, which means blue colors in disk-like structures. However, while it's true that most of the images above are disk-like, there's a wide assortment of colors. In fact, there's a variety colors and disk-like structures in both samples, suggesting that they have something in common (i.e., the MS).\n",
    "\n",
    "Much like stars can deviate from the MS on the HR diagram, galaxies can deviate from the MS on the SFR-M$_*$ diagram. At a given M$_*$, starburst galaxies have 10x the SFR of MS galaxies, while quiescent galaxies have a 0.01x the SFR of MS galaxies. Use these definitions to add two more lines to the SFR-M$_*$ plot denoting the location of starbursts and quiescent galaxies."
   ]
  },
  {
   "cell_type": "code",
   "execution_count": 10,
   "metadata": {},
   "outputs": [],
   "source": [
    "# your code to add starburst and quiescent demarcations"
   ]
  },
  {
   "cell_type": "markdown",
   "metadata": {},
   "source": [
    "# Understanding the sSFR Metric"
   ]
  },
  {
   "cell_type": "markdown",
   "metadata": {},
   "source": [
    "It becomes evident from this plot that when we want to identify a highly star forming galaxy, the metric we're usually after is the specific star formation rate sSFR. It is defined as\n",
    "\n",
    "$\\mathrm{sSFR}\\equiv\\frac{\\mathrm{SFR}}{\\mathrm{M}_*}$\n",
    "\n",
    "and represents ratio of current star formation to past star formation, or the growth rate of stellar mass in a galaxy. We can add the sSFR to our dataframe to explore the metric in detail."
   ]
  },
  {
   "cell_type": "code",
   "execution_count": null,
   "metadata": {},
   "outputs": [],
   "source": [
    "ssfr = np.log10(10**sfr/10**Mstar)\n",
    "gals['sSFR'] = ssfr\n",
    "\n",
    "plt.xlim(-12,-8)\n",
    "\n",
    "plt.xlabel(r'sSFR [yr$^{-1}$]')\n",
    "plt.ylabel('N')\n",
    "\n",
    "plt.hist(gals['sSFR'],bins=25)\n",
    "plt.show()"
   ]
  },
  {
   "cell_type": "markdown",
   "metadata": {},
   "source": [
    "In the cell below, display the images for a sample of starburst galaxies and a sample of quiescent galaxies. Do these galaxies align with what you orignally envisioned high and low SFR galaxies to look like?"
   ]
  },
  {
   "cell_type": "code",
   "execution_count": null,
   "metadata": {},
   "outputs": [],
   "source": [
    "# your code to display images of starburst and quiescent"
   ]
  },
  {
   "cell_type": "markdown",
   "metadata": {},
   "source": [
    "While the sSFR is measure of the relative star formation taking place in a galaxy, the sSFR values aren't that intuitive. A simple way to gain more intuition is by taking the inverse of the sSFR, which gives us\n",
    "\n",
    "$\\tau_d = \\frac{\\mathrm{M}_*}{\\mathrm{SFR}}$\n",
    "\n",
    "where $\\tau_d$ is the amount of time needed to form the current stellar population or the mass-doubling timescale. We can infer the SFHs of galaxies by comparing $\\tau_d$ to the Hubble time (i.e., the age of the universe). In the space below, compare the mass-doubling timescales of the galaxies to the Hubble time."
   ]
  },
  {
   "cell_type": "code",
   "execution_count": 11,
   "metadata": {},
   "outputs": [],
   "source": [
    "# your code to calculate doubling times and compare to the Hubble time"
   ]
  },
  {
   "cell_type": "markdown",
   "metadata": {},
   "source": [
    "- Which galaxies formed most of their stars long ago and which galaxies are forming most of their stars now?\n",
    "- Where do these galaxies fall relative to the SF main sequence?\n",
    "- How do the masses of these galaxies compare?"
   ]
  },
  {
   "cell_type": "markdown",
   "metadata": {},
   "source": [
    "<b>Your answers to these questions:</b>\n",
    "<br>\n",
    "<br>\n",
    "<br>\n",
    "<br>\n",
    "<br>"
   ]
  },
  {
   "cell_type": "markdown",
   "metadata": {},
   "source": [
    "# Creating a Link to SFHs"
   ]
  },
  {
   "cell_type": "markdown",
   "metadata": {},
   "source": [
    "We can use $\\tau_d$ to infer the star formation history (SFH) of a galaxy, but underlying blackbody curve in the continuum of galaxies also tells us about their SFH. The “break” at 400 nm (4000 Angstroms) is typically written as D4000 and serves as a measure for the discontinuity of the blackbody curve. It is typically defined as,\n",
    "\n",
    "$D4000 = \\frac{\\int_{4000}^{4100}f_{\\lambda} d\\lambda}{\\int_{3850}^{3950}f_{\\lambda} d\\lambda}$\n",
    "\n",
    "\n",
    "where the integration over wavelength is shown in Angstroms. Under this definition, D4000 = 1.0 would represent a flat underlying spectrum, also known as the continuum. If D4000 > 1.0 then there's a discontinuity in the continuum. Let's take a look at the spectrum around 4000 Angstroms for starburst galaxy and a quiescent galaxy."
   ]
  },
  {
   "cell_type": "code",
   "execution_count": null,
   "metadata": {},
   "outputs": [],
   "source": [
    "starbursts = gals[gals['sSFR']>-9.5]\n",
    "indices = starbursts.index.values\n",
    "plate = starbursts['plate'][indices[0]]\n",
    "mjd = starbursts['mjd'][indices[0]]\n",
    "fiber = starbursts['fiberid'][indices[0]]\n",
    "\n",
    "spec = fetch_sdss_spectrum(plate=plate,fiber=fiber,mjd=mjd)\n",
    "\n",
    "ax = plt.axes()\n",
    "plt.xlim(3800,4300)\n",
    "plt.ylim(0,30)\n",
    "plt.xlabel('$\\lambda$')\n",
    "plt.ylabel('$F_{\\lambda}$')\n",
    "ax.plot(spec.wavelength(), spec.spectrum, '-k', label='spectrum')"
   ]
  },
  {
   "cell_type": "code",
   "execution_count": null,
   "metadata": {},
   "outputs": [],
   "source": [
    "quiescent = gals[gals['sSFR']<-11.5]\n",
    "indices = quiescent.index.values\n",
    "plate = quiescent['plate'][indices[1]]\n",
    "mjd = quiescent['mjd'][indices[1]]\n",
    "fiber = quiescent['fiberid'][indices[1]]\n",
    "\n",
    "spec = fetch_sdss_spectrum(plate=plate,fiber=fiber,mjd=mjd)\n",
    "\n",
    "ax = plt.axes()\n",
    "plt.xlim(3800,4500)\n",
    "plt.ylim(0,30)\n",
    "plt.xlabel('$\\lambda$')\n",
    "plt.ylabel('$F_{\\lambda}$')\n",
    "ax.plot(spec.wavelength(), spec.spectrum, '-k', label='spectrum')"
   ]
  },
  {
   "cell_type": "markdown",
   "metadata": {},
   "source": [
    "- Do these plots make sense to you given what you know about D4000, starburst galaxies, and quiescent galaxies? Explain.\n",
    "- In the space below, explain how you would expect D4000 to correlate with sSFR.\n",
    "- Write a snippet of code to verify your answer."
   ]
  },
  {
   "cell_type": "markdown",
   "metadata": {},
   "source": [
    "<b>Your answer to this question:</b>\n",
    "<br>\n",
    "<br>\n",
    "<br>\n",
    "<br>\n",
    "<br>"
   ]
  },
  {
   "cell_type": "code",
   "execution_count": 12,
   "metadata": {},
   "outputs": [],
   "source": [
    "# your plot showing the correlation between sSFR and D4000"
   ]
  },
  {
   "cell_type": "markdown",
   "metadata": {},
   "source": [
    "# Follow Up Questions\n",
    "\n",
    "In this Lecture-Tutorial, we developed some intuition about star formation in galaxies. There are several avenues for further exploration that you can dig into further.\n",
    "\n",
    "- Construct a color magnitude diagram of the galaxies in our sample\n",
    "    - Where do the low mass and high mass galaxies lie?\n",
    "    - Are there trends with MS / starbursting / quiescent galaxies?\n",
    "    - How would you expect D4000 to correlate with g-r color?"
   ]
  },
  {
   "cell_type": "code",
   "execution_count": null,
   "metadata": {},
   "outputs": [],
   "source": []
  }
 ],
 "metadata": {
  "kernelspec": {
   "display_name": "Python 3.8 (py38)",
   "language": "python",
   "name": "py38"
  },
  "language_info": {
   "codemirror_mode": {
    "name": "ipython",
    "version": 3
   },
   "file_extension": ".py",
   "mimetype": "text/x-python",
   "name": "python",
   "nbconvert_exporter": "python",
   "pygments_lexer": "ipython3",
   "version": "3.8.5"
  }
 },
 "nbformat": 4,
 "nbformat_minor": 4
}
