{
 "cells": [
  {
   "cell_type": "markdown",
   "id": "d849ac90",
   "metadata": {},
   "source": [
    "# Basics of python and numpy\n",
    "\n",
    "Outline\n",
    "\n",
    "- Import statements\n",
    "- Printing\n",
    "- Variables and types\n",
    "- Basic arithmetic\n",
    "- NumPy Arrays: Vectors\n",
    "- Numpy Arrays: Matrices\n",
    "- Dot products between vectors\n",
    "- Matrix-vector products\n",
    "- Matrix-matrix products\n",
    "- Hermitian matrices\n",
    "- Eigenvalues and eigenvectors\n",
    "- Commutators\n"
   ]
  },
  {
   "cell_type": "markdown",
   "id": "9b6a9845",
   "metadata": {},
   "source": [
    "## Import statements\n",
    "Python has intrinsic functionality as a programming language, but there are also many special-purpose libraries that are helpful.  Here we will use the library `numpy` for numerical computing."
   ]
  },
  {
   "cell_type": "code",
   "execution_count": 40,
   "id": "21528317",
   "metadata": {},
   "outputs": [],
   "source": [
    "import numpy as np\n",
    "from numpy import linalg as la"
   ]
  },
  {
   "cell_type": "markdown",
   "id": "5829abbe",
   "metadata": {},
   "source": [
    "## Printing\n",
    "The way to communicate between the computer and you is through different types of print statements.  These can display data to the screen, or write data to a file.  We can also plot data, which we will see in a future lesson.  For now, we will use the print statement to write the canonical first program: Hello World"
   ]
  },
  {
   "cell_type": "code",
   "execution_count": 41,
   "id": "8fddb0e1",
   "metadata": {},
   "outputs": [
    {
     "name": "stdout",
     "output_type": "stream",
     "text": [
      "Hello World!\n"
     ]
    }
   ],
   "source": [
    "print(\"Hello World!\")"
   ]
  },
  {
   "cell_type": "markdown",
   "id": "ebfb49f2",
   "metadata": {},
   "source": [
    "## Variables and types\n",
    "Much of the power of programming languages lies in the ability to perform complicated operators on data.  Data used throughout a program is stored in variables.  We can use *most* any name we want for variables, though there are some best practices:  we should try to use descriptive names when possible, we should use lower case letters, we should separate words in compound names with an underscore.  We **cannot** use certain words that correspond to built-in functions in python, like `print`, `for`, `while`, `if`, `elif`, `else`, `type` to name a few commmon ones. \n",
    "\n",
    "We can also store many types of data as variables.  Data types in python include `int` (integers), `floats` (numbers with decimal places), `str` (strings of characters, e.g. words), `complex` (complex numbers), `bool` (boolean True/False). "
   ]
  },
  {
   "cell_type": "code",
   "execution_count": 42,
   "id": "f478e470",
   "metadata": {},
   "outputs": [
    {
     "name": "stdout",
     "output_type": "stream",
     "text": [
      "Hello World!\n",
      "1\n",
      "2.1223\n"
     ]
    }
   ],
   "source": [
    "# the following variable is a string\n",
    "my_message = \"Hello World!\"\n",
    "\n",
    "# thie following variable is an int\n",
    "my_integer = 1\n",
    "\n",
    "# the following variable is a float\n",
    "my_float = 2.1223\n",
    "\n",
    "print(my_message)\n",
    "\n",
    "print(my_integer)\n",
    "\n",
    "print(my_float)"
   ]
  },
  {
   "cell_type": "markdown",
   "id": "ea3d986b",
   "metadata": {},
   "source": [
    "## Basic Arithmetic\n",
    "We can perform addition, substraction, division, and multiplication using the \n",
    "`+`, `-`, `/`, `*` operators.  Try using these operations with the variables that are pre-defined for you below"
   ]
  },
  {
   "cell_type": "code",
   "execution_count": 43,
   "id": "f53665e7",
   "metadata": {},
   "outputs": [
    {
     "name": "stdout",
     "output_type": "stream",
     "text": [
      "5.23\n",
      "string 1string 2\n"
     ]
    }
   ],
   "source": [
    "my_float_1 = 3.12\n",
    "my_float_2 = 2.11\n",
    "\n",
    "my_int_1 = 2\n",
    "my_int_2 = 5\n",
    "\n",
    "my_string_1 = \"string 1\"\n",
    "my_string_2 = \"string 2\"\n",
    "\n",
    "my_float_3 = my_float_1 + my_float_2\n",
    "print(my_float_3)\n",
    "\n",
    "my_string_3 = my_string_1 + my_string_2\n",
    "print(my_string_3)"
   ]
  },
  {
   "cell_type": "markdown",
   "id": "c8f39e10",
   "metadata": {},
   "source": [
    "## Numpy arrays: Vectors\n",
    "Numpy arrays are special types of variables that can make use of different mathematical operation in the numpy library.  We will see that a lot of linear algebra operations can be performed with numpy arrays using very simple syntax.  Numpy arrays can have an arbitrary number of dimensions, but we will use 2-dimensional numpy arrays with \n",
    "a single column and multiple rows to denote a column vector.  We can take the transpose of these numpy arrays to represent a row vector.  \n",
    "\n",
    "Let's use as an example the basis states of spin kets that we have seen / will see soon in lecture:\n",
    "\n",
    "\\begin{equation}\n",
    "|\\chi_{\\alpha}^{(z)} \\rangle= \n",
    "\\begin{bmatrix}\n",
    "  1 \\\\\n",
    "  0 \\\\\n",
    "\\end{bmatrix}\n",
    "\\end{equation}\n",
    "\n",
    "\n",
    "\\begin{equation}\n",
    "|\\chi_{\\beta}^{(z)}\\rangle = \n",
    "\\begin{bmatrix}\n",
    "  0 \\\\\n",
    "  1 \\\\\n",
    "\\end{bmatrix}\n",
    "\\end{equation}\n",
    "\n",
    "$|\\chi_{\\alpha}^{(z)}$ can be formed using the following syntax:\n",
    "`ket_alpha = np.array([[1],[0]])`\n",
    "\n",
    "We can get the number of rows and number of columns (the shape) of this vector using `np.shape(ket_alpha)`."
   ]
  },
  {
   "cell_type": "code",
   "execution_count": 44,
   "id": "a36ab6a7",
   "metadata": {},
   "outputs": [
    {
     "name": "stdout",
     "output_type": "stream",
     "text": [
      "|Chi_alpha>\n",
      "[[1]\n",
      " [0]]\n",
      "|Chi_beta>\n",
      "[[0]\n",
      " [1]]\n",
      "(2, 1)\n"
     ]
    }
   ],
   "source": [
    "# insert code to assign ket chi_alpha\n",
    "ket_alpha = np.array([[1],[0]])\n",
    "\n",
    "# insert code to assign ket chi_beta\n",
    "ket_beta = np.array([[0],[1]])\n",
    "\n",
    "# insert code to print both kets\n",
    "print(\"|Chi_alpha>\")\n",
    "print(ket_alpha)\n",
    "\n",
    "print(\"|Chi_beta>\")\n",
    "print(ket_beta)\n",
    "\n",
    "# compute and print the shape of bra_alpha\n",
    "print(np.shape(ket_alpha))"
   ]
  },
  {
   "cell_type": "markdown",
   "id": "8f75c4f8",
   "metadata": {},
   "source": [
    "We can form the bras corresponding to these kets by taking the complex conjugate and transpose of the column vectors we have just formed.  The result will be row vectors, keeping the correspondence to the \"bra\" - \"ket\" convention.\n",
    "\n",
    "$$ \\langle \\chi_{\\alpha}^{(z)}| = |\\chi_{\\alpha}^{(z)}\\rangle ^{\\dagger} = [1^* \\: 0^*] $$\n",
    "\n",
    "$$ \\langle \\chi_{\\beta}^{(z)}| = |\\chi_{\\beta}^{(z)}\\rangle ^{\\dagger} = [0^* \\: 1^*]$$\n",
    "\n",
    "This operation can be computed using the following syntax:\n",
    "`bra_alpha = ket_alpha.conj().T`\n",
    "\n",
    "You can compute the shape of the bras in the same way as you used for the kets; take note of how the shape changes."
   ]
  },
  {
   "cell_type": "code",
   "execution_count": 45,
   "id": "05a0f223",
   "metadata": {},
   "outputs": [
    {
     "name": "stdout",
     "output_type": "stream",
     "text": [
      "<Chi_alpha|\n",
      "[[1 0]]\n",
      "<Chi_beta|\n",
      "[[0 1]]\n",
      "(1, 2)\n"
     ]
    }
   ],
   "source": [
    "# insert code to assign bra chi_alpha as adjoint of ket chi_alpha\n",
    "bra_alpha = ket_alpha.conj().T\n",
    "\n",
    "# insert code to assign bra chi_beta as adjoint of ket chi_beta\n",
    "bra_beta = ket_beta.conj().T\n",
    "\n",
    "# insert code to print both bras\n",
    "print(\"<Chi_alpha|\")\n",
    "print(bra_alpha)\n",
    "\n",
    "print(\"<Chi_beta|\")\n",
    "print(bra_beta)\n",
    "\n",
    "# compute and print the shape of bra_alpha\n",
    "print(np.shape(bra_alpha))"
   ]
  },
  {
   "cell_type": "markdown",
   "id": "510d294e",
   "metadata": {},
   "source": [
    "## Computing the bra-ket\n",
    "We can view the bra-ket (also called the inner product between the bra and the ket) as a test of how much the state in the bra projects on to the state in the ket.  The answer can be anywhere between 0 (the states do not project onto each other at all, they are orthogonal states, they do not overlap at all) to 1 (these states perfectly project onto one another, they have perfect overlap, they are identical states).  We know (or will soon learn) that the spin states are orthonormal states: they have perfect overlap with themselves and zero overlap with each other.  This is codified with the following mathematical statements\n",
    "\n",
    "$$\\langle \\chi_n^{(z)} | \\chi_m^{(z)}\\rangle = \\delta_{nm} $$\n",
    "\n",
    "where where have used the Kronecker delta function $\\delta_{nm} = 0$ if $n\\neq m$ and $\\delta_{nm} = 1$ if $n=m$.\n",
    "\n",
    "With their vector representations, we can compute the bra-ket using the dot product as follows:\n",
    "`bra_ket_aa = np.dot(bra_alpha, ket_alpha)`\n"
   ]
  },
  {
   "cell_type": "code",
   "execution_count": 46,
   "id": "b0775882",
   "metadata": {},
   "outputs": [
    {
     "name": "stdout",
     "output_type": "stream",
     "text": [
      "<alpha|alpha> =  [[1]]\n",
      "<alpha|beta> =  [[0]]\n",
      "<beta|alpha> =  [[0]]\n",
      "<beta|beta> =  [[1]]\n"
     ]
    }
   ],
   "source": [
    "# insert code to compute <alpha|alpha>\n",
    "bra_ket_aa = np.dot(bra_alpha, ket_alpha)\n",
    "\n",
    "# insert code to compute <alpha|beta>\n",
    "bra_ket_ab = np.dot(bra_alpha, ket_beta)\n",
    "\n",
    "# insert code to compute <beta|alpha>\n",
    "bra_ket_ba = np.dot(bra_beta, ket_alpha)\n",
    "\n",
    "# insert code to compute <beta|beta>\n",
    "bra_ket_bb = np.dot(bra_beta, ket_beta)\n",
    "\n",
    "# print all bra-kets to make sure they behave as expected\n",
    "print(\"<alpha|alpha> = \", bra_ket_aa)\n",
    "print(\"<alpha|beta> = \", bra_ket_ab)\n",
    "print(\"<beta|alpha> = \", bra_ket_ba)\n",
    "print(\"<beta|beta> = \", bra_ket_bb)"
   ]
  },
  {
   "cell_type": "markdown",
   "id": "dfacb04b",
   "metadata": {},
   "source": [
    "## Numpy arrays: Matrices\n",
    "We will use 2-dimensional numpy arrays with \n",
    "a an equal number of rows and columns to denote square matrices.  \n",
    "Let's use as an example matrix representation of the $\\hat{S}_z$ operator that we have seen / will see soon in lecture:\n",
    "\n",
    "\\begin{equation}\n",
    "\\mathbb{S}_z = \\frac{\\hbar}{2}\n",
    "\\begin{bmatrix}\n",
    "  1 & 0 \\\\\n",
    "  0 & -1 \\\\\n",
    "\\end{bmatrix}\n",
    "\\end{equation}\n",
    "\n",
    "\n",
    "$\\mathbb{S}_z$ can be formed using the following syntax:\n",
    "`Sz = hbar / 2 * np.array([[1, 0],[0, -1]])`\n",
    "\n",
    "You can take the shape of the Sz matrix as before; take note of how its shape compares to the shape of the bras and kets.\n",
    "\n",
    "**Note** The value of $\\hbar$ in atomic units is 1."
   ]
  },
  {
   "cell_type": "code",
   "execution_count": 47,
   "id": "a7022d3c",
   "metadata": {},
   "outputs": [
    {
     "name": "stdout",
     "output_type": "stream",
     "text": [
      "[[ 0.5  0. ]\n",
      " [ 0.  -0.5]]\n",
      "(2, 2)\n"
     ]
    }
   ],
   "source": [
    "# define hbar in atomic units\n",
    "hbar = 1\n",
    "\n",
    "# insert code to define the Sz matrix\n",
    "Sz = hbar / 2 * np.array([[1, 0],[0, -1]])\n",
    "\n",
    "# insert code to print the matrix\n",
    "print(Sz)\n",
    "\n",
    "# print shape of Sz\n",
    "print(np.shape(Sz))"
   ]
  },
  {
   "cell_type": "markdown",
   "id": "5b2f67b3",
   "metadata": {},
   "source": [
    "## Matrix-vector products\n",
    "An important property of the basis kets $|\\chi_{\\alpha}^{(z)} \\rangle$ and $|\\chi_{\\beta}^{(z)} \\rangle$ is that they were eigenstates of the $\\hat{S}_z$ operator satisfying\n",
    "\n",
    "$$ \\hat{S}_z |\\chi_{\\alpha}^{(z)} \\rangle = +\\frac{\\hbar}{2}|\\chi_{\\alpha}^{(z)} \\rangle $$\n",
    "\n",
    "$$ \\hat{S}_z |\\chi_{\\beta}^{(z)} \\rangle = -\\frac{\\hbar}{2}|\\chi_{\\beta}^{(z)} \\rangle $$.\n",
    "\n",
    "This property should be preserved with the matrix and vector representations of these operators and states, respectively.  We can confirm this by taking the matrix-vector product between $\\mathbb{S}_z$ and the vectors corresponding to these basis kets using the syntax\n",
    "\n",
    "`Sz_ket_a = np.dot(Sz, ket_alpha)`\n",
    "\n",
    "\n",
    "We can inspect them to see if this relationship holds, but see if you can figure an alternative way to confirm the relationship holds."
   ]
  },
  {
   "cell_type": "code",
   "execution_count": 48,
   "id": "518f6394",
   "metadata": {},
   "outputs": [
    {
     "name": "stdout",
     "output_type": "stream",
     "text": [
      "[[0.5]\n",
      " [0. ]]\n",
      "[[ 0. ]\n",
      " [-0.5]]\n"
     ]
    }
   ],
   "source": [
    "# compute product of Sz and ket_alpha\n",
    "Sz_ket_a = np.dot(Sz, ket_alpha)\n",
    "\n",
    "# compute product of Sz and ket_beta\n",
    "Sz_ket_b = np.dot(Sz, ket_beta)\n",
    "\n",
    "# print product of Sz and ket_alpha\n",
    "print(Sz_ket_a)\n",
    "\n",
    "# print product of Sz and ket_beta\n",
    "print(Sz_ket_b)"
   ]
  },
  {
   "cell_type": "markdown",
   "id": "5ebbd429",
   "metadata": {},
   "source": [
    "## Hermitian matrices \n",
    "The matrix representations of operators in quantum mechanics are called Hermitian matrices.  Hermitian matrices have the special relationship that they are equal to their adjoint (i.e., their complex conjugate transpose).  \n",
    "\n",
    "You can confirm that $\\mathbb{S}_z$ is Hermitian by the following syntax:\n",
    "\n",
    "`Sz_adjoint = Sz.conj().T`\n",
    "`print(np.allclose(Sz_adjoint, Sz))`\n",
    "\n",
    "where the first line computes the adjoint of $\\mathbb{S}_z$ and stores it to a variable `Sz_adjoint` and \n",
    "the second line prints the result of comparing all elements of `Sz_adjoint` to `Sz`.  The return value of `True` will\n",
    "indicate that `Sz_adjoint` is numerically equal to `Sz`."
   ]
  },
  {
   "cell_type": "code",
   "execution_count": 49,
   "id": "d2c7ec8b",
   "metadata": {},
   "outputs": [
    {
     "name": "stdout",
     "output_type": "stream",
     "text": [
      "True\n"
     ]
    }
   ],
   "source": [
    "# Confirm Sz is Hermitian here\n",
    "Sz_adjoint = Sz.conj().T \n",
    "print(np.allclose(Sz_adjoint, Sz))"
   ]
  },
  {
   "attachments": {},
   "cell_type": "markdown",
   "id": "b561924d",
   "metadata": {},
   "source": [
    "## Eigenvalues and eigenvectors\n",
    "An important property of Hermitian matrices is that their eigevalues are real numbers.  In quantum mechanics, we associate the possible outcomes of measurements with the eigenvalues of Hermitian operators corresponding to the observable being measured.  In this notebook, we have been talking about the observable of spin angular momentum, which is a vector quantity. We have been specifically looking at the operators and eigenstates related to the z-component of spin angular momentum, denoted $S_z$. We have seen that this operator has two eigenstates, \n",
    "$|\\chi_{\\alpha}^{(z)}\\rangle$ and $|\\chi_{\\beta}^{(z)}\\rangle$ with associated eigenvalues $\\frac{\\hbar}{2}$ and $-\\frac{\\hbar}{2}$, which are both real numbers.  \n",
    "\n",
    "These relationships are preserved when we use the matrix - vector representation of operators and eigenstates.  In general, an eigenvalue equation with matrices and vectors satisfies\n",
    "\n",
    "$$ \\mathbb{M} \\bf{x} = \\lambda \\bf{x} $$\n",
    "\n",
    "where $\\lambda$ is an eigenvalue (which is a number) and $\\bf{x}$ is an eigenvector.  One way of interpreting these equations is to say that the action of a matrix on its eigenvectors is simply to scale the magnitude of the vector by a number (specifically, scale it by its eigenvalue).  This is a very special situation, because typically speaking, when a vector is multiplied by a matrix, the result is a new vector that points along a new direction and has a different magnitude.  For a lovely explanation with graphical illustrations, please consult [this vide](https://youtu.be/PFDu9oVAE-g).  In fact, the entire 3b1b series on linear algebra is wonderful!\n",
    "\n",
    "We have already seen that vectors associated with the basis kets $|\\chi_{\\alpha}^{(z)}\\rangle$ and $|\\chi_{\\beta}^{(z)}\\rangle$ obey this relationship with $\\mathbb{S}_z$.  What we will now do, is consider the matrices associated with the spin angular momentum components along $x$ and $y$.  We will first see that the \n",
    "basis kets $|\\chi_{\\alpha}^{(z)}\\rangle$ and $|\\chi_{\\beta}^{(z)}\\rangle$ are not eigenvectors of $\\mathbb{S}_x$ and $\\mathbb{S}_y$.  We will then use numpy's linear algebra sub-library to compute the eigenvalues and eigenvectors of these matrices, which will turn out to be linear combinations of $|\\chi_{\\alpha}^{(z)}\\rangle$ and $|\\chi_{\\beta}^{(z)}\\rangle$.  \n",
    "\n",
    "### Build matrix form of $\\mathbb{S}_x$ and $\\mathbb{S}_y$\n",
    "The operator $\\hat{S}_x$ has the matrix form\n",
    "\\begin{equation}\n",
    "\\mathbb{S}_x = \\frac{\\hbar}{2}\n",
    "\\begin{bmatrix}\n",
    "  0 & 1 \\\\\n",
    "  1 & 0 \\\\\n",
    "\\end{bmatrix}\n",
    "\\end{equation}\n",
    "and the operator $\\hat{S}_y$ has the matrix form\n",
    "\\begin{equation}\n",
    "\\mathbb{S}_y = \\frac{\\hbar}{2}\n",
    "\\begin{bmatrix}\n",
    "  0 & -i \\\\\n",
    "  i & 0 \\\\\n",
    "\\end{bmatrix}.\n",
    "\\end{equation}\n",
    "\n",
    "**Hint** The imaginary unit $i = \\sqrt{-1}$ can be accessed as `1j` in python."
   ]
  },
  {
   "cell_type": "code",
   "execution_count": 50,
   "id": "76254128",
   "metadata": {},
   "outputs": [
    {
     "name": "stdout",
     "output_type": "stream",
     "text": [
      "[[0.  0.5]\n",
      " [0.5 0. ]]\n",
      "[[0.+0.j  0.-0.5j]\n",
      " [0.+0.5j 0.+0.j ]]\n"
     ]
    }
   ],
   "source": [
    "# insert code to build Sx\n",
    "Sx = hbar/2 * np.array([[0, 1], [1, 0]])\n",
    "\n",
    "# insert code to build Sy\n",
    "Sy = hbar/2 * np.array([[0, -1j], [1j, 0]])\n",
    "\n",
    "# print Sx\n",
    "print(Sx)\n",
    "\n",
    "# print Sy\n",
    "print(Sy)"
   ]
  },
  {
   "cell_type": "markdown",
   "id": "92c6ceee",
   "metadata": {},
   "source": [
    "### Take matrix-vector product of $\\mathbb{S}_x$ and $\\mathbb{S}_y$ with the basis kets\n",
    "Just as we did with $\\mathbb{S}_z$, take the following matrix-vector products:\n",
    "$$ \\mathbb{S}_x |\\chi_{\\alpha}^{(z)}\\rangle $$\n",
    "$$ \\mathbb{S}_x |\\chi_{\\beta}^{(z)}\\rangle $$\n",
    "$$ \\mathbb{S}_y |\\chi_{\\alpha}^{(z)}\\rangle $$\n",
    "$$ \\mathbb{S}_y |\\chi_{\\beta}^{(z)}\\rangle $$\n",
    "\n",
    "**Question 1:** After inspecting the results of each matrix-vector product, do you think the basis kets are eigenstates of \n",
    "$\\mathbb{S}_x$ and $\\mathbb{S}_y$?  Explain your reasoning.\n",
    "\n",
    "**Question 2:** What is the shape of the result of each matrix-vector product?\n"
   ]
  },
  {
   "cell_type": "code",
   "execution_count": 51,
   "id": "11d5d8ff",
   "metadata": {},
   "outputs": [
    {
     "name": "stdout",
     "output_type": "stream",
     "text": [
      "[[0. ]\n",
      " [0.5]]\n",
      "[[0.5]\n",
      " [0. ]]\n",
      "[[0.+0.j ]\n",
      " [0.+0.5j]]\n",
      "[[0.-0.5j]\n",
      " [0.+0.j ]]\n"
     ]
    }
   ],
   "source": [
    "# compute product of Sx and ket_alpha and store to Sx_ket_a; print it\n",
    "Sx_ket_a = np.dot(Sx, ket_alpha)\n",
    "print(Sx_ket_a)\n",
    "\n",
    "# compute product of Sx and ket_beta and store to Sx_ket_b; print it\n",
    "Sx_ket_b = np.dot(Sx, ket_beta)\n",
    "print(Sx_ket_b)\n",
    "\n",
    "# compute product of Sy and ket_beta and store to Sy_ket_b; print it\n",
    "Sy_ket_a = np.dot(Sy, ket_alpha)\n",
    "print(Sy_ket_a)\n",
    "\n",
    "# compute product of Sy and ket_alpha and store to Sy_ket_b; print it\n",
    "Sy_ket_b = np.dot(Sy, ket_beta)\n",
    "print(Sy_ket_b)\n",
    "\n"
   ]
  },
  {
   "cell_type": "markdown",
   "id": "2d5951ef",
   "metadata": {},
   "source": [
    "### Use `eigh()` to compute the eigenvectors and eigenvalues of $\\mathbb{S}_x$ and $\\mathbb{S}_y$\n",
    "Numpy has a linear algebra library that can compute eigenvalues and eigenvectors of Hermitian matrices that is called using the syntax\n",
    "\n",
    "`eigenvalues, eigenvectors = la.eigh(M)`\n",
    "\n",
    "where `eigenvalues` will store all of the eigenvectors and `eigenvectors` will store all the eigenvectors.  \n",
    "Use this method to compute the eigenvalues and eigenvectors of $\\mathbb{S}_x$ and $\\mathbb{S}_y$.\n",
    "\n",
    "**Note** A namedtuple with the following attributes:\n",
    "eigenvectors[:, i] is the normalized eigenvector corresponding to the eigenvalue eigenvalues[i].\n",
    "\n",
    "\n",
    "**Question 3:** What is the shape of the vals_x?  What is the shape of vecs_x?\n",
    "\n",
    "**Question 4:** Do these matrices have the same eigenvalues as $\\mathbb{S}_z$?  Do they have the same eigenvectors as $\\mathbb{S}_z$?"
   ]
  },
  {
   "cell_type": "code",
   "execution_count": 52,
   "id": "17bda9c5",
   "metadata": {},
   "outputs": [
    {
     "name": "stdout",
     "output_type": "stream",
     "text": [
      "(2,)\n",
      "(2, 2)\n",
      "[-0.5  0.5]\n",
      "[[-0.70710678  0.70710678]\n",
      " [ 0.70710678  0.70710678]]\n",
      "[-0.5  0.5]\n",
      "[[-0.70710678+0.j         -0.70710678+0.j        ]\n",
      " [ 0.        +0.70710678j  0.        -0.70710678j]]\n"
     ]
    }
   ],
   "source": [
    "# compute eigenvectors and eigenvalues of Sx, store them to vals_x, vecs_x\n",
    "vals_x, vecs_x = la.eigh(Sx)\n",
    "\n",
    "# compute eigenvectors and eigenvalues of Sy, store them to vals_y, vecs_y\n",
    "vals_y, vecs_y = la.eigh(Sy)\n",
    "\n",
    "# print shape of vals_x\n",
    "print(np.shape(vals_x))\n",
    "\n",
    "# print shape of vecs_x\n",
    "print(np.shape(vecs_x))\n",
    "\n",
    "print(vals_x)\n",
    "print(vecs_x)\n",
    "print(vals_y)\n",
    "print(vecs_y)"
   ]
  },
  {
   "cell_type": "markdown",
   "id": "8a1f741d",
   "metadata": {},
   "source": [
    "### Expectation values\n",
    "Another important operation in quantum mechanics is the computation of an expectation value, which can be written as a bra-ket sandwiching an operator:\n",
    "\n",
    "$$ \\langle n | \\hat{O}| m \\rangle. $$\n",
    "\n",
    "The result will depend on what $\\hat{O}$ does to $|m\\rangle$, and how the resulting ket projects upon $\\langle n|$.\n",
    "\n",
    "We can use the different eigenvectors from our last block as kets, and their adjoints as bras, along with the matrix form of the operators to compute these operations.  \n",
    "\n",
    "`ket_x_0 = vecs_x[:,0]`\n",
    "\n",
    "`bra_x_0 = ket_x_0.conj().T`\n",
    "\n",
    "`expectation_value = np.dot(bra_x_0, np.dot(Sx, ket_x_0))`\n",
    "\n",
    "**Question 5:** If we associate $|\\chi_{\\alpha}^{(x)}\\rangle$ with `vec_x[:,1]`, what is the expectation value corresponding to $\\langle \\chi_{\\alpha}^{(x)} | \\hat{S}_x | \\chi_{\\alpha}^{(x)} \\rangle $?\n",
    "\n",
    "**Question 6:** If we associate $|\\chi_{\\alpha}^{(y)}\\rangle$ with `vec_y[:,1]`, what is the expectation value corresponding to $\\langle \\chi_{\\alpha}^{(y)} | \\hat{S}_z | \\chi_{\\alpha}^{(y)} \\rangle $?"
   ]
  },
  {
   "cell_type": "code",
   "execution_count": 53,
   "id": "050dc8c3",
   "metadata": {},
   "outputs": [],
   "source": [
    "# Compute <alpha_x|Sx|alpha_x>; print the result\n",
    "\n",
    "# Compute <alpha_y|Sz|alpha_y>; print the result"
   ]
  },
  {
   "cell_type": "markdown",
   "id": "f4f73b71",
   "metadata": {},
   "source": [
    "### Commutators\n",
    "We will learn later in 3141 about generalized uncertainty relations.  An important mathematical operation in formulation of uncertainty relations is the commutator, which can be taken between two operators or two matrices representing operators.  The commutator between operators $\\hat{A}$ and $\\hat{B}$ can be written as\n",
    "\n",
    "$$ [\\hat{A}, \\hat{B}] = \\hat{A} \\hat{B} - \\hat{B} \\hat{A} $$,\n",
    "and the same relation holds for the matrix form of the operators.\n",
    "A few things we should note about commutators right now is:\n",
    "1. If the equation above goes to zero, we say the operators commute\n",
    "2. If the equation above is not zero, we say the operators do not commute\n",
    "3. Commuting operators share the same set of eigenstates, and their matrix representations share the same set of eigenvectors\n",
    "4. Commuting operators are related to special pairs of observables that are called compatibile observables; we can simultaneously know the value of compatible observables with unlimited precision\n",
    "5. Operators that do not commute correspond to pairs of observables that are not compatible, there are strict limits on the precision with which we can simultaneously know the values of incompatible observables.\n",
    "\n",
    "The spin operators, and their corresponding matrices, obey the following commutation relations:\n",
    "\n",
    "$$[\\hat{S}_x, \\hat{S}_y] = i\\hbar \\hat{S}_z $$\n",
    "\n",
    "$$[\\hat{S}_y, \\hat{S}_z] = i\\hbar \\hat{S}_x $$\n",
    "\n",
    "$$[\\hat{S}_z, \\hat{S}_x] = i\\hbar \\hat{S}_y $$\n",
    "\n",
    "**Question 7:** Are the observables corresponding to $\\hat{S}_x$ compatible with the observables corresponding to $\\hat{S}_y$?  Explain your reasoning.\n",
    "\n",
    "**Question 8:** Confirm that the matrices $\\mathbb{S}_x$, $\\mathbb{S}_y$, and $\\mathbb{S}_z$ obey the same commutation relations as shown above.  The syntax for computing matrix products is either `np.dot(A,B)` or equivalently `A @ B`:\n",
    "\n",
    "`SxSy = np.dot(Sx, Sy)`\n",
    "\n",
    "is the same as \n",
    "\n",
    "`SxSy = Sx @ Sy`\n",
    "\n"
   ]
  },
  {
   "cell_type": "code",
   "execution_count": null,
   "id": "fdc47d36",
   "metadata": {},
   "outputs": [],
   "source": []
  }
 ],
 "metadata": {
  "kernelspec": {
   "display_name": "Python 3 (ipykernel)",
   "language": "python",
   "name": "python3"
  },
  "language_info": {
   "codemirror_mode": {
    "name": "ipython",
    "version": 3
   },
   "file_extension": ".py",
   "mimetype": "text/x-python",
   "name": "python",
   "nbconvert_exporter": "python",
   "pygments_lexer": "ipython3",
   "version": "3.9.13"
  }
 },
 "nbformat": 4,
 "nbformat_minor": 5
}
