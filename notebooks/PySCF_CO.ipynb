{
 "cells": [
  {
   "cell_type": "markdown",
   "metadata": {
    "id": "xU4AB7h-tmqV"
   },
   "source": [
    "## Ab initio PES\n",
    "\n",
    "The Hamiltonian for the Morse oscillator can be written as\n",
    "\\begin{equation}\n",
    "̂\\hat{H} = -\\frac{\\hbar^2}{2\\mu} \\frac{d^2}{dr^2} + V_{Morse}(r), \\tag{1}\n",
    "\\end{equation}\n",
    "where \n",
    "\\begin{equation}\n",
    "V_{Morse}(r) = D_e \\left(1 - e^{-\\beta(r-r_{eq})} \\right)^2. \\tag{2}\n",
    "\\end{equation}"
   ]
  },
  {
   "cell_type": "code",
   "execution_count": 9,
   "metadata": {
    "id": "JTOVMCd-qaLV"
   },
   "outputs": [
    {
     "name": "stdout",
     "output_type": "stream",
     "text": [
      "r array\n",
      "[0.5        0.59858051 0.69716102 0.79574153 0.89432204 0.99290255\n",
      " 1.09148306 1.19006357 1.28864408 1.38722459 1.4858051  1.58438561\n",
      " 1.68296611 1.78154662 1.88012713 1.97870764 2.07728815 2.17586866\n",
      " 2.27444917 2.37302968 2.47161019 2.5701907  2.66877121 2.76735172\n",
      " 2.86593223 2.96451274 3.06309325 3.16167376 3.26025427 3.35883478\n",
      " 3.45741529 3.5559958  3.65457631 3.75315682 3.85173732 3.95031783\n",
      " 4.04889834 4.14747885 4.24605936 4.34463987 4.44322038 4.54180089\n",
      " 4.6403814  4.73896191 4.83754242 4.93612293 5.03470344 5.13328395\n",
      " 5.23186446 5.33044497]\n",
      "xp array\n",
      "[0.5        0.51396413 0.55565288 0.62445835 0.7193772  0.83902528\n",
      " 0.98165787 1.14519506 1.32725211 1.52517422 1.73607523 1.95687974\n",
      " 2.18436792 2.41522248 2.64607704 2.87356523 3.09436974 3.30527075\n",
      " 3.50319286 3.68524991 3.8487871  3.99141969 4.11106777 4.20598662\n",
      " 4.27479208 4.31648084 4.33044497]\n",
      "1.561062667389548\n",
      "1.5610613707135599\n"
     ]
    },
    {
     "data": {
      "text/plain": [
       "(-0.1, 1.0)"
      ]
     },
     "execution_count": 9,
     "metadata": {},
     "output_type": "execute_result"
    },
    {
     "data": {
      "image/png": "[encoded data removed]",
      "text/plain": [
       "<Figure size 640x480 with 1 Axes>"
      ]
     },
     "metadata": {},
     "output_type": "display_data"
    }
   ],
   "source": [
    "import numpy as np\n",
    "from matplotlib import pyplot as plt\n",
    "from scipy.special import hermite\n",
    "from math import factorial\n",
    "# import pyscf libraries\n",
    "from pyscf import scf\n",
    "import pyscf\n",
    "from pyscf import gto, cc\n",
    "from scipy import interpolate\n",
    "from numpy.polynomial import chebyshev as C\n",
    "\n",
    "# define constants\n",
    "De= 0.4125169968027636\n",
    "r_eq = 2.132177987349192\n",
    "beta = 1.3755432414187434\n",
    "k_morse = 2 * De * beta ** 2\n",
    "\n",
    "# minimum and max x-values to evaluate Morse on\n",
    "xp_0 = 0.5\n",
    "xp_Nml = 2.5 * r_eq\n",
    "\n",
    "# uniform array of bondlength values\n",
    "r_array = np.linspace(xp_0, xp_Nml, 50)\n",
    "\n",
    "# N - order of polynomial\n",
    "N = 27\n",
    "\n",
    "# k-coordinate for Libatto grid\n",
    "k = np.linspace(0, N-1, N, dtype=int)\n",
    "# Libatto grid on domain [-1,1]\n",
    "xk = -np.cos(k * np.pi / (N - 1))\n",
    "\n",
    "# transformation of Libatto grid to xp grid -> xp = m*xk + b\n",
    "b = (xp_Nml - xp_0) / 2\n",
    "slope = b - xp_0\n",
    "\n",
    "xp_array = slope * xk + b\n",
    "\n",
    "print(\"r array\")\n",
    "print(r_array)\n",
    "print(\"xp array\")\n",
    "print(xp_array)\n",
    "\n",
    "# array of Morse potential values\n",
    "V_Morse = De * (1 - np.exp(-beta * (r_array - r_eq))) ** 2\n",
    "V_Libatto = De * (1 - np.exp(-beta * (xp_array - r_eq))) ** 2\n",
    "\n",
    "\n",
    "c, stats = C.chebfit(xp_array, V_Libatto, N, full=True)\n",
    "  \n",
    "#print('coefficients are :'+str(c))\n",
    "#print('residuals '+str(stats[0]))\n",
    "#print('rank :'+str(stats[1]))\n",
    "#print('singular_values :'+str(stats[2]))\n",
    "#print('rcond: '+str(stats[3]))\n",
    "\n",
    "fit = C.chebval(xp_array, c, tensor=True)\n",
    "\n",
    "c_pp = C.chebder(c, m=2, scl=1)\n",
    "k_cheb = C.chebval(r_eq, c_pp)\n",
    "\n",
    "print(k_morse)\n",
    "print(k_cheb)\n",
    "print(\"\")\n",
    "\n",
    "plt.plot(r_array, V_Morse, 'b*')\n",
    "plt.plot(xp_array, V_Libatto, 'ro')\n",
    "plt.ylim(-0.1, 1)\n",
    "\n"
   ]
  },
  {
   "cell_type": "code",
   "execution_count": null,
   "metadata": {
    "colab": {
     "base_uri": "https://localhost:8080/",
     "height": 455
    },
    "id": "HxgpswEKukeK",
    "outputId": "ddc09367-d77b-42a9-989e-792eb77895e7"
   },
   "outputs": [],
   "source": [
    "# plot the Morse potential\n",
    "plt.plot(r_array, V_Morse, label=\"V$_{Morse}$\")\n",
    "plt.ylabel(\"Potential (a.u.)\")\n",
    "plt.xlabel(\"Bondlength (Bohr)\")\n",
    "plt.xlim(0.5 * r_eq, 2 * r_eq)\n",
    "plt.ylim(0, 1)\n",
    "plt.legend()\n",
    "plt.show()"
   ]
  },
  {
   "cell_type": "markdown",
   "metadata": {
    "id": "WJipcbeNw5BS"
   },
   "source": [
    "# Install pyscf quantum chemistry package"
   ]
  },
  {
   "cell_type": "code",
   "execution_count": null,
   "metadata": {
    "colab": {
     "base_uri": "https://localhost:8080/"
    },
    "id": "AS_N7lcam8SP",
    "outputId": "c8b4acbc-6fd4-4a52-b883-d15ac59c0088"
   },
   "outputs": [],
   "source": [
    "!pip install pyscf"
   ]
  },
  {
   "cell_type": "markdown",
   "metadata": {
    "id": "Y4GNiBXuw9iB"
   },
   "source": [
    "# Run a quick potential energy scan of the CO molecule"
   ]
  },
  {
   "cell_type": "code",
   "execution_count": null,
   "metadata": {
    "colab": {
     "base_uri": "https://localhost:8080/"
    },
    "id": "XkV3Eoaqn0_A",
    "outputId": "51ab93af-f40e-4fef-dac2-859ddbdaf8e6"
   },
   "outputs": [],
   "source": [
    "\n",
    "\n",
    "\n",
    "\n",
    "# define molecule class\n",
    "mol = gto.Mole()\n",
    "# use Bohr units for the geometry\n",
    "mol.unit = 'B'\n",
    "# create a base geometry string that we can modify to perform the scan\n",
    "mol_base = '''\n",
    "    C   0. 0. 0.\n",
    "    O  0. 0.  **R**\n",
    "'''\n",
    "\n",
    "# perform the scan over the values in r_array \n",
    "RHF_E_array = []\n",
    "RHF_E_array_offset = []\n",
    "#CCSD_E_array = []\n",
    "mol.basis = 'ccpvdz'\n",
    "for r in r_array:\n",
    "  mol_str = mol_base.replace(\"**R**\", str(r))\n",
    "  mol.atom = mol_str\n",
    "  mol.build()\n",
    "  myhf = mol.HF()\n",
    "  myhf.kernel()\n",
    "  #mycc = cc.CCSD(myhf).run()\n",
    "  #print('CCSD total energy', mycc.e_tot)\n",
    "  #et = mycc.ccsd_t()\n",
    "  \n",
    "  #append to E_array - offset by minimum energy to align with Morse model\n",
    "  RHF_E_array_offset.append(myhf.e_tot+112.75014721195242)\n",
    "  #CCSD_E_array.append(mycc.e_tot  + et)\n",
    "  RHF_E_array.append(myhf.e_tot)\n",
    "  \n"
   ]
  },
  {
   "cell_type": "code",
   "execution_count": null,
   "metadata": {
    "colab": {
     "base_uri": "https://localhost:8080/",
     "height": 455
    },
    "id": "wGnJoGYXyrpY",
    "outputId": "403b7bac-91f2-4686-c61d-5517581f95b8"
   },
   "outputs": [],
   "source": [
    "#ccnp = np.array(CCSD_E_array)\n",
    "#ccnp += 112.749832486117\n",
    "# plot the PES against the Morse model\n",
    "plt.plot(r_array, RHF_E_array_offset, color=\"red\", label='V$_{HF}$')\n",
    "#plt.plot(r_array, CCSD_E_array, color=\"blue\", label=\"V$_{Morse}$\")\n",
    "plt.ylabel(\"Potential (a.u.)\")\n",
    "plt.xlabel(\"Bondlength (Bohr)\")\n",
    "plt.xlim(1.25, 3)\n",
    "plt.ylim(0, 1)\n",
    "#plt.ylim(-113.25, -112.2)\n",
    "plt.legend()\n",
    "plt.show()\n"
   ]
  },
  {
   "cell_type": "code",
   "execution_count": null,
   "metadata": {
    "colab": {
     "base_uri": "https://localhost:8080/"
    },
    "id": "F62LXjOtiWtz",
    "outputId": "bd12e0b5-a28b-40af-fad8-3486539eb146"
   },
   "outputs": [],
   "source": [
    "# get the equilibrium bond length from each level of theory\n",
    "RHF_E_array_np = np.array(RHF_E_array)\n",
    "#CC_E_array_np = np.array(CCSD_E_array)\n",
    "\n",
    "\n",
    "#hf_idx = np.argmin(RHF_E_array_np)\n",
    "hf_idx = np.argmin(V_Morse)\n",
    "\n",
    "r_eq_hf = r_array[hf_idx]\n",
    "\n",
    "#cc_idx = np.argmin(CC_E_array_np)\n",
    "#r_eq_cc = r_array[cc_idx]\n",
    "\n",
    "# HF equilibrium r in atomic units\n",
    "print(r_eq_hf)\n",
    "#print(r_eq_cc)\n",
    "#V0_hf = RHF_E_array[hf_idx]\n",
    "V0_hf = V_Morse[hf_idx]\n",
    "print(V0_hf)\n",
    "\n",
    "dr = r_array[hf_idx + 1] - r_array[hf_idx - 1]\n",
    "dV = V_Morse[hf_idx + 1] - V_Morse[hf_idx - 1]\n",
    "k = dV/dr\n",
    "print(k)"
   ]
  },
  {
   "cell_type": "code",
   "execution_count": null,
   "metadata": {},
   "outputs": [],
   "source": [
    "print(r_array[250:350])\n",
    "plt.plot(r_array[250:350], V_Morse[250:350], color=\"red\", label='V$_{HF}$')\n",
    "#plt.plot(r_array, CCSD_E_array, color=\"blue\", label=\"V$_{Morse}$\")\n",
    "plt.ylabel(\"Potential (a.u.)\")\n",
    "plt.xlabel(\"Bondlength (Bohr)\")\n",
    "plt.xlim(1.25, 3)\n",
    "plt.ylim(0, 1)\n",
    "#plt.ylim(-113.25, -112.2)\n",
    "plt.legend()\n",
    "plt.show()\n"
   ]
  },
  {
   "cell_type": "code",
   "execution_count": null,
   "metadata": {
    "id": "4Z8agYfojzFg"
   },
   "outputs": [],
   "source": [
    "# compute k of HF using centered fininte differences\n",
    "#rhf_spline = interpolate.UnivariateSpline(r_array, RHF_E_array, k=3)\n",
    "rhf_spline = interpolate.UnivariateSpline(r_array[250:350], V_Morse[250:350], k=3)\n",
    "#cc_spline = interpolate.UnivariateSpline(r_array, CC_E_array_np, k=4)\n",
    "\n",
    "rhf_f_spline = rhf_spline.derivative()\n",
    "#cc_f_spline = cc_spline.derivative()\n",
    "\n",
    "rhf_c_spline = rhf_f_spline.derivative()\n",
    "#cc_c_spline = cc_f_spline.derivative()\n",
    "\n",
    "k_hf = rhf_c_spline(r_eq_hf)\n",
    "#k_cc = cc_c_spline(r_eq_cc)\n",
    "\n",
    "print(k_hf)\n",
    "#print(k_cc)\n",
    "\n",
    "# compute Harmonic potential\n",
    "V_hf_harm = 0.5 * k_hf * (r_array - r_eq_hf) ** 2 # + rhf_spline(r_eq_hf)\n",
    "\n",
    "# get reduced mass of CO\n",
    "m_O = 1836. * 16.\n",
    "m_C = 1836. * 12.01\n",
    "mu = (m_O * m_C)/(m_O + m_C)\n",
    "print(mu)\n",
    "# compute fundamental frequencies -> atomic units right now\n",
    "nu_hf = 1 / (2 * np.pi) * np.sqrt( k_hf / mu)\n",
    "#nu_cc = 1 / (2 * np.pi) * np.sqrt( k_cc / mu)"
   ]
  },
  {
   "cell_type": "code",
   "execution_count": null,
   "metadata": {
    "id": "W1yMHvSAiIoc"
   },
   "outputs": [],
   "source": [
    "def compute_alpha(k, mu, hbar):\n",
    "    \"\"\" Helper function to compute \\alpha = \\sqrt{k * \\omega / \\hbar}\n",
    "    \n",
    "    Arguments\n",
    "    ---------\n",
    "    k : float\n",
    "        the Harmonic force constant\n",
    "        \n",
    "    mu : float\n",
    "        the reduced mass\n",
    "        \n",
    "    hbar : float\n",
    "        reduced planck's constant\n",
    "        \n",
    "    Returns\n",
    "    -------\n",
    "    alpha : float\n",
    "        \\alpha = \\sqrt{k * \\omega / \\hbar}\n",
    "    \n",
    "    \"\"\"\n",
    "    # compute omega\n",
    "    omega = np.sqrt( k / mu )\n",
    "    \n",
    "    # compute alpha\n",
    "    alpha =  mu * omega / hbar\n",
    "    \n",
    "    # return alpha\n",
    "    return alpha\n",
    "\n",
    "def N(n, alpha):\n",
    "    \"\"\" Helper function to take the quantum number n of the Harmonic Oscillator and return the normalization constant\n",
    "        \n",
    "    Arguments\n",
    "    ---------\n",
    "    n : int\n",
    "        the quantum state of the harmonic oscillator\n",
    "        \n",
    "    Returns\n",
    "    -------\n",
    "    N_n : float\n",
    "        the normalization constant\n",
    "    \"\"\"\n",
    "    \n",
    "    return  np.sqrt( 1 / (2 ** n * factorial(n)) ) * ( alpha / np.pi ) ** (1/4) \n",
    "\n",
    "def psi(n, alpha, r, r_eq):\n",
    "    \"\"\" Helper function to evaluate the Harmonic Oscillator energy eigenfunction for state n\n",
    "        \n",
    "    Arguments\n",
    "    ---------\n",
    "    n : int\n",
    "        the quantum state of the harmonic oscillator\n",
    "        \n",
    "    alpha : float\n",
    "        alpha value\n",
    "        \n",
    "    \n",
    "    r : float\n",
    "        position at which psi_n will be evaluated\n",
    "        \n",
    "    r_eq : float\n",
    "        equilibrium bondlength\n",
    "        \n",
    "    Returns\n",
    "    -------\n",
    "    psi_n : float\n",
    "        value of the harmonic oscillator energy eigenfunction\n",
    "        \n",
    "    \"\"\"\n",
    "    \n",
    "    Hr = hermite(n)\n",
    "    \n",
    "    psi_n = N(n, alpha) * Hr( np.sqrt(alpha) * ( r - r_eq )) * np.exp( -0.5 * alpha  * (r - r_eq)**2)\n",
    "    \n",
    "    return psi_n\n",
    "\n",
    "def harmonic_eigenvalue(n, k, mu, hbar):\n",
    "    \"\"\" Helper function to evaluate the energy eigenvalue of the harmonic oscillator for state n\"\"\"\n",
    "    \n",
    "    return hbar * np.sqrt(k/mu) * (n + 1/2)\n",
    "\n",
    "def morse_eigenvalue(n, k, mu, De, hbar):\n",
    "    \"\"\" Helper function to evaluate the energy eigenvalue of the Morse oscillator for state n\"\"\"\n",
    "    \n",
    "    omega = np.sqrt( k / mu )\n",
    "    xi = hbar * omega / (4 * De)\n",
    "\n",
    "    return hbar * omega * ( (n + 1/2) - xi * (n + 1/2) ** 2)\n",
    "\n",
    "def potential_matrix_element(n, m, alpha, r, r_eq, V_p):\n",
    "    \"\"\" Helper function to compute <n|V_p|m> where V_p is the perturbing potential\n",
    "    \n",
    "    Arguments\n",
    "    ---------\n",
    "    n : int\n",
    "        quantum number of the bra state\n",
    "        \n",
    "    m : int\n",
    "        quantum number of the ket state\n",
    "        \n",
    "    alpha : float\n",
    "        alpha constant for bra/ket states\n",
    "        \n",
    "    r : float\n",
    "        position grid for bra/ket states\n",
    "        \n",
    "    r_eq : float\n",
    "        equilibrium bondlength for bra/ket states\n",
    "        \n",
    "    V_p : float\n",
    "        potential array\n",
    "        \n",
    "    Returns\n",
    "    -------\n",
    "    V_nm : float\n",
    "        <n | V_p | m > \n",
    "    \n",
    "    \"\"\"\n",
    "    # bra \n",
    "    psi_n = psi(n, alpha, r, r_eq)\n",
    "    \n",
    "    # ket \n",
    "    psi_m = psi(m, alpha, r, r_eq)\n",
    "    \n",
    "    # integrand\n",
    "    integrand = np.conj(psi_n) * V_p * psi_m\n",
    "    \n",
    "    # integrate\n",
    "    V_nm = np.trapz(integrand, r)\n",
    "    \n",
    "    return V_nm"
   ]
  },
  {
   "cell_type": "code",
   "execution_count": null,
   "metadata": {},
   "outputs": [],
   "source": [
    "# compute alpha values in atomic units\n",
    "alpha_hf = compute_alpha(k_hf, mu, 1)\n",
    "#alpha_cc = compute_alpha(k_cc, mu, 1)\n",
    "\n",
    "print(alpha_hf)\n",
    "print(r_eq_hf)\n",
    "# compute psi_0 along the r grid\n",
    "psi_0 = psi(50, alpha_hf, r_array, r_eq_hf)\n",
    "\n",
    "# is it normalized?\n",
    "Integral = np.trapz(psi_0 ** 2, r_array)\n",
    "print(Integral)\n",
    "#assert np.isclose(Integral, 1.0)\n",
    "\n",
    "\n",
    "# Harmonic potential\n",
    "plt.plot(r_array, psi_0, label='$\\psi_0$')\n",
    "plt.plot(r_array, V_hf_harm, label=\"Harmonic potential\")\n",
    "plt.plot(r_array, V_Morse, 'r--', label=\"RHF potential\")\n",
    "plt.xlim(0, 2 * r_eq_hf)\n",
    "plt.ylim(-0.2, 3.0)\n",
    "plt.legend()\n",
    "plt.show()\n"
   ]
  },
  {
   "cell_type": "code",
   "execution_count": null,
   "metadata": {},
   "outputs": [],
   "source": [
    "# fundamental transition energy at HO level\n",
    "fundamental_hf = harmonic_eigenvalue(1, k_hf, mu, 1) - harmonic_eigenvalue(0, k_hf, mu, 1)\n",
    "\n",
    "## fundamental transition energy at Morse level\n",
    "#fundamental_Morse = morse_eigenvalue(1, k, mu_au, De_au, hbar_au) - morse_eigenvalue(0, k, mu_au, De_au, hbar_au)\n",
    "\n",
    "# 1st order correction using the cubic potential\n",
    "pt1 = potential_matrix_element(0, 0, alpha_hf, r_array, r_eq_hf, (V_Morse - V_hf_harm))\n",
    "\n",
    "\n",
    "# 2nd order corrections using cubic and quartic potentials\n",
    "pt2_cubic = 0\n",
    "pt2_quartic = 0\n",
    "\n",
    "# sum over |<j|V'|n>|^2/(Ej-En)\n",
    "for j in range(1, 100):\n",
    "    E_j = harmonic_eigenvalue(j, k_hf, mu, 1)\n",
    "    Vc_j0 = potential_matrix_element(j, 0, alpha_hf, r_array, r_eq_hf, (V_Morse - V_hf_harm))\n",
    "    pt2_cubic += Vc_j0 ** 2 / (fundamental_hf - E_j)\n",
    "    #Vq_j0 = potential_matrix_element(j, 0, alpha, r, r_eq_au, (V_Q - V_H))\n",
    "    #pt2_quartic += Vq_j0 ** 2 / (fundamental_HO - E_j)\n",
    " \n",
    "          "
   ]
  },
  {
   "cell_type": "code",
   "execution_count": null,
   "metadata": {},
   "outputs": [],
   "source": [
    "au_to_wn = 219474.63068\n",
    "print(fundamental_hf * au_to_wn)\n",
    "print(pt1 * au_to_wn)\n",
    "print(pt2_cubic * au_to_wn)"
   ]
  },
  {
   "cell_type": "code",
   "execution_count": null,
   "metadata": {},
   "outputs": [],
   "source": [
    "print((fundamental_hf + pt1 + pt2_cubic) * au_to_wn)"
   ]
  }
 ],
 "metadata": {
  "colab": {
   "provenance": []
  },
  "kernelspec": {
   "display_name": "Python 3 (ipykernel)",
   "language": "python",
   "name": "python3"
  },
  "language_info": {
   "codemirror_mode": {
    "name": "ipython",
    "version": 3
   },
   "file_extension": ".py",
   "mimetype": "text/x-python",
   "name": "python",
   "nbconvert_exporter": "python",
   "pygments_lexer": "ipython3",
   "version": "3.9.13"
  }
 },
 "nbformat": 4,
 "nbformat_minor": 1
}
